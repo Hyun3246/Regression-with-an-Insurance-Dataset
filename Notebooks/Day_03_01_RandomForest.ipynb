{
  "nbformat": 4,
  "nbformat_minor": 0,
  "metadata": {
    "colab": {
      "provenance": []
    },
    "kernelspec": {
      "name": "python3",
      "display_name": "Python 3"
    },
    "language_info": {
      "name": "python"
    }
  },
  "cells": [
    {
      "cell_type": "code",
      "execution_count": 3,
      "metadata": {
        "id": "D5S6l-kyGURw"
      },
      "outputs": [],
      "source": [
        "import pandas as pd\n",
        "df = pd.read_csv('/content/sample_data/01_train.csv')\n",
        "\n",
        "from sklearn.model_selection import train_test_split\n",
        "\n",
        "train_set, test_set_from_train = train_test_split(df, test_size=0.2, random_state=42)\n",
        "\n",
        "# split target and features\n",
        "X_train = train_set.drop('Premium Amount', axis=1)\n",
        "y_train = train_set['Premium Amount'].copy()"
      ]
    },
    {
      "cell_type": "code",
      "source": [
        "from sklearn.ensemble import RandomForestRegressor\n",
        "\n",
        "rnd_reg = RandomForestRegressor(n_estimators=100, max_depth=16, n_jobs=-1, random_state=42)\n",
        "rnd_reg.fit(X_train, y_train)\n",
        "y_pred = rnd_reg.predict(X_train)"
      ],
      "metadata": {
        "id": "dSlIYo6vH-P8"
      },
      "execution_count": 8,
      "outputs": []
    },
    {
      "cell_type": "code",
      "source": [
        "from sklearn.metrics import root_mean_squared_log_error\n",
        "y_pred = rnd_reg.predict(X_train)\n",
        "lin_rmsle = root_mean_squared_log_error(y_train, y_pred)\n",
        "lin_rmsle"
      ],
      "metadata": {
        "colab": {
          "base_uri": "https://localhost:8080/"
        },
        "id": "b7V9nzweIO3y",
        "outputId": "cee0c07d-1150-40d3-bd27-f8d570fa6a4d"
      },
      "execution_count": 9,
      "outputs": [
        {
          "output_type": "execute_result",
          "data": {
            "text/plain": [
              "1.0945890795250337"
            ]
          },
          "metadata": {},
          "execution_count": 9
        }
      ]
    },
    {
      "cell_type": "code",
      "source": [
        "X_test = test_set_from_train.drop('Premium Amount', axis=1)\n",
        "y_test = test_set_from_train['Premium Amount'].copy()"
      ],
      "metadata": {
        "id": "tH-yKC3vIb_f"
      },
      "execution_count": 10,
      "outputs": []
    },
    {
      "cell_type": "code",
      "source": [
        "y_pred = rnd_reg.predict(X_test)\n",
        "lin_rmsle = root_mean_squared_log_error(y_test, y_pred)\n",
        "lin_rmsle"
      ],
      "metadata": {
        "colab": {
          "base_uri": "https://localhost:8080/"
        },
        "id": "Tce3Fg6aIf3G",
        "outputId": "01aa9eb1-db8a-4788-f838-bcd048345eea"
      },
      "execution_count": 11,
      "outputs": [
        {
          "output_type": "execute_result",
          "data": {
            "text/plain": [
              "1.1407646637915043"
            ]
          },
          "metadata": {},
          "execution_count": 11
        }
      ]
    },
    {
      "cell_type": "code",
      "source": [
        "# save final prediction\n",
        "test_set = pd.read_csv('/content/sample_data/01_test.csv')\n",
        "del test_set['Premium Amount']\n",
        "y_pred = rnd_reg.predict(test_set)\n",
        "original_test_set = pd.read_csv('/content/sample_data/test.csv')\n",
        "id = original_test_set['id']\n",
        "final_prediction = pd.DataFrame({'id': id, 'Premium Amount': y_pred})\n",
        "final_prediction.to_csv('rnd_reg_01.csv', index=False)"
      ],
      "metadata": {
        "id": "hRR4GJWzIimj"
      },
      "execution_count": 12,
      "outputs": []
    }
  ]
}