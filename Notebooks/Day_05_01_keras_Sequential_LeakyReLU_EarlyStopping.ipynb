{
  "nbformat": 4,
  "nbformat_minor": 0,
  "metadata": {
    "colab": {
      "provenance": [],
      "gpuType": "T4"
    },
    "kernelspec": {
      "name": "python3",
      "display_name": "Python 3"
    },
    "language_info": {
      "name": "python"
    },
    "accelerator": "GPU"
  },
  "cells": [
    {
      "cell_type": "code",
      "execution_count": 8,
      "metadata": {
        "id": "CZQEdXNjZm1p"
      },
      "outputs": [],
      "source": [
        "import pandas as pd"
      ]
    },
    {
      "cell_type": "code",
      "source": [
        "df = pd.read_csv('/content/sample_data/01_train.csv')\n",
        "\n",
        "from sklearn.model_selection import train_test_split\n",
        "\n",
        "train_set, test_set_from_train = train_test_split(df, test_size=0.2, random_state=42)\n",
        "train_set, dev_set = train_test_split(train_set, test_size=0.2, random_state=42)\n",
        "\n",
        "# split target and features\n",
        "X_train = train_set.drop('Premium Amount', axis=1)\n",
        "y_train = train_set['Premium Amount'].copy()\n",
        "X_valid = dev_set.drop('Premium Amount', axis=1)\n",
        "y_valid = dev_set['Premium Amount'].copy()"
      ],
      "metadata": {
        "id": "HxGzh-C_aiQ2"
      },
      "execution_count": 9,
      "outputs": []
    },
    {
      "cell_type": "code",
      "source": [
        "import tensorflow as tf\n",
        "import tensorflow.keras.backend as K\n",
        "\n",
        "def root_mean_squared_log_error(y_true, y_pred):\n",
        "    msle = tf.keras.losses.MeanSquaredLogarithmicError()\n",
        "    return K.sqrt(msle(y_true, y_pred))"
      ],
      "metadata": {
        "id": "rc4s1Wa1dAwZ"
      },
      "execution_count": 10,
      "outputs": []
    },
    {
      "cell_type": "code",
      "source": [
        "X_train = tf.convert_to_tensor(X_train)\n",
        "y_train = tf.convert_to_tensor(y_train)\n",
        "\n",
        "tf.random.set_seed(42)\n",
        "norm_layer = tf.keras.layers.Normalization(input_shape=X_train.shape[1:])\n",
        "model = tf.keras.Sequential([\n",
        "    norm_layer,\n",
        "    tf.keras.layers.Dense(100, activation='relu'),\n",
        "    tf.keras.layers.Dense(100, activation='relu'),\n",
        "\n",
        "    tf.keras.layers.Dense(100, kernel_initializer=\"he_normal\"),\n",
        "    tf.keras.layers.LeakyReLU(alpha=0.2),\n",
        "\n",
        "    tf.keras.layers.Dense(100, kernel_initializer=\"he_normal\"),\n",
        "    tf.keras.layers.LeakyReLU(alpha=0.2),\n",
        "\n",
        "    tf.keras.layers.Dense(100, kernel_initializer=\"he_normal\"),\n",
        "    tf.keras.layers.LeakyReLU(alpha=0.2),\n",
        "\n",
        "    tf.keras.layers.Dense(1)\n",
        "])\n",
        "optimizer = tf.keras.optimizers.Adam(learning_rate=1e-3)\n",
        "model.compile(loss=root_mean_squared_log_error, optimizer=optimizer)\n",
        "\n",
        "norm_layer.adapt(X_train)\n",
        "history = model.fit(X_train, y_train,\n",
        "                    epochs=100,\n",
        "                    batch_size=100,\n",
        "                    validation_data=(X_valid, y_valid),\n",
        "                    callbacks=[tf.keras.callbacks.EarlyStopping(patience=5)])"
      ],
      "metadata": {
        "colab": {
          "base_uri": "https://localhost:8080/"
        },
        "id": "RPwCRcjmak8R",
        "outputId": "ba27a681-4e0e-4a6b-c7f1-3795b1070ed6"
      },
      "execution_count": 11,
      "outputs": [
        {
          "output_type": "stream",
          "name": "stdout",
          "text": [
            "Epoch 1/100\n"
          ]
        },
        {
          "output_type": "stream",
          "name": "stderr",
          "text": [
            "/usr/local/lib/python3.10/dist-packages/keras/src/layers/preprocessing/tf_data_layer.py:19: UserWarning: Do not pass an `input_shape`/`input_dim` argument to a layer. When using Sequential models, prefer using an `Input(shape)` object as the first layer in the model instead.\n",
            "  super().__init__(**kwargs)\n",
            "/usr/local/lib/python3.10/dist-packages/keras/src/layers/activations/leaky_relu.py:41: UserWarning: Argument `alpha` is deprecated. Use `negative_slope` instead.\n",
            "  warnings.warn(\n"
          ]
        },
        {
          "output_type": "stream",
          "name": "stdout",
          "text": [
            "\u001b[1m7680/7680\u001b[0m \u001b[32m━━━━━━━━━━━━━━━━━━━━\u001b[0m\u001b[37m\u001b[0m \u001b[1m19s\u001b[0m 2ms/step - loss: 1.1797 - val_loss: 1.0853\n",
            "Epoch 2/100\n",
            "\u001b[1m7680/7680\u001b[0m \u001b[32m━━━━━━━━━━━━━━━━━━━━\u001b[0m\u001b[37m\u001b[0m \u001b[1m17s\u001b[0m 2ms/step - loss: 1.0799 - val_loss: 1.0840\n",
            "Epoch 3/100\n",
            "\u001b[1m7680/7680\u001b[0m \u001b[32m━━━━━━━━━━━━━━━━━━━━\u001b[0m\u001b[37m\u001b[0m \u001b[1m16s\u001b[0m 2ms/step - loss: 1.0771 - val_loss: 1.0806\n",
            "Epoch 4/100\n",
            "\u001b[1m7680/7680\u001b[0m \u001b[32m━━━━━━━━━━━━━━━━━━━━\u001b[0m\u001b[37m\u001b[0m \u001b[1m17s\u001b[0m 2ms/step - loss: 1.0730 - val_loss: 1.0773\n",
            "Epoch 5/100\n",
            "\u001b[1m7680/7680\u001b[0m \u001b[32m━━━━━━━━━━━━━━━━━━━━\u001b[0m\u001b[37m\u001b[0m \u001b[1m21s\u001b[0m 2ms/step - loss: 1.0694 - val_loss: 1.0757\n",
            "Epoch 6/100\n",
            "\u001b[1m7680/7680\u001b[0m \u001b[32m━━━━━━━━━━━━━━━━━━━━\u001b[0m\u001b[37m\u001b[0m \u001b[1m16s\u001b[0m 2ms/step - loss: 1.0676 - val_loss: 1.0746\n",
            "Epoch 7/100\n",
            "\u001b[1m7680/7680\u001b[0m \u001b[32m━━━━━━━━━━━━━━━━━━━━\u001b[0m\u001b[37m\u001b[0m \u001b[1m23s\u001b[0m 2ms/step - loss: 1.0667 - val_loss: 1.0740\n",
            "Epoch 8/100\n",
            "\u001b[1m7680/7680\u001b[0m \u001b[32m━━━━━━━━━━━━━━━━━━━━\u001b[0m\u001b[37m\u001b[0m \u001b[1m18s\u001b[0m 2ms/step - loss: 1.0659 - val_loss: 1.0730\n",
            "Epoch 9/100\n",
            "\u001b[1m7680/7680\u001b[0m \u001b[32m━━━━━━━━━━━━━━━━━━━━\u001b[0m\u001b[37m\u001b[0m \u001b[1m21s\u001b[0m 2ms/step - loss: 1.0650 - val_loss: 1.0727\n",
            "Epoch 10/100\n",
            "\u001b[1m7680/7680\u001b[0m \u001b[32m━━━━━━━━━━━━━━━━━━━━\u001b[0m\u001b[37m\u001b[0m \u001b[1m21s\u001b[0m 2ms/step - loss: 1.0644 - val_loss: 1.0730\n",
            "Epoch 11/100\n",
            "\u001b[1m7680/7680\u001b[0m \u001b[32m━━━━━━━━━━━━━━━━━━━━\u001b[0m\u001b[37m\u001b[0m \u001b[1m20s\u001b[0m 2ms/step - loss: 1.0637 - val_loss: 1.0730\n",
            "Epoch 12/100\n",
            "\u001b[1m7680/7680\u001b[0m \u001b[32m━━━━━━━━━━━━━━━━━━━━\u001b[0m\u001b[37m\u001b[0m \u001b[1m19s\u001b[0m 3ms/step - loss: 1.0632 - val_loss: 1.0730\n",
            "Epoch 13/100\n",
            "\u001b[1m7680/7680\u001b[0m \u001b[32m━━━━━━━━━━━━━━━━━━━━\u001b[0m\u001b[37m\u001b[0m \u001b[1m18s\u001b[0m 2ms/step - loss: 1.0627 - val_loss: 1.0727\n",
            "Epoch 14/100\n",
            "\u001b[1m7680/7680\u001b[0m \u001b[32m━━━━━━━━━━━━━━━━━━━━\u001b[0m\u001b[37m\u001b[0m \u001b[1m17s\u001b[0m 2ms/step - loss: 1.0621 - val_loss: 1.0731\n",
            "Epoch 15/100\n",
            "\u001b[1m7680/7680\u001b[0m \u001b[32m━━━━━━━━━━━━━━━━━━━━\u001b[0m\u001b[37m\u001b[0m \u001b[1m16s\u001b[0m 2ms/step - loss: 1.0615 - val_loss: 1.0731\n",
            "Epoch 16/100\n",
            "\u001b[1m7680/7680\u001b[0m \u001b[32m━━━━━━━━━━━━━━━━━━━━\u001b[0m\u001b[37m\u001b[0m \u001b[1m21s\u001b[0m 2ms/step - loss: 1.0610 - val_loss: 1.0736\n",
            "Epoch 17/100\n",
            "\u001b[1m7680/7680\u001b[0m \u001b[32m━━━━━━━━━━━━━━━━━━━━\u001b[0m\u001b[37m\u001b[0m \u001b[1m20s\u001b[0m 2ms/step - loss: 1.0604 - val_loss: 1.0739\n",
            "Epoch 18/100\n",
            "\u001b[1m7680/7680\u001b[0m \u001b[32m━━━━━━━━━━━━━━━━━━━━\u001b[0m\u001b[37m\u001b[0m \u001b[1m17s\u001b[0m 2ms/step - loss: 1.0599 - val_loss: 1.0741\n"
          ]
        }
      ]
    },
    {
      "cell_type": "code",
      "source": [
        "X_test = test_set_from_train.drop('Premium Amount', axis=1)\n",
        "y_test = test_set_from_train['Premium Amount'].copy()\n",
        "X_test = tf.convert_to_tensor(X_test)\n",
        "y_test = tf.convert_to_tensor(y_test)"
      ],
      "metadata": {
        "id": "8H7ZwPmTbuaL"
      },
      "execution_count": 15,
      "outputs": []
    },
    {
      "cell_type": "code",
      "source": [
        "# Reshape y_test if necessary\n",
        "y_test = tf.reshape(y_test, (-1, 1))\n",
        "\n",
        "# Convert y_test to numpy array\n",
        "y_test = y_test.numpy()\n",
        "\n",
        "rmsle_test = model.evaluate(X_test, y_test)"
      ],
      "metadata": {
        "colab": {
          "base_uri": "https://localhost:8080/"
        },
        "id": "28PdyO4ZblV7",
        "outputId": "df319016-7407-416d-b272-007ddb845582"
      },
      "execution_count": 16,
      "outputs": [
        {
          "output_type": "stream",
          "name": "stdout",
          "text": [
            "(240000, 44)\n",
            "(240000,)\n",
            "\u001b[1m7500/7500\u001b[0m \u001b[32m━━━━━━━━━━━━━━━━━━━━\u001b[0m\u001b[37m\u001b[0m \u001b[1m13s\u001b[0m 2ms/step - loss: 1.0613\n"
          ]
        }
      ]
    },
    {
      "cell_type": "code",
      "source": [
        "# save final prediction\n",
        "test_set = pd.read_csv('/content/sample_data/01_test.csv')\n",
        "del test_set['Premium Amount']\n",
        "test_set = tf.convert_to_tensor(test_set)\n",
        "y_pred = model.predict(test_set)"
      ],
      "metadata": {
        "colab": {
          "base_uri": "https://localhost:8080/"
        },
        "id": "-s-PFlTOeeXR",
        "outputId": "770c7edb-3670-46ce-9fbd-5bc65e0d8901"
      },
      "execution_count": 17,
      "outputs": [
        {
          "output_type": "stream",
          "name": "stdout",
          "text": [
            "\u001b[1m25000/25000\u001b[0m \u001b[32m━━━━━━━━━━━━━━━━━━━━\u001b[0m\u001b[37m\u001b[0m \u001b[1m36s\u001b[0m 1ms/step\n"
          ]
        }
      ]
    },
    {
      "cell_type": "code",
      "source": [
        "original_test_set = pd.read_csv('/content/sample_data/test.csv')\n",
        "id = original_test_set['id']\n",
        "y_pred = y_pred.flatten()\n",
        "final_prediction = pd.DataFrame({'id': id, 'Premium Amount': y_pred})\n",
        "final_prediction.to_csv('keras_sequential_04.csv', index=False)"
      ],
      "metadata": {
        "id": "0RifEOWQih2m"
      },
      "execution_count": 18,
      "outputs": []
    }
  ]
}