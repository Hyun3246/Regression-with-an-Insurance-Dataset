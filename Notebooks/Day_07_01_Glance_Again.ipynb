{
 "cells": [
  {
   "cell_type": "code",
   "execution_count": 2,
   "metadata": {
    "execution": {
     "iopub.execute_input": "2024-12-09T07:20:26.186125Z",
     "iopub.status.busy": "2024-12-09T07:20:26.185512Z",
     "iopub.status.idle": "2024-12-09T07:20:26.192529Z",
     "shell.execute_reply": "2024-12-09T07:20:26.190540Z",
     "shell.execute_reply.started": "2024-12-09T07:20:26.186074Z"
    },
    "trusted": true
   },
   "outputs": [],
   "source": [
    "import pandas as pd"
   ]
  },
  {
   "cell_type": "code",
   "execution_count": 3,
   "metadata": {
    "execution": {
     "iopub.execute_input": "2024-12-09T07:20:42.363868Z",
     "iopub.status.busy": "2024-12-09T07:20:42.363465Z",
     "iopub.status.idle": "2024-12-09T07:20:53.183862Z",
     "shell.execute_reply": "2024-12-09T07:20:53.182781Z",
     "shell.execute_reply.started": "2024-12-09T07:20:42.363826Z"
    },
    "trusted": true
   },
   "outputs": [],
   "source": [
    "train = pd.read_csv('/kaggle/input/playground-series-s4e12/train.csv')\n",
    "test = pd.read_csv('/kaggle/input/playground-series-s4e12/test.csv')"
   ]
  },
  {
   "cell_type": "code",
   "execution_count": 4,
   "metadata": {
    "execution": {
     "iopub.execute_input": "2024-12-09T07:20:53.185945Z",
     "iopub.status.busy": "2024-12-09T07:20:53.185604Z",
     "iopub.status.idle": "2024-12-09T07:20:53.194400Z",
     "shell.execute_reply": "2024-12-09T07:20:53.193076Z",
     "shell.execute_reply.started": "2024-12-09T07:20:53.185911Z"
    },
    "trusted": true
   },
   "outputs": [
    {
     "data": {
      "text/plain": [
       "(1200000, 800000)"
      ]
     },
     "execution_count": 4,
     "metadata": {},
     "output_type": "execute_result"
    }
   ],
   "source": [
    "len(train), len(test)"
   ]
  },
  {
   "cell_type": "code",
   "execution_count": 5,
   "metadata": {
    "execution": {
     "iopub.execute_input": "2024-12-09T07:20:54.854770Z",
     "iopub.status.busy": "2024-12-09T07:20:54.853777Z",
     "iopub.status.idle": "2024-12-09T07:20:55.230701Z",
     "shell.execute_reply": "2024-12-09T07:20:55.229129Z",
     "shell.execute_reply.started": "2024-12-09T07:20:54.854729Z"
    },
    "trusted": true
   },
   "outputs": [],
   "source": [
    "df = pd.concat([train, test], axis=0)"
   ]
  },
  {
   "cell_type": "code",
   "execution_count": 6,
   "metadata": {
    "execution": {
     "iopub.execute_input": "2024-12-09T07:21:01.389091Z",
     "iopub.status.busy": "2024-12-09T07:21:01.388638Z",
     "iopub.status.idle": "2024-12-09T07:21:02.526475Z",
     "shell.execute_reply": "2024-12-09T07:21:02.525267Z",
     "shell.execute_reply.started": "2024-12-09T07:21:01.389055Z"
    },
    "trusted": true
   },
   "outputs": [
    {
     "name": "stdout",
     "output_type": "stream",
     "text": [
      "<class 'pandas.core.frame.DataFrame'>\n",
      "Index: 2000000 entries, 0 to 799999\n",
      "Data columns (total 21 columns):\n",
      " #   Column                Non-Null Count    Dtype  \n",
      "---  ------                --------------    -----  \n",
      " 0   id                    2000000 non-null  int64  \n",
      " 1   Age                   1968806 non-null  float64\n",
      " 2   Gender                2000000 non-null  object \n",
      " 3   Annual Income         1925191 non-null  float64\n",
      " 4   Marital Status        1969135 non-null  object \n",
      " 5   Number of Dependents  1817198 non-null  float64\n",
      " 6   Education Level       2000000 non-null  object \n",
      " 7   Occupation            1402800 non-null  object \n",
      " 8   Health Score          1876475 non-null  float64\n",
      " 9   Location              2000000 non-null  object \n",
      " 10  Policy Type           2000000 non-null  object \n",
      " 11  Previous Claims       1393169 non-null  float64\n",
      " 12  Vehicle Age           1999991 non-null  float64\n",
      " 13  Credit Score          1770667 non-null  float64\n",
      " 14  Insurance Duration    1999997 non-null  float64\n",
      " 15  Policy Start Date     2000000 non-null  object \n",
      " 16  Customer Feedback     1869900 non-null  object \n",
      " 17  Smoking Status        2000000 non-null  object \n",
      " 18  Exercise Frequency    2000000 non-null  object \n",
      " 19  Property Type         2000000 non-null  object \n",
      " 20  Premium Amount        1200000 non-null  float64\n",
      "dtypes: float64(9), int64(1), object(11)\n",
      "memory usage: 335.7+ MB\n"
     ]
    }
   ],
   "source": [
    "df.info(show_counts=True)"
   ]
  },
  {
   "cell_type": "code",
   "execution_count": 7,
   "metadata": {
    "execution": {
     "iopub.execute_input": "2024-12-09T07:21:12.746091Z",
     "iopub.status.busy": "2024-12-09T07:21:12.745680Z",
     "iopub.status.idle": "2024-12-09T07:21:12.752495Z",
     "shell.execute_reply": "2024-12-09T07:21:12.751248Z",
     "shell.execute_reply.started": "2024-12-09T07:21:12.746055Z"
    },
    "trusted": true
   },
   "outputs": [],
   "source": [
    "del df['id']\n",
    "del df['Policy Start Date']"
   ]
  },
  {
   "cell_type": "code",
   "execution_count": 8,
   "metadata": {
    "execution": {
     "iopub.execute_input": "2024-12-09T07:21:17.063626Z",
     "iopub.status.busy": "2024-12-09T07:21:17.063234Z",
     "iopub.status.idle": "2024-12-09T07:21:17.074781Z",
     "shell.execute_reply": "2024-12-09T07:21:17.073582Z",
     "shell.execute_reply.started": "2024-12-09T07:21:17.063592Z"
    },
    "trusted": true
   },
   "outputs": [
    {
     "name": "stdout",
     "output_type": "stream",
     "text": [
      "<class 'pandas.core.frame.DataFrame'>\n",
      "Index: 2000000 entries, 0 to 799999\n",
      "Data columns (total 19 columns):\n",
      " #   Column                Dtype  \n",
      "---  ------                -----  \n",
      " 0   Age                   float64\n",
      " 1   Gender                object \n",
      " 2   Annual Income         float64\n",
      " 3   Marital Status        object \n",
      " 4   Number of Dependents  float64\n",
      " 5   Education Level       object \n",
      " 6   Occupation            object \n",
      " 7   Health Score          float64\n",
      " 8   Location              object \n",
      " 9   Policy Type           object \n",
      " 10  Previous Claims       float64\n",
      " 11  Vehicle Age           float64\n",
      " 12  Credit Score          float64\n",
      " 13  Insurance Duration    float64\n",
      " 14  Customer Feedback     object \n",
      " 15  Smoking Status        object \n",
      " 16  Exercise Frequency    object \n",
      " 17  Property Type         object \n",
      " 18  Premium Amount        float64\n",
      "dtypes: float64(9), object(10)\n",
      "memory usage: 305.2+ MB\n"
     ]
    }
   ],
   "source": [
    "df.info()"
   ]
  },
  {
   "cell_type": "code",
   "execution_count": 9,
   "metadata": {
    "execution": {
     "iopub.execute_input": "2024-12-09T07:21:27.266130Z",
     "iopub.status.busy": "2024-12-09T07:21:27.265359Z",
     "iopub.status.idle": "2024-12-09T07:21:27.895870Z",
     "shell.execute_reply": "2024-12-09T07:21:27.894488Z",
     "shell.execute_reply.started": "2024-12-09T07:21:27.266059Z"
    },
    "trusted": true
   },
   "outputs": [
    {
     "name": "stderr",
     "output_type": "stream",
     "text": [
      "/opt/conda/lib/python3.10/site-packages/sklearn/preprocessing/_function_transformer.py:190: UserWarning: The provided functions are not strictly inverse of each other. If you are sure you want to proceed regardless, set 'check_inverse=False'.\n",
      "  warnings.warn(\n",
      "/opt/conda/lib/python3.10/site-packages/sklearn/preprocessing/_function_transformer.py:190: UserWarning: The provided functions are not strictly inverse of each other. If you are sure you want to proceed regardless, set 'check_inverse=False'.\n",
      "  warnings.warn(\n"
     ]
    }
   ],
   "source": [
    "# annual income & premium amount has a long tail -> log transformer\n",
    "from sklearn.preprocessing import FunctionTransformer\n",
    "import numpy as np\n",
    "\n",
    "log_transformer = FunctionTransformer(np.log, inverse_func=np.exp)\n",
    "df['Annual Income'] = log_transformer.fit_transform(df[['Annual Income']])\n",
    "df['Premium Amount'] = log_transformer.fit_transform(df[['Premium Amount']])"
   ]
  },
  {
   "cell_type": "code",
   "execution_count": 10,
   "metadata": {
    "execution": {
     "iopub.execute_input": "2024-12-09T07:21:41.246371Z",
     "iopub.status.busy": "2024-12-09T07:21:41.245779Z",
     "iopub.status.idle": "2024-12-09T07:21:41.744687Z",
     "shell.execute_reply": "2024-12-09T07:21:41.743573Z",
     "shell.execute_reply.started": "2024-12-09T07:21:41.246333Z"
    },
    "trusted": true
   },
   "outputs": [
    {
     "data": {
      "image/png": "[encoded data removed]",
      "text/plain": [
       "<Figure size 640x480 with 2 Axes>"
      ]
     },
     "metadata": {},
     "output_type": "display_data"
    }
   ],
   "source": [
    "import matplotlib.pyplot as plt\n",
    "\n",
    "plt.subplot(1, 2, 1)\n",
    "plt.hist(df['Annual Income'], bins=30, label=\"Annual Income\")\n",
    "# df['Annual Income'].hist(bins=50, figsize=(15,10))\n",
    "\n",
    "plt.subplot(1, 2, 2)\n",
    "plt.hist(df['Premium Amount'], bins=30, label=\"Premium Amount\")\n",
    "\n",
    "plt.show()"
   ]
  },
  {
   "cell_type": "code",
   "execution_count": 11,
   "metadata": {
    "execution": {
     "iopub.execute_input": "2024-12-09T07:21:51.974723Z",
     "iopub.status.busy": "2024-12-09T07:21:51.973604Z",
     "iopub.status.idle": "2024-12-09T07:21:51.985786Z",
     "shell.execute_reply": "2024-12-09T07:21:51.984398Z",
     "shell.execute_reply.started": "2024-12-09T07:21:51.974670Z"
    },
    "trusted": true
   },
   "outputs": [
    {
     "name": "stdout",
     "output_type": "stream",
     "text": [
      "<class 'pandas.core.frame.DataFrame'>\n",
      "Index: 2000000 entries, 0 to 799999\n",
      "Data columns (total 19 columns):\n",
      " #   Column                Dtype  \n",
      "---  ------                -----  \n",
      " 0   Age                   float64\n",
      " 1   Gender                object \n",
      " 2   Annual Income         float64\n",
      " 3   Marital Status        object \n",
      " 4   Number of Dependents  float64\n",
      " 5   Education Level       object \n",
      " 6   Occupation            object \n",
      " 7   Health Score          float64\n",
      " 8   Location              object \n",
      " 9   Policy Type           object \n",
      " 10  Previous Claims       float64\n",
      " 11  Vehicle Age           float64\n",
      " 12  Credit Score          float64\n",
      " 13  Insurance Duration    float64\n",
      " 14  Customer Feedback     object \n",
      " 15  Smoking Status        object \n",
      " 16  Exercise Frequency    object \n",
      " 17  Property Type         object \n",
      " 18  Premium Amount        float64\n",
      "dtypes: float64(9), object(10)\n",
      "memory usage: 305.2+ MB\n"
     ]
    }
   ],
   "source": [
    "df.info()"
   ]
  },
  {
   "cell_type": "code",
   "execution_count": 12,
   "metadata": {
    "execution": {
     "iopub.execute_input": "2024-12-09T07:21:59.479314Z",
     "iopub.status.busy": "2024-12-09T07:21:59.478874Z",
     "iopub.status.idle": "2024-12-09T07:22:02.406784Z",
     "shell.execute_reply": "2024-12-09T07:22:02.405748Z",
     "shell.execute_reply.started": "2024-12-09T07:21:59.479280Z"
    },
    "trusted": true
   },
   "outputs": [],
   "source": [
    "# fill nan by mode\n",
    "for col in df.columns:\n",
    "    if df[col].dtype == 'object':\n",
    "        df[col] = df[col].fillna(df[col].mode()[0])"
   ]
  },
  {
   "cell_type": "code",
   "execution_count": 14,
   "metadata": {
    "execution": {
     "iopub.execute_input": "2024-12-09T07:22:28.111984Z",
     "iopub.status.busy": "2024-12-09T07:22:28.110817Z",
     "iopub.status.idle": "2024-12-09T07:22:29.117220Z",
     "shell.execute_reply": "2024-12-09T07:22:29.116012Z",
     "shell.execute_reply.started": "2024-12-09T07:22:28.111931Z"
    },
    "trusted": true
   },
   "outputs": [
    {
     "name": "stdout",
     "output_type": "stream",
     "text": [
      "<class 'pandas.core.frame.DataFrame'>\n",
      "Index: 2000000 entries, 0 to 799999\n",
      "Data columns (total 19 columns):\n",
      " #   Column                Non-Null Count    Dtype  \n",
      "---  ------                --------------    -----  \n",
      " 0   Age                   1968806 non-null  float64\n",
      " 1   Gender                2000000 non-null  object \n",
      " 2   Annual Income         1925191 non-null  float64\n",
      " 3   Marital Status        2000000 non-null  object \n",
      " 4   Number of Dependents  1817198 non-null  float64\n",
      " 5   Education Level       2000000 non-null  object \n",
      " 6   Occupation            2000000 non-null  object \n",
      " 7   Health Score          1876475 non-null  float64\n",
      " 8   Location              2000000 non-null  object \n",
      " 9   Policy Type           2000000 non-null  object \n",
      " 10  Previous Claims       1393169 non-null  float64\n",
      " 11  Vehicle Age           1999991 non-null  float64\n",
      " 12  Credit Score          1770667 non-null  float64\n",
      " 13  Insurance Duration    1999997 non-null  float64\n",
      " 14  Customer Feedback     2000000 non-null  object \n",
      " 15  Smoking Status        2000000 non-null  object \n",
      " 16  Exercise Frequency    2000000 non-null  object \n",
      " 17  Property Type         2000000 non-null  object \n",
      " 18  Premium Amount        1200000 non-null  float64\n",
      "dtypes: float64(9), object(10)\n",
      "memory usage: 305.2+ MB\n"
     ]
    }
   ],
   "source": [
    "df.info(show_counts=True)"
   ]
  },
  {
   "cell_type": "code",
   "execution_count": 15,
   "metadata": {
    "execution": {
     "iopub.execute_input": "2024-12-09T07:22:47.788377Z",
     "iopub.status.busy": "2024-12-09T07:22:47.787950Z",
     "iopub.status.idle": "2024-12-09T07:22:48.234797Z",
     "shell.execute_reply": "2024-12-09T07:22:48.233716Z",
     "shell.execute_reply.started": "2024-12-09T07:22:47.788342Z"
    },
    "trusted": true
   },
   "outputs": [],
   "source": [
    "# fill nan by median\n",
    "for col in df.columns:\n",
    "    if df[col].dtype == 'float64' and col != 'Premium Amount':\n",
    "        median = df[col].median()\n",
    "        df[col] = df[col].fillna(median)"
   ]
  },
  {
   "cell_type": "code",
   "execution_count": 16,
   "metadata": {
    "execution": {
     "iopub.execute_input": "2024-12-09T07:22:53.676691Z",
     "iopub.status.busy": "2024-12-09T07:22:53.676297Z",
     "iopub.status.idle": "2024-12-09T07:22:54.664586Z",
     "shell.execute_reply": "2024-12-09T07:22:54.663453Z",
     "shell.execute_reply.started": "2024-12-09T07:22:53.676657Z"
    },
    "trusted": true
   },
   "outputs": [
    {
     "name": "stdout",
     "output_type": "stream",
     "text": [
      "<class 'pandas.core.frame.DataFrame'>\n",
      "Index: 2000000 entries, 0 to 799999\n",
      "Data columns (total 19 columns):\n",
      " #   Column                Non-Null Count    Dtype  \n",
      "---  ------                --------------    -----  \n",
      " 0   Age                   2000000 non-null  float64\n",
      " 1   Gender                2000000 non-null  object \n",
      " 2   Annual Income         2000000 non-null  float64\n",
      " 3   Marital Status        2000000 non-null  object \n",
      " 4   Number of Dependents  2000000 non-null  float64\n",
      " 5   Education Level       2000000 non-null  object \n",
      " 6   Occupation            2000000 non-null  object \n",
      " 7   Health Score          2000000 non-null  float64\n",
      " 8   Location              2000000 non-null  object \n",
      " 9   Policy Type           2000000 non-null  object \n",
      " 10  Previous Claims       2000000 non-null  float64\n",
      " 11  Vehicle Age           2000000 non-null  float64\n",
      " 12  Credit Score          2000000 non-null  float64\n",
      " 13  Insurance Duration    2000000 non-null  float64\n",
      " 14  Customer Feedback     2000000 non-null  object \n",
      " 15  Smoking Status        2000000 non-null  object \n",
      " 16  Exercise Frequency    2000000 non-null  object \n",
      " 17  Property Type         2000000 non-null  object \n",
      " 18  Premium Amount        1200000 non-null  float64\n",
      "dtypes: float64(9), object(10)\n",
      "memory usage: 305.2+ MB\n"
     ]
    }
   ],
   "source": [
    "df.info(show_counts=True)"
   ]
  },
  {
   "cell_type": "code",
   "execution_count": 17,
   "metadata": {
    "execution": {
     "iopub.execute_input": "2024-12-09T07:23:03.446599Z",
     "iopub.status.busy": "2024-12-09T07:23:03.446228Z",
     "iopub.status.idle": "2024-12-09T07:23:06.878462Z",
     "shell.execute_reply": "2024-12-09T07:23:06.877239Z",
     "shell.execute_reply.started": "2024-12-09T07:23:03.446569Z"
    },
    "trusted": true
   },
   "outputs": [],
   "source": [
    "df_final = pd.get_dummies(df, dtype='int')"
   ]
  },
  {
   "cell_type": "code",
   "execution_count": 18,
   "metadata": {
    "execution": {
     "iopub.execute_input": "2024-12-09T07:23:09.696729Z",
     "iopub.status.busy": "2024-12-09T07:23:09.696336Z",
     "iopub.status.idle": "2024-12-09T07:23:09.704699Z",
     "shell.execute_reply": "2024-12-09T07:23:09.703386Z",
     "shell.execute_reply.started": "2024-12-09T07:23:09.696696Z"
    },
    "trusted": true
   },
   "outputs": [
    {
     "data": {
      "text/plain": [
       "39"
      ]
     },
     "execution_count": 18,
     "metadata": {},
     "output_type": "execute_result"
    }
   ],
   "source": [
    "len(df_final.columns)"
   ]
  },
  {
   "cell_type": "code",
   "execution_count": 19,
   "metadata": {
    "execution": {
     "iopub.execute_input": "2024-12-09T07:23:15.727295Z",
     "iopub.status.busy": "2024-12-09T07:23:15.726882Z",
     "iopub.status.idle": "2024-12-09T07:23:15.835934Z",
     "shell.execute_reply": "2024-12-09T07:23:15.834689Z",
     "shell.execute_reply.started": "2024-12-09T07:23:15.727261Z"
    },
    "trusted": true
   },
   "outputs": [],
   "source": [
    "train = df_final.iloc[:len(train)]\n",
    "test = df_final.iloc[len(train):]"
   ]
  },
  {
   "cell_type": "code",
   "execution_count": 20,
   "metadata": {
    "execution": {
     "iopub.execute_input": "2024-12-09T07:23:21.113987Z",
     "iopub.status.busy": "2024-12-09T07:23:21.113628Z",
     "iopub.status.idle": "2024-12-09T07:23:21.180349Z",
     "shell.execute_reply": "2024-12-09T07:23:21.179105Z",
     "shell.execute_reply.started": "2024-12-09T07:23:21.113958Z"
    },
    "trusted": true
   },
   "outputs": [
    {
     "name": "stdout",
     "output_type": "stream",
     "text": [
      "<class 'pandas.core.frame.DataFrame'>\n",
      "Index: 1200000 entries, 0 to 1199999\n",
      "Data columns (total 39 columns):\n",
      " #   Column                       Non-Null Count    Dtype  \n",
      "---  ------                       --------------    -----  \n",
      " 0   Age                          1200000 non-null  float64\n",
      " 1   Annual Income                1200000 non-null  float64\n",
      " 2   Number of Dependents         1200000 non-null  float64\n",
      " 3   Health Score                 1200000 non-null  float64\n",
      " 4   Previous Claims              1200000 non-null  float64\n",
      " 5   Vehicle Age                  1200000 non-null  float64\n",
      " 6   Credit Score                 1200000 non-null  float64\n",
      " 7   Insurance Duration           1200000 non-null  float64\n",
      " 8   Premium Amount               1200000 non-null  float64\n",
      " 9   Gender_Female                1200000 non-null  int64  \n",
      " 10  Gender_Male                  1200000 non-null  int64  \n",
      " 11  Marital Status_Divorced      1200000 non-null  int64  \n",
      " 12  Marital Status_Married       1200000 non-null  int64  \n",
      " 13  Marital Status_Single        1200000 non-null  int64  \n",
      " 14  Education Level_Bachelor's   1200000 non-null  int64  \n",
      " 15  Education Level_High School  1200000 non-null  int64  \n",
      " 16  Education Level_Master's     1200000 non-null  int64  \n",
      " 17  Education Level_PhD          1200000 non-null  int64  \n",
      " 18  Occupation_Employed          1200000 non-null  int64  \n",
      " 19  Occupation_Self-Employed     1200000 non-null  int64  \n",
      " 20  Occupation_Unemployed        1200000 non-null  int64  \n",
      " 21  Location_Rural               1200000 non-null  int64  \n",
      " 22  Location_Suburban            1200000 non-null  int64  \n",
      " 23  Location_Urban               1200000 non-null  int64  \n",
      " 24  Policy Type_Basic            1200000 non-null  int64  \n",
      " 25  Policy Type_Comprehensive    1200000 non-null  int64  \n",
      " 26  Policy Type_Premium          1200000 non-null  int64  \n",
      " 27  Customer Feedback_Average    1200000 non-null  int64  \n",
      " 28  Customer Feedback_Good       1200000 non-null  int64  \n",
      " 29  Customer Feedback_Poor       1200000 non-null  int64  \n",
      " 30  Smoking Status_No            1200000 non-null  int64  \n",
      " 31  Smoking Status_Yes           1200000 non-null  int64  \n",
      " 32  Exercise Frequency_Daily     1200000 non-null  int64  \n",
      " 33  Exercise Frequency_Monthly   1200000 non-null  int64  \n",
      " 34  Exercise Frequency_Rarely    1200000 non-null  int64  \n",
      " 35  Exercise Frequency_Weekly    1200000 non-null  int64  \n",
      " 36  Property Type_Apartment      1200000 non-null  int64  \n",
      " 37  Property Type_Condo          1200000 non-null  int64  \n",
      " 38  Property Type_House          1200000 non-null  int64  \n",
      "dtypes: float64(9), int64(30)\n",
      "memory usage: 366.2 MB\n"
     ]
    }
   ],
   "source": [
    "train.info()"
   ]
  },
  {
   "cell_type": "code",
   "execution_count": 21,
   "metadata": {
    "execution": {
     "iopub.execute_input": "2024-12-09T07:23:28.613018Z",
     "iopub.status.busy": "2024-12-09T07:23:28.612206Z",
     "iopub.status.idle": "2024-12-09T07:23:28.661380Z",
     "shell.execute_reply": "2024-12-09T07:23:28.660125Z",
     "shell.execute_reply.started": "2024-12-09T07:23:28.612943Z"
    },
    "trusted": true
   },
   "outputs": [
    {
     "name": "stdout",
     "output_type": "stream",
     "text": [
      "<class 'pandas.core.frame.DataFrame'>\n",
      "Index: 800000 entries, 0 to 799999\n",
      "Data columns (total 39 columns):\n",
      " #   Column                       Non-Null Count   Dtype  \n",
      "---  ------                       --------------   -----  \n",
      " 0   Age                          800000 non-null  float64\n",
      " 1   Annual Income                800000 non-null  float64\n",
      " 2   Number of Dependents         800000 non-null  float64\n",
      " 3   Health Score                 800000 non-null  float64\n",
      " 4   Previous Claims              800000 non-null  float64\n",
      " 5   Vehicle Age                  800000 non-null  float64\n",
      " 6   Credit Score                 800000 non-null  float64\n",
      " 7   Insurance Duration           800000 non-null  float64\n",
      " 8   Premium Amount               0 non-null       float64\n",
      " 9   Gender_Female                800000 non-null  int64  \n",
      " 10  Gender_Male                  800000 non-null  int64  \n",
      " 11  Marital Status_Divorced      800000 non-null  int64  \n",
      " 12  Marital Status_Married       800000 non-null  int64  \n",
      " 13  Marital Status_Single        800000 non-null  int64  \n",
      " 14  Education Level_Bachelor's   800000 non-null  int64  \n",
      " 15  Education Level_High School  800000 non-null  int64  \n",
      " 16  Education Level_Master's     800000 non-null  int64  \n",
      " 17  Education Level_PhD          800000 non-null  int64  \n",
      " 18  Occupation_Employed          800000 non-null  int64  \n",
      " 19  Occupation_Self-Employed     800000 non-null  int64  \n",
      " 20  Occupation_Unemployed        800000 non-null  int64  \n",
      " 21  Location_Rural               800000 non-null  int64  \n",
      " 22  Location_Suburban            800000 non-null  int64  \n",
      " 23  Location_Urban               800000 non-null  int64  \n",
      " 24  Policy Type_Basic            800000 non-null  int64  \n",
      " 25  Policy Type_Comprehensive    800000 non-null  int64  \n",
      " 26  Policy Type_Premium          800000 non-null  int64  \n",
      " 27  Customer Feedback_Average    800000 non-null  int64  \n",
      " 28  Customer Feedback_Good       800000 non-null  int64  \n",
      " 29  Customer Feedback_Poor       800000 non-null  int64  \n",
      " 30  Smoking Status_No            800000 non-null  int64  \n",
      " 31  Smoking Status_Yes           800000 non-null  int64  \n",
      " 32  Exercise Frequency_Daily     800000 non-null  int64  \n",
      " 33  Exercise Frequency_Monthly   800000 non-null  int64  \n",
      " 34  Exercise Frequency_Rarely    800000 non-null  int64  \n",
      " 35  Exercise Frequency_Weekly    800000 non-null  int64  \n",
      " 36  Property Type_Apartment      800000 non-null  int64  \n",
      " 37  Property Type_Condo          800000 non-null  int64  \n",
      " 38  Property Type_House          800000 non-null  int64  \n",
      "dtypes: float64(9), int64(30)\n",
      "memory usage: 244.1 MB\n"
     ]
    }
   ],
   "source": [
    "test.info()"
   ]
  },
  {
   "cell_type": "code",
   "execution_count": 22,
   "metadata": {
    "execution": {
     "iopub.execute_input": "2024-12-09T07:23:59.033436Z",
     "iopub.status.busy": "2024-12-09T07:23:59.033040Z",
     "iopub.status.idle": "2024-12-09T07:24:27.857439Z",
     "shell.execute_reply": "2024-12-09T07:24:27.856354Z",
     "shell.execute_reply.started": "2024-12-09T07:23:59.033405Z"
    },
    "trusted": true
   },
   "outputs": [],
   "source": [
    "train.to_csv('02_train.csv', index=False)\n",
    "test.to_csv('02_test.csv', index=False)"
   ]
  }
 ],
 "metadata": {
  "kaggle": {
   "accelerator": "none",
   "dataSources": [
    {
     "databundleVersionId": 10305135,
     "sourceId": 84896,
     "sourceType": "competition"
    }
   ],
   "dockerImageVersionId": 30804,
   "isGpuEnabled": false,
   "isInternetEnabled": true,
   "language": "python",
   "sourceType": "notebook"
  },
  "kernelspec": {
   "display_name": "Python 3",
   "language": "python",
   "name": "python3"
  },
  "language_info": {
   "codemirror_mode": {
    "name": "ipython",
    "version": 3
   },
   "file_extension": ".py",
   "mimetype": "text/x-python",
   "name": "python",
   "nbconvert_exporter": "python",
   "pygments_lexer": "ipython3",
   "version": "3.10.14"
  }
 },
 "nbformat": 4,
 "nbformat_minor": 4
}
