{
  "nbformat": 4,
  "nbformat_minor": 0,
  "metadata": {
    "colab": {
      "provenance": []
    },
    "kernelspec": {
      "name": "python3",
      "display_name": "Python 3"
    },
    "language_info": {
      "name": "python"
    }
  },
  "cells": [
    {
      "cell_type": "code",
      "execution_count": 1,
      "metadata": {
        "id": "3ClwysXr1qAo"
      },
      "outputs": [],
      "source": [
        "import pandas as pd"
      ]
    },
    {
      "cell_type": "code",
      "source": [
        "train = pd.read_csv('/content/sample_data/train.csv')\n",
        "test = pd.read_csv('/content/sample_data/test.csv')"
      ],
      "metadata": {
        "id": "OXw8tLJC3ZVy"
      },
      "execution_count": 2,
      "outputs": []
    },
    {
      "cell_type": "code",
      "source": [
        "len(train), len(test)"
      ],
      "metadata": {
        "colab": {
          "base_uri": "https://localhost:8080/"
        },
        "id": "XPXVcCpD3aQn",
        "outputId": "6c7025bd-7cfa-484d-cb54-f7379ff3adb7"
      },
      "execution_count": 3,
      "outputs": [
        {
          "output_type": "execute_result",
          "data": {
            "text/plain": [
              "(1200000, 800000)"
            ]
          },
          "metadata": {},
          "execution_count": 3
        }
      ]
    },
    {
      "cell_type": "code",
      "source": [
        "df = pd.concat([train, test], axis=0)"
      ],
      "metadata": {
        "id": "f3RpQUuy3az2"
      },
      "execution_count": 4,
      "outputs": []
    },
    {
      "cell_type": "code",
      "source": [
        "del df['id']"
      ],
      "metadata": {
        "id": "dO95XWgl3dgW"
      },
      "execution_count": 5,
      "outputs": []
    },
    {
      "cell_type": "code",
      "source": [
        "# annual income & premium amount has a long tail -> log transformer\n",
        "from sklearn.preprocessing import FunctionTransformer\n",
        "import numpy as np\n",
        "\n",
        "log_transformer = FunctionTransformer(np.log, inverse_func=np.exp)\n",
        "df['Annual Income'] = log_transformer.fit_transform(df[['Annual Income']])\n",
        "df['Premium Amount'] = log_transformer.fit_transform(df[['Premium Amount']])"
      ],
      "metadata": {
        "colab": {
          "base_uri": "https://localhost:8080/"
        },
        "id": "GxmZPvjk3ffR",
        "outputId": "4e7dfc88-b69e-4350-f463-9ed821a995a3"
      },
      "execution_count": 6,
      "outputs": [
        {
          "output_type": "stream",
          "name": "stderr",
          "text": [
            "/usr/local/lib/python3.10/dist-packages/sklearn/preprocessing/_function_transformer.py:202: UserWarning: The provided functions are not strictly inverse of each other. If you are sure you want to proceed regardless, set 'check_inverse=False'.\n",
            "  warnings.warn(\n",
            "/usr/local/lib/python3.10/dist-packages/sklearn/preprocessing/_function_transformer.py:202: UserWarning: The provided functions are not strictly inverse of each other. If you are sure you want to proceed regardless, set 'check_inverse=False'.\n",
            "  warnings.warn(\n"
          ]
        }
      ]
    },
    {
      "cell_type": "code",
      "source": [
        "# Vehicle Age null -> median\n",
        "df['Vehicle Age'] = df['Vehicle Age'].fillna(df['Vehicle Age'].median())\n",
        "\n",
        "# Insurance Duration null -> Mode\n",
        "df['Insurance Duration'] = df['Insurance Duration'].fillna(df['Insurance Duration'].mode()[0])\n",
        "\n",
        "np.random.seed(42)\n",
        "\n",
        "# Age, Number of Dependents null -> Uniform Distribution\n",
        "for col in ['Age', 'Number of Dependents']:\n",
        "    df[col] = df[col].fillna(np.random.randint(df['Age'].min(), df['Age'].max()))\n",
        "\n",
        "# Annual Income, Number of Dependents, Health Score, Credit Score null -> Normal Distribution\n",
        "for col in ['Annual Income', 'Health Score', 'Credit Score']:\n",
        "    df[col] = df[col].fillna(np.random.normal(df[col].mean(), df[col].std()))\n",
        "\n",
        "# Marital Status, Occupation, Customer Feedback null -> Pick one randomly\n",
        "import random\n",
        "\n",
        "random.seed(42)\n",
        "\n",
        "for col in ['Marital Status', 'Occupation', 'Customer Feedback']:\n",
        "    df[col].fillna(random.choice(df[col].dropna().tolist()), inplace=True)"
      ],
      "metadata": {
        "colab": {
          "base_uri": "https://localhost:8080/"
        },
        "id": "wsnH06eq3hvV",
        "outputId": "58ad4c3b-601b-403f-c9bc-d47a0ee49ec2"
      },
      "execution_count": 7,
      "outputs": [
        {
          "output_type": "stream",
          "name": "stderr",
          "text": [
            "<ipython-input-7-ad1d629956dc>:23: FutureWarning: A value is trying to be set on a copy of a DataFrame or Series through chained assignment using an inplace method.\n",
            "The behavior will change in pandas 3.0. This inplace method will never work because the intermediate object on which we are setting values always behaves as a copy.\n",
            "\n",
            "For example, when doing 'df[col].method(value, inplace=True)', try using 'df.method({col: value}, inplace=True)' or df[col] = df[col].method(value) instead, to perform the operation inplace on the original object.\n",
            "\n",
            "\n",
            "  df[col].fillna(random.choice(df[col].dropna().tolist()), inplace=True)\n"
          ]
        }
      ]
    },
    {
      "cell_type": "code",
      "source": [
        "df.info(show_counts=True)"
      ],
      "metadata": {
        "colab": {
          "base_uri": "https://localhost:8080/"
        },
        "id": "_aAWaC4O4DEZ",
        "outputId": "2463b396-dad3-4edb-ab16-9d3e8fcd1c32"
      },
      "execution_count": 8,
      "outputs": [
        {
          "output_type": "stream",
          "name": "stdout",
          "text": [
            "<class 'pandas.core.frame.DataFrame'>\n",
            "Index: 2000000 entries, 0 to 799999\n",
            "Data columns (total 20 columns):\n",
            " #   Column                Non-Null Count    Dtype  \n",
            "---  ------                --------------    -----  \n",
            " 0   Age                   2000000 non-null  float64\n",
            " 1   Gender                2000000 non-null  object \n",
            " 2   Annual Income         2000000 non-null  float64\n",
            " 3   Marital Status        2000000 non-null  object \n",
            " 4   Number of Dependents  2000000 non-null  float64\n",
            " 5   Education Level       2000000 non-null  object \n",
            " 6   Occupation            2000000 non-null  object \n",
            " 7   Health Score          2000000 non-null  float64\n",
            " 8   Location              2000000 non-null  object \n",
            " 9   Policy Type           2000000 non-null  object \n",
            " 10  Previous Claims       1393169 non-null  float64\n",
            " 11  Vehicle Age           2000000 non-null  float64\n",
            " 12  Credit Score          2000000 non-null  float64\n",
            " 13  Insurance Duration    2000000 non-null  float64\n",
            " 14  Policy Start Date     2000000 non-null  object \n",
            " 15  Customer Feedback     2000000 non-null  object \n",
            " 16  Smoking Status        2000000 non-null  object \n",
            " 17  Exercise Frequency    2000000 non-null  object \n",
            " 18  Property Type         2000000 non-null  object \n",
            " 19  Premium Amount        1200000 non-null  float64\n",
            "dtypes: float64(9), object(11)\n",
            "memory usage: 320.4+ MB\n"
          ]
        }
      ]
    },
    {
      "cell_type": "code",
      "source": [
        "# invert 'Policy Start Date' to 'Policy Start Month'\n",
        "df1 = df.copy()\n",
        "df1['Policy Start Date'] = pd.to_datetime(df1['Policy Start Date'])\n",
        "df1['Policy Start Month'] = pd.DatetimeIndex(df1['Policy Start Date']).month\n",
        "df1['Policy Start Month'].astype('object')\n",
        "df['Policy Start Month'] = df1['Policy Start Month'].astype('object')\n",
        "del df['Policy Start Date']\n",
        "df.insert(14, 'Policy Start Month', df.pop('Policy Start Month'))"
      ],
      "metadata": {
        "id": "u1VAK9oB4Ex6"
      },
      "execution_count": 9,
      "outputs": []
    },
    {
      "cell_type": "code",
      "source": [
        "df.info(show_counts=True)"
      ],
      "metadata": {
        "colab": {
          "base_uri": "https://localhost:8080/"
        },
        "id": "daykZ1WV4Rd2",
        "outputId": "68946eb3-9d42-4822-d7ba-b27c1f37d7f8"
      },
      "execution_count": 10,
      "outputs": [
        {
          "output_type": "stream",
          "name": "stdout",
          "text": [
            "<class 'pandas.core.frame.DataFrame'>\n",
            "Index: 2000000 entries, 0 to 799999\n",
            "Data columns (total 20 columns):\n",
            " #   Column                Non-Null Count    Dtype  \n",
            "---  ------                --------------    -----  \n",
            " 0   Age                   2000000 non-null  float64\n",
            " 1   Gender                2000000 non-null  object \n",
            " 2   Annual Income         2000000 non-null  float64\n",
            " 3   Marital Status        2000000 non-null  object \n",
            " 4   Number of Dependents  2000000 non-null  float64\n",
            " 5   Education Level       2000000 non-null  object \n",
            " 6   Occupation            2000000 non-null  object \n",
            " 7   Health Score          2000000 non-null  float64\n",
            " 8   Location              2000000 non-null  object \n",
            " 9   Policy Type           2000000 non-null  object \n",
            " 10  Previous Claims       1393169 non-null  float64\n",
            " 11  Vehicle Age           2000000 non-null  float64\n",
            " 12  Credit Score          2000000 non-null  float64\n",
            " 13  Insurance Duration    2000000 non-null  float64\n",
            " 14  Policy Start Month    2000000 non-null  object \n",
            " 15  Customer Feedback     2000000 non-null  object \n",
            " 16  Smoking Status        2000000 non-null  object \n",
            " 17  Exercise Frequency    2000000 non-null  object \n",
            " 18  Property Type         2000000 non-null  object \n",
            " 19  Premium Amount        1200000 non-null  float64\n",
            "dtypes: float64(9), object(11)\n",
            "memory usage: 320.4+ MB\n"
          ]
        }
      ]
    },
    {
      "cell_type": "code",
      "source": [
        "%pip install catboost"
      ],
      "metadata": {
        "colab": {
          "base_uri": "https://localhost:8080/"
        },
        "id": "IKfuz17r49gF",
        "outputId": "092fe544-0d2e-4664-9c27-1fa0a71191c1"
      },
      "execution_count": 11,
      "outputs": [
        {
          "output_type": "stream",
          "name": "stdout",
          "text": [
            "Collecting catboost\n",
            "  Downloading catboost-1.2.7-cp310-cp310-manylinux2014_x86_64.whl.metadata (1.2 kB)\n",
            "Requirement already satisfied: graphviz in /usr/local/lib/python3.10/dist-packages (from catboost) (0.20.3)\n",
            "Requirement already satisfied: matplotlib in /usr/local/lib/python3.10/dist-packages (from catboost) (3.8.0)\n",
            "Requirement already satisfied: numpy<2.0,>=1.16.0 in /usr/local/lib/python3.10/dist-packages (from catboost) (1.26.4)\n",
            "Requirement already satisfied: pandas>=0.24 in /usr/local/lib/python3.10/dist-packages (from catboost) (2.2.2)\n",
            "Requirement already satisfied: scipy in /usr/local/lib/python3.10/dist-packages (from catboost) (1.13.1)\n",
            "Requirement already satisfied: plotly in /usr/local/lib/python3.10/dist-packages (from catboost) (5.24.1)\n",
            "Requirement already satisfied: six in /usr/local/lib/python3.10/dist-packages (from catboost) (1.17.0)\n",
            "Requirement already satisfied: python-dateutil>=2.8.2 in /usr/local/lib/python3.10/dist-packages (from pandas>=0.24->catboost) (2.8.2)\n",
            "Requirement already satisfied: pytz>=2020.1 in /usr/local/lib/python3.10/dist-packages (from pandas>=0.24->catboost) (2024.2)\n",
            "Requirement already satisfied: tzdata>=2022.7 in /usr/local/lib/python3.10/dist-packages (from pandas>=0.24->catboost) (2024.2)\n",
            "Requirement already satisfied: contourpy>=1.0.1 in /usr/local/lib/python3.10/dist-packages (from matplotlib->catboost) (1.3.1)\n",
            "Requirement already satisfied: cycler>=0.10 in /usr/local/lib/python3.10/dist-packages (from matplotlib->catboost) (0.12.1)\n",
            "Requirement already satisfied: fonttools>=4.22.0 in /usr/local/lib/python3.10/dist-packages (from matplotlib->catboost) (4.55.3)\n",
            "Requirement already satisfied: kiwisolver>=1.0.1 in /usr/local/lib/python3.10/dist-packages (from matplotlib->catboost) (1.4.7)\n",
            "Requirement already satisfied: packaging>=20.0 in /usr/local/lib/python3.10/dist-packages (from matplotlib->catboost) (24.2)\n",
            "Requirement already satisfied: pillow>=6.2.0 in /usr/local/lib/python3.10/dist-packages (from matplotlib->catboost) (11.0.0)\n",
            "Requirement already satisfied: pyparsing>=2.3.1 in /usr/local/lib/python3.10/dist-packages (from matplotlib->catboost) (3.2.0)\n",
            "Requirement already satisfied: tenacity>=6.2.0 in /usr/local/lib/python3.10/dist-packages (from plotly->catboost) (9.0.0)\n",
            "Downloading catboost-1.2.7-cp310-cp310-manylinux2014_x86_64.whl (98.7 MB)\n",
            "\u001b[2K   \u001b[90m━━━━━━━━━━━━━━━━━━━━━━━━━━━━━━━━━━━━━━━━\u001b[0m \u001b[32m98.7/98.7 MB\u001b[0m \u001b[31m6.8 MB/s\u001b[0m eta \u001b[36m0:00:00\u001b[0m\n",
            "\u001b[?25hInstalling collected packages: catboost\n",
            "Successfully installed catboost-1.2.7\n"
          ]
        }
      ]
    },
    {
      "cell_type": "code",
      "source": [
        "df = pd.get_dummies(df, dtype='int')"
      ],
      "metadata": {
        "id": "t_Z65lzI5dn2"
      },
      "execution_count": 12,
      "outputs": []
    },
    {
      "cell_type": "code",
      "source": [
        "df.info(show_counts=True)"
      ],
      "metadata": {
        "colab": {
          "base_uri": "https://localhost:8080/"
        },
        "id": "zXa7IHBU5qae",
        "outputId": "e62cfadb-4673-4516-ca54-bb89a7b41772"
      },
      "execution_count": 13,
      "outputs": [
        {
          "output_type": "stream",
          "name": "stdout",
          "text": [
            "<class 'pandas.core.frame.DataFrame'>\n",
            "Index: 2000000 entries, 0 to 799999\n",
            "Data columns (total 51 columns):\n",
            " #   Column                       Non-Null Count    Dtype  \n",
            "---  ------                       --------------    -----  \n",
            " 0   Age                          2000000 non-null  float64\n",
            " 1   Annual Income                2000000 non-null  float64\n",
            " 2   Number of Dependents         2000000 non-null  float64\n",
            " 3   Health Score                 2000000 non-null  float64\n",
            " 4   Previous Claims              1393169 non-null  float64\n",
            " 5   Vehicle Age                  2000000 non-null  float64\n",
            " 6   Credit Score                 2000000 non-null  float64\n",
            " 7   Insurance Duration           2000000 non-null  float64\n",
            " 8   Premium Amount               1200000 non-null  float64\n",
            " 9   Gender_Female                2000000 non-null  int64  \n",
            " 10  Gender_Male                  2000000 non-null  int64  \n",
            " 11  Marital Status_Divorced      2000000 non-null  int64  \n",
            " 12  Marital Status_Married       2000000 non-null  int64  \n",
            " 13  Marital Status_Single        2000000 non-null  int64  \n",
            " 14  Education Level_Bachelor's   2000000 non-null  int64  \n",
            " 15  Education Level_High School  2000000 non-null  int64  \n",
            " 16  Education Level_Master's     2000000 non-null  int64  \n",
            " 17  Education Level_PhD          2000000 non-null  int64  \n",
            " 18  Occupation_Employed          2000000 non-null  int64  \n",
            " 19  Occupation_Self-Employed     2000000 non-null  int64  \n",
            " 20  Occupation_Unemployed        2000000 non-null  int64  \n",
            " 21  Location_Rural               2000000 non-null  int64  \n",
            " 22  Location_Suburban            2000000 non-null  int64  \n",
            " 23  Location_Urban               2000000 non-null  int64  \n",
            " 24  Policy Type_Basic            2000000 non-null  int64  \n",
            " 25  Policy Type_Comprehensive    2000000 non-null  int64  \n",
            " 26  Policy Type_Premium          2000000 non-null  int64  \n",
            " 27  Policy Start Month_1         2000000 non-null  int64  \n",
            " 28  Policy Start Month_2         2000000 non-null  int64  \n",
            " 29  Policy Start Month_3         2000000 non-null  int64  \n",
            " 30  Policy Start Month_4         2000000 non-null  int64  \n",
            " 31  Policy Start Month_5         2000000 non-null  int64  \n",
            " 32  Policy Start Month_6         2000000 non-null  int64  \n",
            " 33  Policy Start Month_7         2000000 non-null  int64  \n",
            " 34  Policy Start Month_8         2000000 non-null  int64  \n",
            " 35  Policy Start Month_9         2000000 non-null  int64  \n",
            " 36  Policy Start Month_10        2000000 non-null  int64  \n",
            " 37  Policy Start Month_11        2000000 non-null  int64  \n",
            " 38  Policy Start Month_12        2000000 non-null  int64  \n",
            " 39  Customer Feedback_Average    2000000 non-null  int64  \n",
            " 40  Customer Feedback_Good       2000000 non-null  int64  \n",
            " 41  Customer Feedback_Poor       2000000 non-null  int64  \n",
            " 42  Smoking Status_No            2000000 non-null  int64  \n",
            " 43  Smoking Status_Yes           2000000 non-null  int64  \n",
            " 44  Exercise Frequency_Daily     2000000 non-null  int64  \n",
            " 45  Exercise Frequency_Monthly   2000000 non-null  int64  \n",
            " 46  Exercise Frequency_Rarely    2000000 non-null  int64  \n",
            " 47  Exercise Frequency_Weekly    2000000 non-null  int64  \n",
            " 48  Property Type_Apartment      2000000 non-null  int64  \n",
            " 49  Property Type_Condo          2000000 non-null  int64  \n",
            " 50  Property Type_House          2000000 non-null  int64  \n",
            "dtypes: float64(9), int64(42)\n",
            "memory usage: 793.5 MB\n"
          ]
        }
      ]
    },
    {
      "cell_type": "code",
      "source": [
        "# make a regression model to predict previous claims\n",
        "df_previous_claims = df[df['Previous Claims'].notna()]\n",
        "df_no_previous_claims = df[df['Previous Claims'].isna()]\n",
        "\n",
        "del df_previous_claims['Premium Amount']\n",
        "del df_no_previous_claims['Premium Amount']\n",
        "\n",
        "# train_test split\n",
        "from sklearn.model_selection import train_test_split\n",
        "train_set, test_set_from_train = train_test_split(df_previous_claims, test_size=0.2, random_state=42)\n",
        "\n",
        "# split target and features\n",
        "X_train = df_previous_claims.drop('Previous Claims', axis=1)\n",
        "y_train = df_previous_claims['Previous Claims'].copy()\n",
        "\n",
        "# build model\n",
        "from sklearn.ensemble import VotingRegressor\n",
        "from sklearn.linear_model import LinearRegression\n",
        "import xgboost as xgb\n",
        "from catboost import CatBoostRegressor as Catboost\n",
        "\n",
        "voting_reg = VotingRegressor(\n",
        "    estimators=[\n",
        "        ('lin_reg', LinearRegression()),\n",
        "        ('xgboost', xgb.XGBRegressor(max_depth=6, n_estimators=40, random_state=42)),\n",
        "        ('catboost',Catboost(iterations=10, depth=8, learning_rate=1, random_state=42)),\n",
        "    ]\n",
        ")\n",
        "voting_reg.fit(X_train, y_train)\n",
        "\n",
        "test_set = df_no_previous_claims.copy()\n",
        "del test_set['Previous Claims']\n",
        "y_pred = voting_reg.predict(test_set)\n",
        "\n",
        "# fill nan of df['Previous Claims'] with y_pred\n",
        "df.loc[df['Previous Claims'].isna(), 'Previous Claims'] = y_pred"
      ],
      "metadata": {
        "colab": {
          "base_uri": "https://localhost:8080/"
        },
        "id": "JNE5VE_i4Wlk",
        "outputId": "d5160d21-efde-4d8d-b3ad-0d3aa76144a2"
      },
      "execution_count": 14,
      "outputs": [
        {
          "output_type": "stream",
          "name": "stdout",
          "text": [
            "0:\tlearn: 0.9679402\ttotal: 295ms\tremaining: 2.65s\n",
            "1:\tlearn: 0.9662059\ttotal: 722ms\tremaining: 2.89s\n",
            "2:\tlearn: 0.9647735\ttotal: 1.2s\tremaining: 2.79s\n",
            "3:\tlearn: 0.9645102\ttotal: 1.62s\tremaining: 2.43s\n",
            "4:\tlearn: 0.9641904\ttotal: 2.08s\tremaining: 2.08s\n",
            "5:\tlearn: 0.9639432\ttotal: 2.49s\tremaining: 1.66s\n",
            "6:\tlearn: 0.9638254\ttotal: 2.9s\tremaining: 1.24s\n",
            "7:\tlearn: 0.9636999\ttotal: 3.34s\tremaining: 834ms\n",
            "8:\tlearn: 0.9635398\ttotal: 3.8s\tremaining: 422ms\n",
            "9:\tlearn: 0.9634163\ttotal: 4.3s\tremaining: 0us\n"
          ]
        }
      ]
    },
    {
      "cell_type": "code",
      "source": [
        "df.info(show_counts=True)"
      ],
      "metadata": {
        "colab": {
          "base_uri": "https://localhost:8080/"
        },
        "id": "9Y8AePDM5Y33",
        "outputId": "ac61a6f5-e6ad-4a7e-d63b-ccf9e0ed845f"
      },
      "execution_count": 15,
      "outputs": [
        {
          "output_type": "stream",
          "name": "stdout",
          "text": [
            "<class 'pandas.core.frame.DataFrame'>\n",
            "Index: 2000000 entries, 0 to 799999\n",
            "Data columns (total 51 columns):\n",
            " #   Column                       Non-Null Count    Dtype  \n",
            "---  ------                       --------------    -----  \n",
            " 0   Age                          2000000 non-null  float64\n",
            " 1   Annual Income                2000000 non-null  float64\n",
            " 2   Number of Dependents         2000000 non-null  float64\n",
            " 3   Health Score                 2000000 non-null  float64\n",
            " 4   Previous Claims              2000000 non-null  float64\n",
            " 5   Vehicle Age                  2000000 non-null  float64\n",
            " 6   Credit Score                 2000000 non-null  float64\n",
            " 7   Insurance Duration           2000000 non-null  float64\n",
            " 8   Premium Amount               1200000 non-null  float64\n",
            " 9   Gender_Female                2000000 non-null  int64  \n",
            " 10  Gender_Male                  2000000 non-null  int64  \n",
            " 11  Marital Status_Divorced      2000000 non-null  int64  \n",
            " 12  Marital Status_Married       2000000 non-null  int64  \n",
            " 13  Marital Status_Single        2000000 non-null  int64  \n",
            " 14  Education Level_Bachelor's   2000000 non-null  int64  \n",
            " 15  Education Level_High School  2000000 non-null  int64  \n",
            " 16  Education Level_Master's     2000000 non-null  int64  \n",
            " 17  Education Level_PhD          2000000 non-null  int64  \n",
            " 18  Occupation_Employed          2000000 non-null  int64  \n",
            " 19  Occupation_Self-Employed     2000000 non-null  int64  \n",
            " 20  Occupation_Unemployed        2000000 non-null  int64  \n",
            " 21  Location_Rural               2000000 non-null  int64  \n",
            " 22  Location_Suburban            2000000 non-null  int64  \n",
            " 23  Location_Urban               2000000 non-null  int64  \n",
            " 24  Policy Type_Basic            2000000 non-null  int64  \n",
            " 25  Policy Type_Comprehensive    2000000 non-null  int64  \n",
            " 26  Policy Type_Premium          2000000 non-null  int64  \n",
            " 27  Policy Start Month_1         2000000 non-null  int64  \n",
            " 28  Policy Start Month_2         2000000 non-null  int64  \n",
            " 29  Policy Start Month_3         2000000 non-null  int64  \n",
            " 30  Policy Start Month_4         2000000 non-null  int64  \n",
            " 31  Policy Start Month_5         2000000 non-null  int64  \n",
            " 32  Policy Start Month_6         2000000 non-null  int64  \n",
            " 33  Policy Start Month_7         2000000 non-null  int64  \n",
            " 34  Policy Start Month_8         2000000 non-null  int64  \n",
            " 35  Policy Start Month_9         2000000 non-null  int64  \n",
            " 36  Policy Start Month_10        2000000 non-null  int64  \n",
            " 37  Policy Start Month_11        2000000 non-null  int64  \n",
            " 38  Policy Start Month_12        2000000 non-null  int64  \n",
            " 39  Customer Feedback_Average    2000000 non-null  int64  \n",
            " 40  Customer Feedback_Good       2000000 non-null  int64  \n",
            " 41  Customer Feedback_Poor       2000000 non-null  int64  \n",
            " 42  Smoking Status_No            2000000 non-null  int64  \n",
            " 43  Smoking Status_Yes           2000000 non-null  int64  \n",
            " 44  Exercise Frequency_Daily     2000000 non-null  int64  \n",
            " 45  Exercise Frequency_Monthly   2000000 non-null  int64  \n",
            " 46  Exercise Frequency_Rarely    2000000 non-null  int64  \n",
            " 47  Exercise Frequency_Weekly    2000000 non-null  int64  \n",
            " 48  Property Type_Apartment      2000000 non-null  int64  \n",
            " 49  Property Type_Condo          2000000 non-null  int64  \n",
            " 50  Property Type_House          2000000 non-null  int64  \n",
            "dtypes: float64(9), int64(42)\n",
            "memory usage: 793.5 MB\n"
          ]
        }
      ]
    },
    {
      "cell_type": "code",
      "source": [
        "train = df.iloc[:len(train)]\n",
        "test = df.iloc[len(train):]"
      ],
      "metadata": {
        "id": "AWE13ShE8Ec9"
      },
      "execution_count": 25,
      "outputs": []
    },
    {
      "cell_type": "code",
      "source": [
        "train.to_csv('04_train.csv', index=False)\n",
        "test.to_csv('04_test.csv', index=False)"
      ],
      "metadata": {
        "id": "ng-6PKSG8AWx"
      },
      "execution_count": 26,
      "outputs": []
    },
    {
      "cell_type": "code",
      "source": [
        "df1 = df.copy()"
      ],
      "metadata": {
        "id": "XsOoSGOr6ZHv"
      },
      "execution_count": 22,
      "outputs": []
    },
    {
      "cell_type": "code",
      "source": [
        "# reduce dimentionality\n",
        "from sklearn.datasets import fetch_openml\n",
        "from sklearn.decomposition import PCA\n",
        "from sklearn.preprocessing import StandardScaler\n",
        "\n",
        "X = df1.drop('Premium Amount', axis=1)\n",
        "y = df1['Premium Amount']\n",
        "\n",
        "scaler = StandardScaler()\n",
        "\n",
        "X = scaler.fit_transform(X)\n",
        "\n",
        "pca = PCA()\n",
        "pca.fit(X)\n",
        "cumsum = np.cumsum(pca.explained_variance_ratio_)\n",
        "d = np.argmax(cumsum >= 0.95) + 1"
      ],
      "metadata": {
        "id": "yPjS-vQa51h3"
      },
      "execution_count": 23,
      "outputs": []
    },
    {
      "cell_type": "code",
      "source": [
        "pca = PCA(n_components=0.95)\n",
        "X_reduced = pca.fit_transform(X)\n",
        "pca.n_components_"
      ],
      "metadata": {
        "colab": {
          "base_uri": "https://localhost:8080/"
        },
        "id": "VAqx5ekg65rO",
        "outputId": "4e5f3135-494c-465e-9413-b528194b611e"
      },
      "execution_count": 24,
      "outputs": [
        {
          "output_type": "execute_result",
          "data": {
            "text/plain": [
              "37"
            ]
          },
          "metadata": {},
          "execution_count": 24
        }
      ]
    },
    {
      "cell_type": "code",
      "source": [
        "X_reduced.shape"
      ],
      "metadata": {
        "colab": {
          "base_uri": "https://localhost:8080/"
        },
        "id": "83xrBfaF68M1",
        "outputId": "1c6a3b7e-21b1-49c7-990b-1fd6bb481eac"
      },
      "execution_count": 28,
      "outputs": [
        {
          "output_type": "execute_result",
          "data": {
            "text/plain": [
              "(2000000, 37)"
            ]
          },
          "metadata": {},
          "execution_count": 28
        }
      ]
    },
    {
      "cell_type": "code",
      "source": [
        "train = X_reduced[:len(train)]\n",
        "test = X_reduced[len(train):]\n",
        "\n",
        "# add y to train\n",
        "train = np.concatenate((train, y[:len(train)].values.reshape(-1, 1)), axis=1)\n",
        "train.shape"
      ],
      "metadata": {
        "colab": {
          "base_uri": "https://localhost:8080/"
        },
        "id": "INpkMA_Z8bY9",
        "outputId": "6561c693-bd6d-475c-ed54-2d34e031e682"
      },
      "execution_count": 32,
      "outputs": [
        {
          "output_type": "execute_result",
          "data": {
            "text/plain": [
              "(1200000, 38)"
            ]
          },
          "metadata": {},
          "execution_count": 32
        }
      ]
    },
    {
      "cell_type": "code",
      "source": [
        "train = pd.DataFrame(train)\n",
        "test = pd.DataFrame(test)\n",
        "\n",
        "train.to_csv('05_train.csv', index=False)\n",
        "test.to_csv('05_test.csv', index=False)"
      ],
      "metadata": {
        "id": "d4yz46Hd9AGK"
      },
      "execution_count": 34,
      "outputs": []
    }
  ]
}