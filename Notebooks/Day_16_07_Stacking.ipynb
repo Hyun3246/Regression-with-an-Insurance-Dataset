{
 "cells": [
  {
   "cell_type": "code",
   "execution_count": 2,
   "metadata": {
    "_cell_guid": "b1076dfc-b9ad-4769-8c92-a6c4dae69d19",
    "_uuid": "8f2839f25d086af736a60e9eeb907d3b93b6e0e5",
    "execution": {
     "iopub.execute_input": "2024-12-19T13:21:42.142995Z",
     "iopub.status.busy": "2024-12-19T13:21:42.142284Z",
     "iopub.status.idle": "2024-12-19T13:21:49.084553Z",
     "shell.execute_reply": "2024-12-19T13:21:49.083340Z",
     "shell.execute_reply.started": "2024-12-19T13:21:42.142948Z"
    },
    "trusted": true
   },
   "outputs": [],
   "source": [
    "import pandas as pd\n",
    "df = pd.read_csv('/kaggle/input/dataset-01/09_train.csv')\n",
    "\n",
    "from sklearn.model_selection import train_test_split\n",
    "\n",
    "train_set, test_set_from_train = train_test_split(df, test_size=0.2, random_state=42)\n",
    "\n",
    "# split target and features\n",
    "X_train = train_set.drop('Premium Amount', axis=1)\n",
    "y_train = train_set['Premium Amount'].copy()"
   ]
  },
  {
   "cell_type": "code",
   "execution_count": null,
   "metadata": {
    "trusted": true
   },
   "outputs": [],
   "source": [
    "from sklearn.ensemble import StackingRegressor\n",
    "from sklearn.linear_model import LinearRegression\n",
    "import xgboost as xgb\n",
    "from catboost import CatBoostRegressor as Catboost\n",
    "from lightgbm import LGBMRegressor\n",
    "from sklearn.model_selection import RandomizedSearchCV\n",
    "from scipy.stats import randint\n",
    "from sklearn.ensemble import RandomForestRegressor\n",
    "\n",
    "stacking_reg = StackingRegressor(\n",
    "    estimators=[\n",
    "        ('RandomForest', RandomForestRegressor(n_estimators=50, max_depth=8, random_state=42)),\n",
    "        ('lr', LinearRegression()),\n",
    "        ('LGBM', LGBMRegressor(n_estimators=111, max_depth=11, random_state=42)),\n",
    "        ('xgboost', xgb.XGBRegressor(n_estimators=51, max_depth=8, random_state=42)),\n",
    "        ('catboost', Catboost(n_estimators=56, depth=7, learning_rate=1, random_state=42)),\n",
    "    ],\n",
    "    final_estimator=LinearRegression(),\n",
    "    n_jobs=-1,\n",
    "    cv=3\n",
    ")\n",
    "\n",
    "stacking_reg.fit(X_train, y_train)"
   ]
  },
  {
   "cell_type": "code",
   "execution_count": 9,
   "metadata": {
    "execution": {
     "iopub.execute_input": "2024-12-19T13:23:22.628215Z",
     "iopub.status.busy": "2024-12-19T13:23:22.627770Z",
     "iopub.status.idle": "2024-12-19T13:23:30.294455Z",
     "shell.execute_reply": "2024-12-19T13:23:30.292725Z",
     "shell.execute_reply.started": "2024-12-19T13:23:22.628178Z"
    },
    "trusted": true
   },
   "outputs": [
    {
     "data": {
      "text/plain": [
       "1.0452020169863492"
      ]
     },
     "execution_count": 9,
     "metadata": {},
     "output_type": "execute_result"
    }
   ],
   "source": [
    "from sklearn.metrics import root_mean_squared_error\n",
    "y_pred = stacking_reg.predict(X_train)\n",
    "rmsle = root_mean_squared_error(y_train, y_pred)\n",
    "rmsle"
   ]
  },
  {
   "cell_type": "code",
   "execution_count": 10,
   "metadata": {
    "execution": {
     "iopub.execute_input": "2024-12-19T13:23:33.658073Z",
     "iopub.status.busy": "2024-12-19T13:23:33.657729Z",
     "iopub.status.idle": "2024-12-19T13:23:33.697308Z",
     "shell.execute_reply": "2024-12-19T13:23:33.696283Z",
     "shell.execute_reply.started": "2024-12-19T13:23:33.658046Z"
    },
    "trusted": true
   },
   "outputs": [],
   "source": [
    "X_test = test_set_from_train.drop('Premium Amount', axis=1)\n",
    "y_test = test_set_from_train['Premium Amount'].copy()"
   ]
  },
  {
   "cell_type": "code",
   "execution_count": 11,
   "metadata": {
    "execution": {
     "iopub.execute_input": "2024-12-19T13:23:34.653109Z",
     "iopub.status.busy": "2024-12-19T13:23:34.652750Z",
     "iopub.status.idle": "2024-12-19T13:23:36.643126Z",
     "shell.execute_reply": "2024-12-19T13:23:36.640855Z",
     "shell.execute_reply.started": "2024-12-19T13:23:34.653083Z"
    },
    "trusted": true
   },
   "outputs": [
    {
     "data": {
      "text/plain": [
       "1.052318973500294"
      ]
     },
     "execution_count": 11,
     "metadata": {},
     "output_type": "execute_result"
    }
   ],
   "source": [
    "y_pred = stacking_reg.predict(X_test)\n",
    "rmsle = root_mean_squared_error(y_test, y_pred)\n",
    "rmsle"
   ]
  },
  {
   "cell_type": "code",
   "execution_count": 12,
   "metadata": {
    "execution": {
     "iopub.execute_input": "2024-12-19T13:23:52.107159Z",
     "iopub.status.busy": "2024-12-19T13:23:52.106759Z",
     "iopub.status.idle": "2024-12-19T13:24:09.632552Z",
     "shell.execute_reply": "2024-12-19T13:24:09.631608Z",
     "shell.execute_reply.started": "2024-12-19T13:23:52.107132Z"
    },
    "trusted": true
   },
   "outputs": [],
   "source": [
    "# save final prediction\n",
    "import numpy as np\n",
    "\n",
    "test_set = pd.read_csv('/kaggle/input/dataset-01/09_test.csv')\n",
    "del test_set['Premium Amount']\n",
    "y_pred = stacking_reg.predict(test_set)\n",
    "y_pred = np.exp(y_pred)\n",
    "original_test_set = pd.read_csv('/kaggle/input/dataset-01/test.csv')\n",
    "id = original_test_set['id']\n",
    "final_prediction = pd.DataFrame({'id': id, 'Premium Amount': y_pred})\n",
    "final_prediction.to_csv('stacking_reg_14.csv', index=False)"
   ]
  }
 ],
 "metadata": {
  "kaggle": {
   "accelerator": "none",
   "dataSources": [
    {
     "datasetId": 6336854,
     "sourceId": 10246080,
     "sourceType": "datasetVersion"
    }
   ],
   "dockerImageVersionId": 30822,
   "isGpuEnabled": false,
   "isInternetEnabled": true,
   "language": "python",
   "sourceType": "notebook"
  },
  "kernelspec": {
   "display_name": "Python 3",
   "language": "python",
   "name": "python3"
  },
  "language_info": {
   "codemirror_mode": {
    "name": "ipython",
    "version": 3
   },
   "file_extension": ".py",
   "mimetype": "text/x-python",
   "name": "python",
   "nbconvert_exporter": "python",
   "pygments_lexer": "ipython3",
   "version": "3.10.12"
  }
 },
 "nbformat": 4,
 "nbformat_minor": 4
}
