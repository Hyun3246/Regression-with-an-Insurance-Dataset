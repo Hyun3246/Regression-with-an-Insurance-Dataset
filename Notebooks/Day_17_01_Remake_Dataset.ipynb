{
  "nbformat": 4,
  "nbformat_minor": 0,
  "metadata": {
    "colab": {
      "provenance": []
    },
    "kernelspec": {
      "name": "python3",
      "display_name": "Python 3"
    },
    "language_info": {
      "name": "python"
    }
  },
  "cells": [
    {
      "cell_type": "code",
      "source": [
        "%pip install \"scikit-learn<1.6\""
      ],
      "metadata": {
        "colab": {
          "base_uri": "https://localhost:8080/"
        },
        "id": "yRdh_tMPJgEs",
        "outputId": "0f547d52-f63f-4fe9-d666-4907f1eacc48"
      },
      "execution_count": 30,
      "outputs": [
        {
          "output_type": "stream",
          "name": "stdout",
          "text": [
            "Collecting scikit-learn<1.6\n",
            "  Downloading scikit_learn-1.5.2-cp310-cp310-manylinux_2_17_x86_64.manylinux2014_x86_64.whl.metadata (13 kB)\n",
            "Requirement already satisfied: numpy>=1.19.5 in /usr/local/lib/python3.10/dist-packages (from scikit-learn<1.6) (1.26.4)\n",
            "Requirement already satisfied: scipy>=1.6.0 in /usr/local/lib/python3.10/dist-packages (from scikit-learn<1.6) (1.13.1)\n",
            "Requirement already satisfied: joblib>=1.2.0 in /usr/local/lib/python3.10/dist-packages (from scikit-learn<1.6) (1.4.2)\n",
            "Requirement already satisfied: threadpoolctl>=3.1.0 in /usr/local/lib/python3.10/dist-packages (from scikit-learn<1.6) (3.5.0)\n",
            "Downloading scikit_learn-1.5.2-cp310-cp310-manylinux_2_17_x86_64.manylinux2014_x86_64.whl (13.3 MB)\n",
            "\u001b[2K   \u001b[90m━━━━━━━━━━━━━━━━━━━━━━━━━━━━━━━━━━━━━━━━\u001b[0m \u001b[32m13.3/13.3 MB\u001b[0m \u001b[31m29.8 MB/s\u001b[0m eta \u001b[36m0:00:00\u001b[0m\n",
            "\u001b[?25hInstalling collected packages: scikit-learn\n",
            "  Attempting uninstall: scikit-learn\n",
            "    Found existing installation: scikit-learn 1.6.0\n",
            "    Uninstalling scikit-learn-1.6.0:\n",
            "      Successfully uninstalled scikit-learn-1.6.0\n",
            "Successfully installed scikit-learn-1.5.2\n"
          ]
        }
      ]
    },
    {
      "cell_type": "code",
      "execution_count": 1,
      "metadata": {
        "id": "3ClwysXr1qAo"
      },
      "outputs": [],
      "source": [
        "import pandas as pd"
      ]
    },
    {
      "cell_type": "code",
      "source": [
        "train = pd.read_csv('/content/sample_data/train.csv')\n",
        "test = pd.read_csv('/content/sample_data/test.csv')"
      ],
      "metadata": {
        "id": "OXw8tLJC3ZVy"
      },
      "execution_count": 2,
      "outputs": []
    },
    {
      "cell_type": "code",
      "source": [
        "len(train), len(test)"
      ],
      "metadata": {
        "colab": {
          "base_uri": "https://localhost:8080/"
        },
        "id": "XPXVcCpD3aQn",
        "outputId": "cf4974d1-1180-4fc4-81c0-8bc44801de50"
      },
      "execution_count": 3,
      "outputs": [
        {
          "output_type": "execute_result",
          "data": {
            "text/plain": [
              "(1200000, 800000)"
            ]
          },
          "metadata": {},
          "execution_count": 3
        }
      ]
    },
    {
      "cell_type": "code",
      "source": [
        "df = pd.concat([train, test], axis=0)"
      ],
      "metadata": {
        "id": "f3RpQUuy3az2"
      },
      "execution_count": 4,
      "outputs": []
    },
    {
      "cell_type": "code",
      "source": [
        "del df['id']"
      ],
      "metadata": {
        "id": "dO95XWgl3dgW"
      },
      "execution_count": 5,
      "outputs": []
    },
    {
      "cell_type": "code",
      "source": [
        "# annual income & premium amount has a long tail -> log transformer\n",
        "from sklearn.preprocessing import FunctionTransformer\n",
        "import numpy as np\n",
        "\n",
        "log_transformer = FunctionTransformer(np.log, inverse_func=np.exp)\n",
        "# df['Annual Income'] = log_transformer.fit_transform(df[['Annual Income']])\n",
        "df['Premium Amount'] = log_transformer.fit_transform(df[['Premium Amount']])"
      ],
      "metadata": {
        "colab": {
          "base_uri": "https://localhost:8080/"
        },
        "id": "GxmZPvjk3ffR",
        "outputId": "b794fa68-a1cc-4acc-9a30-a4384ad8463f"
      },
      "execution_count": 6,
      "outputs": [
        {
          "output_type": "stream",
          "name": "stderr",
          "text": [
            "/usr/local/lib/python3.10/dist-packages/sklearn/preprocessing/_function_transformer.py:202: UserWarning: The provided functions are not strictly inverse of each other. If you are sure you want to proceed regardless, set 'check_inverse=False'.\n",
            "  warnings.warn(\n"
          ]
        }
      ]
    },
    {
      "cell_type": "code",
      "source": [
        "# Insurance Duration, Age, Number of Dependents null -> mode & -1(Unknown)\n",
        "for col in ['Insurance Duration', 'Age', 'Number of Dependents']:\n",
        "    df[col+'_1'] = df[col].fillna(df[col].mode()[0])\n",
        "    df[col] = df[col].fillna(-1)\n",
        "\n",
        "# Annual Income, Health Score, Credit Score null -> mean & -1(Unknown)\n",
        "for col in ['Vehicle Age', 'Annual Income', 'Health Score', 'Credit Score']:\n",
        "    df[col+'_1'] = df[col].fillna(df[col].mean())\n",
        "    df[col] = df[col].fillna(-1)\n",
        "\n",
        "# Marital Status, Occupation, Customer Feedback null -> Unknown\n",
        "for col in ['Marital Status', 'Occupation', 'Customer Feedback']:\n",
        "    df[col].fillna('Unknown', inplace=True)"
      ],
      "metadata": {
        "colab": {
          "base_uri": "https://localhost:8080/"
        },
        "id": "wsnH06eq3hvV",
        "outputId": "c251286a-d1bc-413b-8820-94ac5753eb14"
      },
      "execution_count": 7,
      "outputs": [
        {
          "output_type": "stream",
          "name": "stderr",
          "text": [
            "<ipython-input-7-939b0add4823>:13: FutureWarning: A value is trying to be set on a copy of a DataFrame or Series through chained assignment using an inplace method.\n",
            "The behavior will change in pandas 3.0. This inplace method will never work because the intermediate object on which we are setting values always behaves as a copy.\n",
            "\n",
            "For example, when doing 'df[col].method(value, inplace=True)', try using 'df.method({col: value}, inplace=True)' or df[col] = df[col].method(value) instead, to perform the operation inplace on the original object.\n",
            "\n",
            "\n",
            "  df[col].fillna('Unknown', inplace=True)\n"
          ]
        }
      ]
    },
    {
      "cell_type": "code",
      "source": [
        "# Annual Income / Age\n",
        "df['Ratio of Annual Income and Age'] = df['Annual Income_1'] / df['Age_1']\n",
        "df['Ratio of Annual Income and Age'].hist(bins=10)"
      ],
      "metadata": {
        "colab": {
          "base_uri": "https://localhost:8080/",
          "height": 463
        },
        "id": "clApcWuiHwWw",
        "outputId": "61971381-15e6-42aa-c9f7-a44ce0dd5e39"
      },
      "execution_count": 8,
      "outputs": [
        {
          "output_type": "execute_result",
          "data": {
            "text/plain": [
              "<Axes: >"
            ]
          },
          "metadata": {},
          "execution_count": 8
        },
        {
          "output_type": "display_data",
          "data": {
            "text/plain": [
              "<Figure size 640x480 with 1 Axes>"
            ],
            "image/png": "[encoded data removed]"
          },
          "metadata": {}
        }
      ]
    },
    {
      "cell_type": "code",
      "source": [
        "df['Ratio of Annual Income and Age'] = log_transformer.fit_transform(df[['Ratio of Annual Income and Age']])\n",
        "df['Ratio of Annual Income and Age'].hist(bins=10)"
      ],
      "metadata": {
        "colab": {
          "base_uri": "https://localhost:8080/",
          "height": 448
        },
        "id": "KLPq2YgRIygZ",
        "outputId": "74661f16-7355-4f9b-9cd6-f9e9d3bb342a"
      },
      "execution_count": 9,
      "outputs": [
        {
          "output_type": "execute_result",
          "data": {
            "text/plain": [
              "<Axes: >"
            ]
          },
          "metadata": {},
          "execution_count": 9
        },
        {
          "output_type": "display_data",
          "data": {
            "text/plain": [
              "<Figure size 640x480 with 1 Axes>"
            ],
            "image/png": "[encoded data removed]"
          },
          "metadata": {}
        }
      ]
    },
    {
      "cell_type": "code",
      "source": [
        "del df['Annual Income']\n",
        "del df['Annual Income_1']"
      ],
      "metadata": {
        "id": "6le36rB9I4Lj"
      },
      "execution_count": 10,
      "outputs": []
    },
    {
      "cell_type": "code",
      "source": [
        "df.info(show_counts=True)"
      ],
      "metadata": {
        "colab": {
          "base_uri": "https://localhost:8080/"
        },
        "id": "_aAWaC4O4DEZ",
        "outputId": "7e483c7b-c041-4a11-c461-02bc0aea2126"
      },
      "execution_count": 11,
      "outputs": [
        {
          "output_type": "stream",
          "name": "stdout",
          "text": [
            "<class 'pandas.core.frame.DataFrame'>\n",
            "Index: 2000000 entries, 0 to 799999\n",
            "Data columns (total 26 columns):\n",
            " #   Column                          Non-Null Count    Dtype  \n",
            "---  ------                          --------------    -----  \n",
            " 0   Age                             2000000 non-null  float64\n",
            " 1   Gender                          2000000 non-null  object \n",
            " 2   Marital Status                  2000000 non-null  object \n",
            " 3   Number of Dependents            2000000 non-null  float64\n",
            " 4   Education Level                 2000000 non-null  object \n",
            " 5   Occupation                      2000000 non-null  object \n",
            " 6   Health Score                    2000000 non-null  float64\n",
            " 7   Location                        2000000 non-null  object \n",
            " 8   Policy Type                     2000000 non-null  object \n",
            " 9   Previous Claims                 1393169 non-null  float64\n",
            " 10  Vehicle Age                     2000000 non-null  float64\n",
            " 11  Credit Score                    2000000 non-null  float64\n",
            " 12  Insurance Duration              2000000 non-null  float64\n",
            " 13  Policy Start Date               2000000 non-null  object \n",
            " 14  Customer Feedback               2000000 non-null  object \n",
            " 15  Smoking Status                  2000000 non-null  object \n",
            " 16  Exercise Frequency              2000000 non-null  object \n",
            " 17  Property Type                   2000000 non-null  object \n",
            " 18  Premium Amount                  1200000 non-null  float64\n",
            " 19  Insurance Duration_1            2000000 non-null  float64\n",
            " 20  Age_1                           2000000 non-null  float64\n",
            " 21  Number of Dependents_1          2000000 non-null  float64\n",
            " 22  Vehicle Age_1                   2000000 non-null  float64\n",
            " 23  Health Score_1                  2000000 non-null  float64\n",
            " 24  Credit Score_1                  2000000 non-null  float64\n",
            " 25  Ratio of Annual Income and Age  2000000 non-null  float64\n",
            "dtypes: float64(15), object(11)\n",
            "memory usage: 412.0+ MB\n"
          ]
        }
      ]
    },
    {
      "cell_type": "code",
      "source": [
        "# convert 'Policy Start Date' to 'Policy Start Year'\n",
        "df1 = df.copy()\n",
        "df1['Policy Start Date'] = pd.to_datetime(df1['Policy Start Date'])\n",
        "df1['Policy Start Year'] = pd.DatetimeIndex(df1['Policy Start Date']).year\n",
        "df1['Policy Start Year'].astype('object')\n",
        "df['Policy Start Year'] = df1['Policy Start Year'].astype('object')\n",
        "del df['Policy Start Date']\n",
        "df.insert(14, 'Policy Start Year', df.pop('Policy Start Year'))"
      ],
      "metadata": {
        "id": "u1VAK9oB4Ex6"
      },
      "execution_count": 12,
      "outputs": []
    },
    {
      "cell_type": "code",
      "source": [
        "df.info(show_counts=True)"
      ],
      "metadata": {
        "colab": {
          "base_uri": "https://localhost:8080/"
        },
        "id": "daykZ1WV4Rd2",
        "outputId": "869210aa-be5b-4245-ced2-51844f40f1b8"
      },
      "execution_count": 13,
      "outputs": [
        {
          "output_type": "stream",
          "name": "stdout",
          "text": [
            "<class 'pandas.core.frame.DataFrame'>\n",
            "Index: 2000000 entries, 0 to 799999\n",
            "Data columns (total 26 columns):\n",
            " #   Column                          Non-Null Count    Dtype  \n",
            "---  ------                          --------------    -----  \n",
            " 0   Age                             2000000 non-null  float64\n",
            " 1   Gender                          2000000 non-null  object \n",
            " 2   Marital Status                  2000000 non-null  object \n",
            " 3   Number of Dependents            2000000 non-null  float64\n",
            " 4   Education Level                 2000000 non-null  object \n",
            " 5   Occupation                      2000000 non-null  object \n",
            " 6   Health Score                    2000000 non-null  float64\n",
            " 7   Location                        2000000 non-null  object \n",
            " 8   Policy Type                     2000000 non-null  object \n",
            " 9   Previous Claims                 1393169 non-null  float64\n",
            " 10  Vehicle Age                     2000000 non-null  float64\n",
            " 11  Credit Score                    2000000 non-null  float64\n",
            " 12  Insurance Duration              2000000 non-null  float64\n",
            " 13  Customer Feedback               2000000 non-null  object \n",
            " 14  Policy Start Year               2000000 non-null  object \n",
            " 15  Smoking Status                  2000000 non-null  object \n",
            " 16  Exercise Frequency              2000000 non-null  object \n",
            " 17  Property Type                   2000000 non-null  object \n",
            " 18  Premium Amount                  1200000 non-null  float64\n",
            " 19  Insurance Duration_1            2000000 non-null  float64\n",
            " 20  Age_1                           2000000 non-null  float64\n",
            " 21  Number of Dependents_1          2000000 non-null  float64\n",
            " 22  Vehicle Age_1                   2000000 non-null  float64\n",
            " 23  Health Score_1                  2000000 non-null  float64\n",
            " 24  Credit Score_1                  2000000 non-null  float64\n",
            " 25  Ratio of Annual Income and Age  2000000 non-null  float64\n",
            "dtypes: float64(15), object(11)\n",
            "memory usage: 412.0+ MB\n"
          ]
        }
      ]
    },
    {
      "cell_type": "code",
      "source": [
        "df = pd.get_dummies(df, dtype='int')"
      ],
      "metadata": {
        "id": "t_Z65lzI5dn2"
      },
      "execution_count": 14,
      "outputs": []
    },
    {
      "cell_type": "code",
      "source": [
        "df.info(show_counts=True)"
      ],
      "metadata": {
        "colab": {
          "base_uri": "https://localhost:8080/"
        },
        "id": "zXa7IHBU5qae",
        "outputId": "dd620c86-3e38-46a6-e600-f8503999eed5"
      },
      "execution_count": 15,
      "outputs": [
        {
          "output_type": "stream",
          "name": "stdout",
          "text": [
            "<class 'pandas.core.frame.DataFrame'>\n",
            "Index: 2000000 entries, 0 to 799999\n",
            "Data columns (total 54 columns):\n",
            " #   Column                          Non-Null Count    Dtype  \n",
            "---  ------                          --------------    -----  \n",
            " 0   Age                             2000000 non-null  float64\n",
            " 1   Number of Dependents            2000000 non-null  float64\n",
            " 2   Health Score                    2000000 non-null  float64\n",
            " 3   Previous Claims                 1393169 non-null  float64\n",
            " 4   Vehicle Age                     2000000 non-null  float64\n",
            " 5   Credit Score                    2000000 non-null  float64\n",
            " 6   Insurance Duration              2000000 non-null  float64\n",
            " 7   Premium Amount                  1200000 non-null  float64\n",
            " 8   Insurance Duration_1            2000000 non-null  float64\n",
            " 9   Age_1                           2000000 non-null  float64\n",
            " 10  Number of Dependents_1          2000000 non-null  float64\n",
            " 11  Vehicle Age_1                   2000000 non-null  float64\n",
            " 12  Health Score_1                  2000000 non-null  float64\n",
            " 13  Credit Score_1                  2000000 non-null  float64\n",
            " 14  Ratio of Annual Income and Age  2000000 non-null  float64\n",
            " 15  Gender_Female                   2000000 non-null  int64  \n",
            " 16  Gender_Male                     2000000 non-null  int64  \n",
            " 17  Marital Status_Divorced         2000000 non-null  int64  \n",
            " 18  Marital Status_Married          2000000 non-null  int64  \n",
            " 19  Marital Status_Single           2000000 non-null  int64  \n",
            " 20  Marital Status_Unknown          2000000 non-null  int64  \n",
            " 21  Education Level_Bachelor's      2000000 non-null  int64  \n",
            " 22  Education Level_High School     2000000 non-null  int64  \n",
            " 23  Education Level_Master's        2000000 non-null  int64  \n",
            " 24  Education Level_PhD             2000000 non-null  int64  \n",
            " 25  Occupation_Employed             2000000 non-null  int64  \n",
            " 26  Occupation_Self-Employed        2000000 non-null  int64  \n",
            " 27  Occupation_Unemployed           2000000 non-null  int64  \n",
            " 28  Occupation_Unknown              2000000 non-null  int64  \n",
            " 29  Location_Rural                  2000000 non-null  int64  \n",
            " 30  Location_Suburban               2000000 non-null  int64  \n",
            " 31  Location_Urban                  2000000 non-null  int64  \n",
            " 32  Policy Type_Basic               2000000 non-null  int64  \n",
            " 33  Policy Type_Comprehensive       2000000 non-null  int64  \n",
            " 34  Policy Type_Premium             2000000 non-null  int64  \n",
            " 35  Customer Feedback_Average       2000000 non-null  int64  \n",
            " 36  Customer Feedback_Good          2000000 non-null  int64  \n",
            " 37  Customer Feedback_Poor          2000000 non-null  int64  \n",
            " 38  Customer Feedback_Unknown       2000000 non-null  int64  \n",
            " 39  Policy Start Year_2019          2000000 non-null  int64  \n",
            " 40  Policy Start Year_2020          2000000 non-null  int64  \n",
            " 41  Policy Start Year_2021          2000000 non-null  int64  \n",
            " 42  Policy Start Year_2022          2000000 non-null  int64  \n",
            " 43  Policy Start Year_2023          2000000 non-null  int64  \n",
            " 44  Policy Start Year_2024          2000000 non-null  int64  \n",
            " 45  Smoking Status_No               2000000 non-null  int64  \n",
            " 46  Smoking Status_Yes              2000000 non-null  int64  \n",
            " 47  Exercise Frequency_Daily        2000000 non-null  int64  \n",
            " 48  Exercise Frequency_Monthly      2000000 non-null  int64  \n",
            " 49  Exercise Frequency_Rarely       2000000 non-null  int64  \n",
            " 50  Exercise Frequency_Weekly       2000000 non-null  int64  \n",
            " 51  Property Type_Apartment         2000000 non-null  int64  \n",
            " 52  Property Type_Condo             2000000 non-null  int64  \n",
            " 53  Property Type_House             2000000 non-null  int64  \n",
            "dtypes: float64(15), int64(39)\n",
            "memory usage: 839.2 MB\n"
          ]
        }
      ]
    },
    {
      "cell_type": "code",
      "source": [
        "%pip install catboost"
      ],
      "metadata": {
        "colab": {
          "base_uri": "https://localhost:8080/"
        },
        "id": "IKfuz17r49gF",
        "outputId": "dc9637f3-41a7-4ea4-c011-f98f5b189f4b"
      },
      "execution_count": 16,
      "outputs": [
        {
          "output_type": "stream",
          "name": "stdout",
          "text": [
            "Requirement already satisfied: catboost in /usr/local/lib/python3.10/dist-packages (1.2.7)\n",
            "Requirement already satisfied: graphviz in /usr/local/lib/python3.10/dist-packages (from catboost) (0.20.3)\n",
            "Requirement already satisfied: matplotlib in /usr/local/lib/python3.10/dist-packages (from catboost) (3.8.0)\n",
            "Requirement already satisfied: numpy<2.0,>=1.16.0 in /usr/local/lib/python3.10/dist-packages (from catboost) (1.26.4)\n",
            "Requirement already satisfied: pandas>=0.24 in /usr/local/lib/python3.10/dist-packages (from catboost) (2.2.2)\n",
            "Requirement already satisfied: scipy in /usr/local/lib/python3.10/dist-packages (from catboost) (1.13.1)\n",
            "Requirement already satisfied: plotly in /usr/local/lib/python3.10/dist-packages (from catboost) (5.24.1)\n",
            "Requirement already satisfied: six in /usr/local/lib/python3.10/dist-packages (from catboost) (1.17.0)\n",
            "Requirement already satisfied: python-dateutil>=2.8.2 in /usr/local/lib/python3.10/dist-packages (from pandas>=0.24->catboost) (2.8.2)\n",
            "Requirement already satisfied: pytz>=2020.1 in /usr/local/lib/python3.10/dist-packages (from pandas>=0.24->catboost) (2024.2)\n",
            "Requirement already satisfied: tzdata>=2022.7 in /usr/local/lib/python3.10/dist-packages (from pandas>=0.24->catboost) (2024.2)\n",
            "Requirement already satisfied: contourpy>=1.0.1 in /usr/local/lib/python3.10/dist-packages (from matplotlib->catboost) (1.3.1)\n",
            "Requirement already satisfied: cycler>=0.10 in /usr/local/lib/python3.10/dist-packages (from matplotlib->catboost) (0.12.1)\n",
            "Requirement already satisfied: fonttools>=4.22.0 in /usr/local/lib/python3.10/dist-packages (from matplotlib->catboost) (4.55.3)\n",
            "Requirement already satisfied: kiwisolver>=1.0.1 in /usr/local/lib/python3.10/dist-packages (from matplotlib->catboost) (1.4.7)\n",
            "Requirement already satisfied: packaging>=20.0 in /usr/local/lib/python3.10/dist-packages (from matplotlib->catboost) (24.2)\n",
            "Requirement already satisfied: pillow>=6.2.0 in /usr/local/lib/python3.10/dist-packages (from matplotlib->catboost) (11.0.0)\n",
            "Requirement already satisfied: pyparsing>=2.3.1 in /usr/local/lib/python3.10/dist-packages (from matplotlib->catboost) (3.2.0)\n",
            "Requirement already satisfied: tenacity>=6.2.0 in /usr/local/lib/python3.10/dist-packages (from plotly->catboost) (9.0.0)\n"
          ]
        }
      ]
    },
    {
      "cell_type": "code",
      "source": [
        "%pip install lightbgm"
      ],
      "metadata": {
        "colab": {
          "base_uri": "https://localhost:8080/"
        },
        "id": "UDkbwxKRj_Qh",
        "outputId": "4fac1ecc-a1fd-4605-fce4-65be0aee9cbd"
      },
      "execution_count": 17,
      "outputs": [
        {
          "output_type": "stream",
          "name": "stdout",
          "text": [
            "\u001b[31mERROR: Could not find a version that satisfies the requirement lightbgm (from versions: none)\u001b[0m\u001b[31m\n",
            "\u001b[0m\u001b[31mERROR: No matching distribution found for lightbgm\u001b[0m\u001b[31m\n",
            "\u001b[0m"
          ]
        }
      ]
    },
    {
      "cell_type": "code",
      "source": [
        "# make a regression model to predict previous claims\n",
        "df_previous_claims = df[df['Previous Claims'].notna()]\n",
        "df_no_previous_claims = df[df['Previous Claims'].isna()]\n",
        "\n",
        "del df_previous_claims['Premium Amount']\n",
        "del df_no_previous_claims['Premium Amount']\n",
        "\n",
        "# train_test split\n",
        "from sklearn.model_selection import train_test_split\n",
        "train_set, test_set_from_train = train_test_split(df_previous_claims, test_size=0.2, random_state=42)\n",
        "\n",
        "# split target and features\n",
        "X_train = df_previous_claims.drop('Previous Claims', axis=1)\n",
        "y_train = df_previous_claims['Previous Claims'].copy()\n",
        "\n",
        "# build model\n",
        "from sklearn.ensemble import StackingRegressor\n",
        "from sklearn.linear_model import LinearRegression\n",
        "import xgboost as xgb\n",
        "from catboost import CatBoostRegressor as Catboost\n",
        "from lightgbm import LGBMRegressor\n",
        "\n",
        "stacking_reg = StackingRegressor(\n",
        "    estimators=[\n",
        "        ('lr', LinearRegression()),\n",
        "        ('LGBM', LGBMRegressor(n_estimators=73, max_depth=10, random_state=42)),\n",
        "        ('xgboost', xgb.XGBRegressor(max_depth=8, n_estimators=50, random_state=42)),\n",
        "        ('catboost',Catboost(iterations=40, depth=7, learning_rate=1, random_state=42)),\n",
        "    ],\n",
        "    final_estimator=LinearRegression(),\n",
        "    n_jobs=-1,\n",
        "    cv=3\n",
        ")\n",
        "stacking_reg.fit(X_train, y_train)"
      ],
      "metadata": {
        "colab": {
          "base_uri": "https://localhost:8080/",
          "height": 378
        },
        "id": "JNE5VE_i4Wlk",
        "outputId": "3893c0b0-0d94-44cb-cdb8-d91e1f0a2506"
      },
      "execution_count": 18,
      "outputs": [
        {
          "output_type": "stream",
          "name": "stderr",
          "text": [
            "/usr/local/lib/python3.10/dist-packages/dask/dataframe/__init__.py:42: FutureWarning: \n",
            "Dask dataframe query planning is disabled because dask-expr is not installed.\n",
            "\n",
            "You can install it with `pip install dask[dataframe]` or `conda install dask`.\n",
            "This will raise in a future version.\n",
            "\n",
            "  warnings.warn(msg, FutureWarning)\n",
            "/usr/local/lib/python3.10/dist-packages/joblib/externals/loky/process_executor.py:752: UserWarning: A worker stopped while some jobs were given to the executor. This can be caused by a too short worker timeout or by a memory leak.\n",
            "  warnings.warn(\n"
          ]
        },
        {
          "output_type": "execute_result",
          "data": {
            "text/plain": [
              "StackingRegressor(cv=3,\n",
              "                  estimators=[('lr', LinearRegression()),\n",
              "                              ('LGBM',\n",
              "                               LGBMRegressor(max_depth=10, n_estimators=73,\n",
              "                                             random_state=42)),\n",
              "                              ('xgboost',\n",
              "                               XGBRegressor(base_score=None, booster=None,\n",
              "                                            callbacks=None,\n",
              "                                            colsample_bylevel=None,\n",
              "                                            colsample_bynode=None,\n",
              "                                            colsample_bytree=None, device=None,\n",
              "                                            early_stopping_rounds=None,\n",
              "                                            enable_categorical=False,\n",
              "                                            eval_metric=None,\n",
              "                                            feat...\n",
              "                                            max_cat_threshold=None,\n",
              "                                            max_cat_to_onehot=None,\n",
              "                                            max_delta_step=None, max_depth=8,\n",
              "                                            max_leaves=None,\n",
              "                                            min_child_weight=None, missing=nan,\n",
              "                                            monotone_constraints=None,\n",
              "                                            multi_strategy=None,\n",
              "                                            n_estimators=50, n_jobs=None,\n",
              "                                            num_parallel_tree=None,\n",
              "                                            random_state=42, ...)),\n",
              "                              ('catboost',\n",
              "                               <catboost.core.CatBoostRegressor object at 0x7a9de2bedb40>)],\n",
              "                  final_estimator=LinearRegression(), n_jobs=-1)"
            ],
            "text/html": [
              "<style>#sk-container-id-1 {\n",
              "  /* Definition of color scheme common for light and dark mode */\n",
              "  --sklearn-color-text: black;\n",
              "  --sklearn-color-line: gray;\n",
              "  /* Definition of color scheme for unfitted estimators */\n",
              "  --sklearn-color-unfitted-level-0: #fff5e6;\n",
              "  --sklearn-color-unfitted-level-1: #f6e4d2;\n",
              "  --sklearn-color-unfitted-level-2: #ffe0b3;\n",
              "  --sklearn-color-unfitted-level-3: chocolate;\n",
              "  /* Definition of color scheme for fitted estimators */\n",
              "  --sklearn-color-fitted-level-0: #f0f8ff;\n",
              "  --sklearn-color-fitted-level-1: #d4ebff;\n",
              "  --sklearn-color-fitted-level-2: #b3dbfd;\n",
              "  --sklearn-color-fitted-level-3: cornflowerblue;\n",
              "\n",
              "  /* Specific color for light theme */\n",
              "  --sklearn-color-text-on-default-background: var(--sg-text-color, var(--theme-code-foreground, var(--jp-content-font-color1, black)));\n",
              "  --sklearn-color-background: var(--sg-background-color, var(--theme-background, var(--jp-layout-color0, white)));\n",
              "  --sklearn-color-border-box: var(--sg-text-color, var(--theme-code-foreground, var(--jp-content-font-color1, black)));\n",
              "  --sklearn-color-icon: #696969;\n",
              "\n",
              "  @media (prefers-color-scheme: dark) {\n",
              "    /* Redefinition of color scheme for dark theme */\n",
              "    --sklearn-color-text-on-default-background: var(--sg-text-color, var(--theme-code-foreground, var(--jp-content-font-color1, white)));\n",
              "    --sklearn-color-background: var(--sg-background-color, var(--theme-background, var(--jp-layout-color0, #111)));\n",
              "    --sklearn-color-border-box: var(--sg-text-color, var(--theme-code-foreground, var(--jp-content-font-color1, white)));\n",
              "    --sklearn-color-icon: #878787;\n",
              "  }\n",
              "}\n",
              "\n",
              "#sk-container-id-1 {\n",
              "  color: var(--sklearn-color-text);\n",
              "}\n",
              "\n",
              "#sk-container-id-1 pre {\n",
              "  padding: 0;\n",
              "}\n",
              "\n",
              "#sk-container-id-1 input.sk-hidden--visually {\n",
              "  border: 0;\n",
              "  clip: rect(1px 1px 1px 1px);\n",
              "  clip: rect(1px, 1px, 1px, 1px);\n",
              "  height: 1px;\n",
              "  margin: -1px;\n",
              "  overflow: hidden;\n",
              "  padding: 0;\n",
              "  position: absolute;\n",
              "  width: 1px;\n",
              "}\n",
              "\n",
              "#sk-container-id-1 div.sk-dashed-wrapped {\n",
              "  border: 1px dashed var(--sklearn-color-line);\n",
              "  margin: 0 0.4em 0.5em 0.4em;\n",
              "  box-sizing: border-box;\n",
              "  padding-bottom: 0.4em;\n",
              "  background-color: var(--sklearn-color-background);\n",
              "}\n",
              "\n",
              "#sk-container-id-1 div.sk-container {\n",
              "  /* jupyter's `normalize.less` sets `[hidden] { display: none; }`\n",
              "     but bootstrap.min.css set `[hidden] { display: none !important; }`\n",
              "     so we also need the `!important` here to be able to override the\n",
              "     default hidden behavior on the sphinx rendered scikit-learn.org.\n",
              "     See: https://github.com/scikit-learn/scikit-learn/issues/21755 */\n",
              "  display: inline-block !important;\n",
              "  position: relative;\n",
              "}\n",
              "\n",
              "#sk-container-id-1 div.sk-text-repr-fallback {\n",
              "  display: none;\n",
              "}\n",
              "\n",
              "div.sk-parallel-item,\n",
              "div.sk-serial,\n",
              "div.sk-item {\n",
              "  /* draw centered vertical line to link estimators */\n",
              "  background-image: linear-gradient(var(--sklearn-color-text-on-default-background), var(--sklearn-color-text-on-default-background));\n",
              "  background-size: 2px 100%;\n",
              "  background-repeat: no-repeat;\n",
              "  background-position: center center;\n",
              "}\n",
              "\n",
              "/* Parallel-specific style estimator block */\n",
              "\n",
              "#sk-container-id-1 div.sk-parallel-item::after {\n",
              "  content: \"\";\n",
              "  width: 100%;\n",
              "  border-bottom: 2px solid var(--sklearn-color-text-on-default-background);\n",
              "  flex-grow: 1;\n",
              "}\n",
              "\n",
              "#sk-container-id-1 div.sk-parallel {\n",
              "  display: flex;\n",
              "  align-items: stretch;\n",
              "  justify-content: center;\n",
              "  background-color: var(--sklearn-color-background);\n",
              "  position: relative;\n",
              "}\n",
              "\n",
              "#sk-container-id-1 div.sk-parallel-item {\n",
              "  display: flex;\n",
              "  flex-direction: column;\n",
              "}\n",
              "\n",
              "#sk-container-id-1 div.sk-parallel-item:first-child::after {\n",
              "  align-self: flex-end;\n",
              "  width: 50%;\n",
              "}\n",
              "\n",
              "#sk-container-id-1 div.sk-parallel-item:last-child::after {\n",
              "  align-self: flex-start;\n",
              "  width: 50%;\n",
              "}\n",
              "\n",
              "#sk-container-id-1 div.sk-parallel-item:only-child::after {\n",
              "  width: 0;\n",
              "}\n",
              "\n",
              "/* Serial-specific style estimator block */\n",
              "\n",
              "#sk-container-id-1 div.sk-serial {\n",
              "  display: flex;\n",
              "  flex-direction: column;\n",
              "  align-items: center;\n",
              "  background-color: var(--sklearn-color-background);\n",
              "  padding-right: 1em;\n",
              "  padding-left: 1em;\n",
              "}\n",
              "\n",
              "\n",
              "/* Toggleable style: style used for estimator/Pipeline/ColumnTransformer box that is\n",
              "clickable and can be expanded/collapsed.\n",
              "- Pipeline and ColumnTransformer use this feature and define the default style\n",
              "- Estimators will overwrite some part of the style using the `sk-estimator` class\n",
              "*/\n",
              "\n",
              "/* Pipeline and ColumnTransformer style (default) */\n",
              "\n",
              "#sk-container-id-1 div.sk-toggleable {\n",
              "  /* Default theme specific background. It is overwritten whether we have a\n",
              "  specific estimator or a Pipeline/ColumnTransformer */\n",
              "  background-color: var(--sklearn-color-background);\n",
              "}\n",
              "\n",
              "/* Toggleable label */\n",
              "#sk-container-id-1 label.sk-toggleable__label {\n",
              "  cursor: pointer;\n",
              "  display: block;\n",
              "  width: 100%;\n",
              "  margin-bottom: 0;\n",
              "  padding: 0.5em;\n",
              "  box-sizing: border-box;\n",
              "  text-align: center;\n",
              "}\n",
              "\n",
              "#sk-container-id-1 label.sk-toggleable__label-arrow:before {\n",
              "  /* Arrow on the left of the label */\n",
              "  content: \"▸\";\n",
              "  float: left;\n",
              "  margin-right: 0.25em;\n",
              "  color: var(--sklearn-color-icon);\n",
              "}\n",
              "\n",
              "#sk-container-id-1 label.sk-toggleable__label-arrow:hover:before {\n",
              "  color: var(--sklearn-color-text);\n",
              "}\n",
              "\n",
              "/* Toggleable content - dropdown */\n",
              "\n",
              "#sk-container-id-1 div.sk-toggleable__content {\n",
              "  max-height: 0;\n",
              "  max-width: 0;\n",
              "  overflow: hidden;\n",
              "  text-align: left;\n",
              "  /* unfitted */\n",
              "  background-color: var(--sklearn-color-unfitted-level-0);\n",
              "}\n",
              "\n",
              "#sk-container-id-1 div.sk-toggleable__content.fitted {\n",
              "  /* fitted */\n",
              "  background-color: var(--sklearn-color-fitted-level-0);\n",
              "}\n",
              "\n",
              "#sk-container-id-1 div.sk-toggleable__content pre {\n",
              "  margin: 0.2em;\n",
              "  border-radius: 0.25em;\n",
              "  color: var(--sklearn-color-text);\n",
              "  /* unfitted */\n",
              "  background-color: var(--sklearn-color-unfitted-level-0);\n",
              "}\n",
              "\n",
              "#sk-container-id-1 div.sk-toggleable__content.fitted pre {\n",
              "  /* unfitted */\n",
              "  background-color: var(--sklearn-color-fitted-level-0);\n",
              "}\n",
              "\n",
              "#sk-container-id-1 input.sk-toggleable__control:checked~div.sk-toggleable__content {\n",
              "  /* Expand drop-down */\n",
              "  max-height: 200px;\n",
              "  max-width: 100%;\n",
              "  overflow: auto;\n",
              "}\n",
              "\n",
              "#sk-container-id-1 input.sk-toggleable__control:checked~label.sk-toggleable__label-arrow:before {\n",
              "  content: \"▾\";\n",
              "}\n",
              "\n",
              "/* Pipeline/ColumnTransformer-specific style */\n",
              "\n",
              "#sk-container-id-1 div.sk-label input.sk-toggleable__control:checked~label.sk-toggleable__label {\n",
              "  color: var(--sklearn-color-text);\n",
              "  background-color: var(--sklearn-color-unfitted-level-2);\n",
              "}\n",
              "\n",
              "#sk-container-id-1 div.sk-label.fitted input.sk-toggleable__control:checked~label.sk-toggleable__label {\n",
              "  background-color: var(--sklearn-color-fitted-level-2);\n",
              "}\n",
              "\n",
              "/* Estimator-specific style */\n",
              "\n",
              "/* Colorize estimator box */\n",
              "#sk-container-id-1 div.sk-estimator input.sk-toggleable__control:checked~label.sk-toggleable__label {\n",
              "  /* unfitted */\n",
              "  background-color: var(--sklearn-color-unfitted-level-2);\n",
              "}\n",
              "\n",
              "#sk-container-id-1 div.sk-estimator.fitted input.sk-toggleable__control:checked~label.sk-toggleable__label {\n",
              "  /* fitted */\n",
              "  background-color: var(--sklearn-color-fitted-level-2);\n",
              "}\n",
              "\n",
              "#sk-container-id-1 div.sk-label label.sk-toggleable__label,\n",
              "#sk-container-id-1 div.sk-label label {\n",
              "  /* The background is the default theme color */\n",
              "  color: var(--sklearn-color-text-on-default-background);\n",
              "}\n",
              "\n",
              "/* On hover, darken the color of the background */\n",
              "#sk-container-id-1 div.sk-label:hover label.sk-toggleable__label {\n",
              "  color: var(--sklearn-color-text);\n",
              "  background-color: var(--sklearn-color-unfitted-level-2);\n",
              "}\n",
              "\n",
              "/* Label box, darken color on hover, fitted */\n",
              "#sk-container-id-1 div.sk-label.fitted:hover label.sk-toggleable__label.fitted {\n",
              "  color: var(--sklearn-color-text);\n",
              "  background-color: var(--sklearn-color-fitted-level-2);\n",
              "}\n",
              "\n",
              "/* Estimator label */\n",
              "\n",
              "#sk-container-id-1 div.sk-label label {\n",
              "  font-family: monospace;\n",
              "  font-weight: bold;\n",
              "  display: inline-block;\n",
              "  line-height: 1.2em;\n",
              "}\n",
              "\n",
              "#sk-container-id-1 div.sk-label-container {\n",
              "  text-align: center;\n",
              "}\n",
              "\n",
              "/* Estimator-specific */\n",
              "#sk-container-id-1 div.sk-estimator {\n",
              "  font-family: monospace;\n",
              "  border: 1px dotted var(--sklearn-color-border-box);\n",
              "  border-radius: 0.25em;\n",
              "  box-sizing: border-box;\n",
              "  margin-bottom: 0.5em;\n",
              "  /* unfitted */\n",
              "  background-color: var(--sklearn-color-unfitted-level-0);\n",
              "}\n",
              "\n",
              "#sk-container-id-1 div.sk-estimator.fitted {\n",
              "  /* fitted */\n",
              "  background-color: var(--sklearn-color-fitted-level-0);\n",
              "}\n",
              "\n",
              "/* on hover */\n",
              "#sk-container-id-1 div.sk-estimator:hover {\n",
              "  /* unfitted */\n",
              "  background-color: var(--sklearn-color-unfitted-level-2);\n",
              "}\n",
              "\n",
              "#sk-container-id-1 div.sk-estimator.fitted:hover {\n",
              "  /* fitted */\n",
              "  background-color: var(--sklearn-color-fitted-level-2);\n",
              "}\n",
              "\n",
              "/* Specification for estimator info (e.g. \"i\" and \"?\") */\n",
              "\n",
              "/* Common style for \"i\" and \"?\" */\n",
              "\n",
              ".sk-estimator-doc-link,\n",
              "a:link.sk-estimator-doc-link,\n",
              "a:visited.sk-estimator-doc-link {\n",
              "  float: right;\n",
              "  font-size: smaller;\n",
              "  line-height: 1em;\n",
              "  font-family: monospace;\n",
              "  background-color: var(--sklearn-color-background);\n",
              "  border-radius: 1em;\n",
              "  height: 1em;\n",
              "  width: 1em;\n",
              "  text-decoration: none !important;\n",
              "  margin-left: 1ex;\n",
              "  /* unfitted */\n",
              "  border: var(--sklearn-color-unfitted-level-1) 1pt solid;\n",
              "  color: var(--sklearn-color-unfitted-level-1);\n",
              "}\n",
              "\n",
              ".sk-estimator-doc-link.fitted,\n",
              "a:link.sk-estimator-doc-link.fitted,\n",
              "a:visited.sk-estimator-doc-link.fitted {\n",
              "  /* fitted */\n",
              "  border: var(--sklearn-color-fitted-level-1) 1pt solid;\n",
              "  color: var(--sklearn-color-fitted-level-1);\n",
              "}\n",
              "\n",
              "/* On hover */\n",
              "div.sk-estimator:hover .sk-estimator-doc-link:hover,\n",
              ".sk-estimator-doc-link:hover,\n",
              "div.sk-label-container:hover .sk-estimator-doc-link:hover,\n",
              ".sk-estimator-doc-link:hover {\n",
              "  /* unfitted */\n",
              "  background-color: var(--sklearn-color-unfitted-level-3);\n",
              "  color: var(--sklearn-color-background);\n",
              "  text-decoration: none;\n",
              "}\n",
              "\n",
              "div.sk-estimator.fitted:hover .sk-estimator-doc-link.fitted:hover,\n",
              ".sk-estimator-doc-link.fitted:hover,\n",
              "div.sk-label-container:hover .sk-estimator-doc-link.fitted:hover,\n",
              ".sk-estimator-doc-link.fitted:hover {\n",
              "  /* fitted */\n",
              "  background-color: var(--sklearn-color-fitted-level-3);\n",
              "  color: var(--sklearn-color-background);\n",
              "  text-decoration: none;\n",
              "}\n",
              "\n",
              "/* Span, style for the box shown on hovering the info icon */\n",
              ".sk-estimator-doc-link span {\n",
              "  display: none;\n",
              "  z-index: 9999;\n",
              "  position: relative;\n",
              "  font-weight: normal;\n",
              "  right: .2ex;\n",
              "  padding: .5ex;\n",
              "  margin: .5ex;\n",
              "  width: min-content;\n",
              "  min-width: 20ex;\n",
              "  max-width: 50ex;\n",
              "  color: var(--sklearn-color-text);\n",
              "  box-shadow: 2pt 2pt 4pt #999;\n",
              "  /* unfitted */\n",
              "  background: var(--sklearn-color-unfitted-level-0);\n",
              "  border: .5pt solid var(--sklearn-color-unfitted-level-3);\n",
              "}\n",
              "\n",
              ".sk-estimator-doc-link.fitted span {\n",
              "  /* fitted */\n",
              "  background: var(--sklearn-color-fitted-level-0);\n",
              "  border: var(--sklearn-color-fitted-level-3);\n",
              "}\n",
              "\n",
              ".sk-estimator-doc-link:hover span {\n",
              "  display: block;\n",
              "}\n",
              "\n",
              "/* \"?\"-specific style due to the `<a>` HTML tag */\n",
              "\n",
              "#sk-container-id-1 a.estimator_doc_link {\n",
              "  float: right;\n",
              "  font-size: 1rem;\n",
              "  line-height: 1em;\n",
              "  font-family: monospace;\n",
              "  background-color: var(--sklearn-color-background);\n",
              "  border-radius: 1rem;\n",
              "  height: 1rem;\n",
              "  width: 1rem;\n",
              "  text-decoration: none;\n",
              "  /* unfitted */\n",
              "  color: var(--sklearn-color-unfitted-level-1);\n",
              "  border: var(--sklearn-color-unfitted-level-1) 1pt solid;\n",
              "}\n",
              "\n",
              "#sk-container-id-1 a.estimator_doc_link.fitted {\n",
              "  /* fitted */\n",
              "  border: var(--sklearn-color-fitted-level-1) 1pt solid;\n",
              "  color: var(--sklearn-color-fitted-level-1);\n",
              "}\n",
              "\n",
              "/* On hover */\n",
              "#sk-container-id-1 a.estimator_doc_link:hover {\n",
              "  /* unfitted */\n",
              "  background-color: var(--sklearn-color-unfitted-level-3);\n",
              "  color: var(--sklearn-color-background);\n",
              "  text-decoration: none;\n",
              "}\n",
              "\n",
              "#sk-container-id-1 a.estimator_doc_link.fitted:hover {\n",
              "  /* fitted */\n",
              "  background-color: var(--sklearn-color-fitted-level-3);\n",
              "}\n",
              "</style><div id=\"sk-container-id-1\" class=\"sk-top-container\"><div class=\"sk-text-repr-fallback\"><pre>StackingRegressor(cv=3,\n",
              "                  estimators=[(&#x27;lr&#x27;, LinearRegression()),\n",
              "                              (&#x27;LGBM&#x27;,\n",
              "                               LGBMRegressor(max_depth=10, n_estimators=73,\n",
              "                                             random_state=42)),\n",
              "                              (&#x27;xgboost&#x27;,\n",
              "                               XGBRegressor(base_score=None, booster=None,\n",
              "                                            callbacks=None,\n",
              "                                            colsample_bylevel=None,\n",
              "                                            colsample_bynode=None,\n",
              "                                            colsample_bytree=None, device=None,\n",
              "                                            early_stopping_rounds=None,\n",
              "                                            enable_categorical=False,\n",
              "                                            eval_metric=None,\n",
              "                                            feat...\n",
              "                                            max_cat_threshold=None,\n",
              "                                            max_cat_to_onehot=None,\n",
              "                                            max_delta_step=None, max_depth=8,\n",
              "                                            max_leaves=None,\n",
              "                                            min_child_weight=None, missing=nan,\n",
              "                                            monotone_constraints=None,\n",
              "                                            multi_strategy=None,\n",
              "                                            n_estimators=50, n_jobs=None,\n",
              "                                            num_parallel_tree=None,\n",
              "                                            random_state=42, ...)),\n",
              "                              (&#x27;catboost&#x27;,\n",
              "                               &lt;catboost.core.CatBoostRegressor object at 0x7a9de2bedb40&gt;)],\n",
              "                  final_estimator=LinearRegression(), n_jobs=-1)</pre><b>In a Jupyter environment, please rerun this cell to show the HTML representation or trust the notebook. <br />On GitHub, the HTML representation is unable to render, please try loading this page with nbviewer.org.</b></div><div class=\"sk-container\" hidden><div class=\"sk-item sk-dashed-wrapped\"><div class=\"sk-label-container\"><div class=\"sk-label fitted sk-toggleable\"><input class=\"sk-toggleable__control sk-hidden--visually\" id=\"sk-estimator-id-1\" type=\"checkbox\" ><label for=\"sk-estimator-id-1\" class=\"sk-toggleable__label fitted sk-toggleable__label-arrow fitted\">&nbsp;&nbsp;StackingRegressor<a class=\"sk-estimator-doc-link fitted\" rel=\"noreferrer\" target=\"_blank\" href=\"https://scikit-learn.org/1.5/modules/generated/sklearn.ensemble.StackingRegressor.html\">?<span>Documentation for StackingRegressor</span></a><span class=\"sk-estimator-doc-link fitted\">i<span>Fitted</span></span></label><div class=\"sk-toggleable__content fitted\"><pre>StackingRegressor(cv=3,\n",
              "                  estimators=[(&#x27;lr&#x27;, LinearRegression()),\n",
              "                              (&#x27;LGBM&#x27;,\n",
              "                               LGBMRegressor(max_depth=10, n_estimators=73,\n",
              "                                             random_state=42)),\n",
              "                              (&#x27;xgboost&#x27;,\n",
              "                               XGBRegressor(base_score=None, booster=None,\n",
              "                                            callbacks=None,\n",
              "                                            colsample_bylevel=None,\n",
              "                                            colsample_bynode=None,\n",
              "                                            colsample_bytree=None, device=None,\n",
              "                                            early_stopping_rounds=None,\n",
              "                                            enable_categorical=False,\n",
              "                                            eval_metric=None,\n",
              "                                            feat...\n",
              "                                            max_cat_threshold=None,\n",
              "                                            max_cat_to_onehot=None,\n",
              "                                            max_delta_step=None, max_depth=8,\n",
              "                                            max_leaves=None,\n",
              "                                            min_child_weight=None, missing=nan,\n",
              "                                            monotone_constraints=None,\n",
              "                                            multi_strategy=None,\n",
              "                                            n_estimators=50, n_jobs=None,\n",
              "                                            num_parallel_tree=None,\n",
              "                                            random_state=42, ...)),\n",
              "                              (&#x27;catboost&#x27;,\n",
              "                               &lt;catboost.core.CatBoostRegressor object at 0x7a9de2bedb40&gt;)],\n",
              "                  final_estimator=LinearRegression(), n_jobs=-1)</pre></div> </div></div><div class=\"sk-serial\"><div class=\"sk-item\"><div class=\"sk-parallel\"><div class=\"sk-parallel-item\"><div class=\"sk-item\"><div class=\"sk-label-container\"><div class=\"sk-label fitted sk-toggleable\"><label>lr</label></div></div><div class=\"sk-serial\"><div class=\"sk-item\"><div class=\"sk-estimator fitted sk-toggleable\"><input class=\"sk-toggleable__control sk-hidden--visually\" id=\"sk-estimator-id-2\" type=\"checkbox\" ><label for=\"sk-estimator-id-2\" class=\"sk-toggleable__label fitted sk-toggleable__label-arrow fitted\">&nbsp;LinearRegression<a class=\"sk-estimator-doc-link fitted\" rel=\"noreferrer\" target=\"_blank\" href=\"https://scikit-learn.org/1.5/modules/generated/sklearn.linear_model.LinearRegression.html\">?<span>Documentation for LinearRegression</span></a></label><div class=\"sk-toggleable__content fitted\"><pre>LinearRegression()</pre></div> </div></div></div></div></div><div class=\"sk-parallel-item\"><div class=\"sk-item\"><div class=\"sk-label-container\"><div class=\"sk-label fitted sk-toggleable\"><label>LGBM</label></div></div><div class=\"sk-serial\"><div class=\"sk-item\"><div class=\"sk-estimator fitted sk-toggleable\"><input class=\"sk-toggleable__control sk-hidden--visually\" id=\"sk-estimator-id-3\" type=\"checkbox\" ><label for=\"sk-estimator-id-3\" class=\"sk-toggleable__label fitted sk-toggleable__label-arrow fitted\">LGBMRegressor</label><div class=\"sk-toggleable__content fitted\"><pre>LGBMRegressor(max_depth=10, n_estimators=73, random_state=42)</pre></div> </div></div></div></div></div><div class=\"sk-parallel-item\"><div class=\"sk-item\"><div class=\"sk-label-container\"><div class=\"sk-label fitted sk-toggleable\"><label>xgboost</label></div></div><div class=\"sk-serial\"><div class=\"sk-item\"><div class=\"sk-estimator fitted sk-toggleable\"><input class=\"sk-toggleable__control sk-hidden--visually\" id=\"sk-estimator-id-4\" type=\"checkbox\" ><label for=\"sk-estimator-id-4\" class=\"sk-toggleable__label fitted sk-toggleable__label-arrow fitted\">XGBRegressor</label><div class=\"sk-toggleable__content fitted\"><pre>XGBRegressor(base_score=None, booster=None, callbacks=None,\n",
              "             colsample_bylevel=None, colsample_bynode=None,\n",
              "             colsample_bytree=None, device=None, early_stopping_rounds=None,\n",
              "             enable_categorical=False, eval_metric=None, feature_types=None,\n",
              "             gamma=None, grow_policy=None, importance_type=None,\n",
              "             interaction_constraints=None, learning_rate=None, max_bin=None,\n",
              "             max_cat_threshold=None, max_cat_to_onehot=None,\n",
              "             max_delta_step=None, max_depth=8, max_leaves=None,\n",
              "             min_child_weight=None, missing=nan, monotone_constraints=None,\n",
              "             multi_strategy=None, n_estimators=50, n_jobs=None,\n",
              "             num_parallel_tree=None, random_state=42, ...)</pre></div> </div></div></div></div></div><div class=\"sk-parallel-item\"><div class=\"sk-item\"><div class=\"sk-label-container\"><div class=\"sk-label fitted sk-toggleable\"><label>catboost</label></div></div><div class=\"sk-serial\"><div class=\"sk-item\"><div class=\"sk-estimator fitted sk-toggleable\"><input class=\"sk-toggleable__control sk-hidden--visually\" id=\"sk-estimator-id-5\" type=\"checkbox\" ><label for=\"sk-estimator-id-5\" class=\"sk-toggleable__label fitted sk-toggleable__label-arrow fitted\">CatBoostRegressor</label><div class=\"sk-toggleable__content fitted\"><pre>&lt;catboost.core.CatBoostRegressor object at 0x7a9de2bedb40&gt;</pre></div> </div></div></div></div></div></div></div><div class=\"sk-item\"><div class=\"sk-parallel\"><div class=\"sk-parallel-item\"><div class=\"sk-item\"><div class=\"sk-label-container\"><div class=\"sk-label fitted sk-toggleable\"><label>final_estimator</label></div></div><div class=\"sk-serial\"><div class=\"sk-item\"><div class=\"sk-estimator fitted sk-toggleable\"><input class=\"sk-toggleable__control sk-hidden--visually\" id=\"sk-estimator-id-6\" type=\"checkbox\" ><label for=\"sk-estimator-id-6\" class=\"sk-toggleable__label fitted sk-toggleable__label-arrow fitted\">&nbsp;LinearRegression<a class=\"sk-estimator-doc-link fitted\" rel=\"noreferrer\" target=\"_blank\" href=\"https://scikit-learn.org/1.5/modules/generated/sklearn.linear_model.LinearRegression.html\">?<span>Documentation for LinearRegression</span></a></label><div class=\"sk-toggleable__content fitted\"><pre>LinearRegression()</pre></div> </div></div></div></div></div></div></div></div></div></div></div>"
            ]
          },
          "metadata": {},
          "execution_count": 18
        }
      ]
    },
    {
      "cell_type": "code",
      "source": [
        "# test\n",
        "X_test = test_set_from_train.drop('Previous Claims', axis=1)\n",
        "y_test = test_set_from_train['Previous Claims'].copy()\n",
        "\n",
        "y_pred = stacking_reg.predict(X_test)\n",
        "\n",
        "from sklearn.metrics import root_mean_squared_error\n",
        "rmse = root_mean_squared_error(y_test, y_pred)\n",
        "rmse"
      ],
      "metadata": {
        "colab": {
          "base_uri": "https://localhost:8080/"
        },
        "id": "imteJA8SYiF0",
        "outputId": "700e1054-8d35-4a65-9d86-083ae88f2443"
      },
      "execution_count": 19,
      "outputs": [
        {
          "output_type": "execute_result",
          "data": {
            "text/plain": [
              "0.9556512108302583"
            ]
          },
          "metadata": {},
          "execution_count": 19
        }
      ]
    },
    {
      "cell_type": "code",
      "source": [
        "test_set = df_no_previous_claims.copy()\n",
        "del test_set['Previous Claims']\n",
        "y_pred = stacking_reg.predict(test_set)\n",
        "\n",
        "# fill nan of df['Previous Claims'] with y_pred\n",
        "df.loc[df['Previous Claims'].isna(), 'Previous Claims'] = y_pred"
      ],
      "metadata": {
        "id": "8EZKIFkXYdPL"
      },
      "execution_count": 20,
      "outputs": []
    },
    {
      "cell_type": "code",
      "source": [
        "df.info(show_counts=True)"
      ],
      "metadata": {
        "colab": {
          "base_uri": "https://localhost:8080/"
        },
        "id": "9Y8AePDM5Y33",
        "outputId": "35ec81b9-5772-4c16-95e6-e9ea21f3eb48"
      },
      "execution_count": 21,
      "outputs": [
        {
          "output_type": "stream",
          "name": "stdout",
          "text": [
            "<class 'pandas.core.frame.DataFrame'>\n",
            "Index: 2000000 entries, 0 to 799999\n",
            "Data columns (total 54 columns):\n",
            " #   Column                          Non-Null Count    Dtype  \n",
            "---  ------                          --------------    -----  \n",
            " 0   Age                             2000000 non-null  float64\n",
            " 1   Number of Dependents            2000000 non-null  float64\n",
            " 2   Health Score                    2000000 non-null  float64\n",
            " 3   Previous Claims                 2000000 non-null  float64\n",
            " 4   Vehicle Age                     2000000 non-null  float64\n",
            " 5   Credit Score                    2000000 non-null  float64\n",
            " 6   Insurance Duration              2000000 non-null  float64\n",
            " 7   Premium Amount                  1200000 non-null  float64\n",
            " 8   Insurance Duration_1            2000000 non-null  float64\n",
            " 9   Age_1                           2000000 non-null  float64\n",
            " 10  Number of Dependents_1          2000000 non-null  float64\n",
            " 11  Vehicle Age_1                   2000000 non-null  float64\n",
            " 12  Health Score_1                  2000000 non-null  float64\n",
            " 13  Credit Score_1                  2000000 non-null  float64\n",
            " 14  Ratio of Annual Income and Age  2000000 non-null  float64\n",
            " 15  Gender_Female                   2000000 non-null  int64  \n",
            " 16  Gender_Male                     2000000 non-null  int64  \n",
            " 17  Marital Status_Divorced         2000000 non-null  int64  \n",
            " 18  Marital Status_Married          2000000 non-null  int64  \n",
            " 19  Marital Status_Single           2000000 non-null  int64  \n",
            " 20  Marital Status_Unknown          2000000 non-null  int64  \n",
            " 21  Education Level_Bachelor's      2000000 non-null  int64  \n",
            " 22  Education Level_High School     2000000 non-null  int64  \n",
            " 23  Education Level_Master's        2000000 non-null  int64  \n",
            " 24  Education Level_PhD             2000000 non-null  int64  \n",
            " 25  Occupation_Employed             2000000 non-null  int64  \n",
            " 26  Occupation_Self-Employed        2000000 non-null  int64  \n",
            " 27  Occupation_Unemployed           2000000 non-null  int64  \n",
            " 28  Occupation_Unknown              2000000 non-null  int64  \n",
            " 29  Location_Rural                  2000000 non-null  int64  \n",
            " 30  Location_Suburban               2000000 non-null  int64  \n",
            " 31  Location_Urban                  2000000 non-null  int64  \n",
            " 32  Policy Type_Basic               2000000 non-null  int64  \n",
            " 33  Policy Type_Comprehensive       2000000 non-null  int64  \n",
            " 34  Policy Type_Premium             2000000 non-null  int64  \n",
            " 35  Customer Feedback_Average       2000000 non-null  int64  \n",
            " 36  Customer Feedback_Good          2000000 non-null  int64  \n",
            " 37  Customer Feedback_Poor          2000000 non-null  int64  \n",
            " 38  Customer Feedback_Unknown       2000000 non-null  int64  \n",
            " 39  Policy Start Year_2019          2000000 non-null  int64  \n",
            " 40  Policy Start Year_2020          2000000 non-null  int64  \n",
            " 41  Policy Start Year_2021          2000000 non-null  int64  \n",
            " 42  Policy Start Year_2022          2000000 non-null  int64  \n",
            " 43  Policy Start Year_2023          2000000 non-null  int64  \n",
            " 44  Policy Start Year_2024          2000000 non-null  int64  \n",
            " 45  Smoking Status_No               2000000 non-null  int64  \n",
            " 46  Smoking Status_Yes              2000000 non-null  int64  \n",
            " 47  Exercise Frequency_Daily        2000000 non-null  int64  \n",
            " 48  Exercise Frequency_Monthly      2000000 non-null  int64  \n",
            " 49  Exercise Frequency_Rarely       2000000 non-null  int64  \n",
            " 50  Exercise Frequency_Weekly       2000000 non-null  int64  \n",
            " 51  Property Type_Apartment         2000000 non-null  int64  \n",
            " 52  Property Type_Condo             2000000 non-null  int64  \n",
            " 53  Property Type_House             2000000 non-null  int64  \n",
            "dtypes: float64(15), int64(39)\n",
            "memory usage: 839.2 MB\n"
          ]
        }
      ]
    },
    {
      "cell_type": "code",
      "source": [
        "train = df.iloc[:len(train)]\n",
        "test = df.iloc[len(train):]"
      ],
      "metadata": {
        "id": "AWE13ShE8Ec9"
      },
      "execution_count": 22,
      "outputs": []
    },
    {
      "cell_type": "code",
      "source": [
        "train.to_csv('10_train.csv', index=False)\n",
        "test.to_csv('10_test.csv', index=False)"
      ],
      "metadata": {
        "id": "ng-6PKSG8AWx"
      },
      "execution_count": 23,
      "outputs": []
    }
  ]
}