{
  "nbformat": 4,
  "nbformat_minor": 0,
  "metadata": {
    "colab": {
      "provenance": []
    },
    "kernelspec": {
      "name": "python3",
      "display_name": "Python 3"
    },
    "language_info": {
      "name": "python"
    }
  },
  "cells": [
    {
      "cell_type": "code",
      "execution_count": 4,
      "metadata": {
        "id": "YHD1GD81S80P"
      },
      "outputs": [],
      "source": [
        "import pandas as pd"
      ]
    },
    {
      "cell_type": "code",
      "source": [
        "train = pd.read_csv('/content/sample_data/train.csv')\n",
        "test = pd.read_csv('/content/sample_data/test.csv')"
      ],
      "metadata": {
        "id": "5q4YqUt8TIu5"
      },
      "execution_count": 5,
      "outputs": []
    },
    {
      "cell_type": "code",
      "source": [
        "len(train), len(test)"
      ],
      "metadata": {
        "colab": {
          "base_uri": "https://localhost:8080/"
        },
        "id": "W2lu95r0XibN",
        "outputId": "d1af04c0-d960-44e6-e14b-6e72ec5d0101"
      },
      "execution_count": 6,
      "outputs": [
        {
          "output_type": "execute_result",
          "data": {
            "text/plain": [
              "(1200000, 800000)"
            ]
          },
          "metadata": {},
          "execution_count": 6
        }
      ]
    },
    {
      "cell_type": "code",
      "source": [
        "df = pd.concat([train, test], axis=0)"
      ],
      "metadata": {
        "id": "c0IZwstgTO48"
      },
      "execution_count": 7,
      "outputs": []
    },
    {
      "cell_type": "code",
      "source": [
        "df.head()"
      ],
      "metadata": {
        "colab": {
          "base_uri": "https://localhost:8080/",
          "height": 359
        },
        "id": "6v8U0AtJTRvk",
        "outputId": "2326aaad-0b7c-4d3b-a936-2dd20ef6f579"
      },
      "execution_count": 8,
      "outputs": [
        {
          "output_type": "execute_result",
          "data": {
            "text/plain": [
              "   id   Age  Gender  Annual Income Marital Status  Number of Dependents  \\\n",
              "0   0  19.0  Female        10049.0        Married                   1.0   \n",
              "1   1  39.0  Female        31678.0       Divorced                   3.0   \n",
              "2   2  23.0    Male        25602.0       Divorced                   3.0   \n",
              "3   3  21.0    Male       141855.0        Married                   2.0   \n",
              "4   4  21.0    Male        39651.0         Single                   1.0   \n",
              "\n",
              "  Education Level     Occupation  Health Score  Location  ... Previous Claims  \\\n",
              "0      Bachelor's  Self-Employed     22.598761     Urban  ...             2.0   \n",
              "1        Master's            NaN     15.569731     Rural  ...             1.0   \n",
              "2     High School  Self-Employed     47.177549  Suburban  ...             1.0   \n",
              "3      Bachelor's            NaN     10.938144     Rural  ...             1.0   \n",
              "4      Bachelor's  Self-Employed     20.376094     Rural  ...             0.0   \n",
              "\n",
              "   Vehicle Age  Credit Score  Insurance Duration           Policy Start Date  \\\n",
              "0         17.0         372.0                 5.0  2023-12-23 15:21:39.134960   \n",
              "1         12.0         694.0                 2.0  2023-06-12 15:21:39.111551   \n",
              "2         14.0           NaN                 3.0  2023-09-30 15:21:39.221386   \n",
              "3          0.0         367.0                 1.0  2024-06-12 15:21:39.226954   \n",
              "4          8.0         598.0                 4.0  2021-12-01 15:21:39.252145   \n",
              "\n",
              "  Customer Feedback Smoking Status Exercise Frequency Property Type  \\\n",
              "0              Poor             No             Weekly         House   \n",
              "1           Average            Yes            Monthly         House   \n",
              "2              Good            Yes             Weekly         House   \n",
              "3              Poor            Yes              Daily     Apartment   \n",
              "4              Poor            Yes             Weekly         House   \n",
              "\n",
              "  Premium Amount  \n",
              "0         2869.0  \n",
              "1         1483.0  \n",
              "2          567.0  \n",
              "3          765.0  \n",
              "4         2022.0  \n",
              "\n",
              "[5 rows x 21 columns]"
            ],
            "text/html": [
              "\n",
              "  <div id=\"df-9fd42525-c418-4599-9c64-ea4b95dbee0c\" class=\"colab-df-container\">\n",
              "    <div>\n",
              "<style scoped>\n",
              "    .dataframe tbody tr th:only-of-type {\n",
              "        vertical-align: middle;\n",
              "    }\n",
              "\n",
              "    .dataframe tbody tr th {\n",
              "        vertical-align: top;\n",
              "    }\n",
              "\n",
              "    .dataframe thead th {\n",
              "        text-align: right;\n",
              "    }\n",
              "</style>\n",
              "<table border=\"1\" class=\"dataframe\">\n",
              "  <thead>\n",
              "    <tr style=\"text-align: right;\">\n",
              "      <th></th>\n",
              "      <th>id</th>\n",
              "      <th>Age</th>\n",
              "      <th>Gender</th>\n",
              "      <th>Annual Income</th>\n",
              "      <th>Marital Status</th>\n",
              "      <th>Number of Dependents</th>\n",
              "      <th>Education Level</th>\n",
              "      <th>Occupation</th>\n",
              "      <th>Health Score</th>\n",
              "      <th>Location</th>\n",
              "      <th>...</th>\n",
              "      <th>Previous Claims</th>\n",
              "      <th>Vehicle Age</th>\n",
              "      <th>Credit Score</th>\n",
              "      <th>Insurance Duration</th>\n",
              "      <th>Policy Start Date</th>\n",
              "      <th>Customer Feedback</th>\n",
              "      <th>Smoking Status</th>\n",
              "      <th>Exercise Frequency</th>\n",
              "      <th>Property Type</th>\n",
              "      <th>Premium Amount</th>\n",
              "    </tr>\n",
              "  </thead>\n",
              "  <tbody>\n",
              "    <tr>\n",
              "      <th>0</th>\n",
              "      <td>0</td>\n",
              "      <td>19.0</td>\n",
              "      <td>Female</td>\n",
              "      <td>10049.0</td>\n",
              "      <td>Married</td>\n",
              "      <td>1.0</td>\n",
              "      <td>Bachelor's</td>\n",
              "      <td>Self-Employed</td>\n",
              "      <td>22.598761</td>\n",
              "      <td>Urban</td>\n",
              "      <td>...</td>\n",
              "      <td>2.0</td>\n",
              "      <td>17.0</td>\n",
              "      <td>372.0</td>\n",
              "      <td>5.0</td>\n",
              "      <td>2023-12-23 15:21:39.134960</td>\n",
              "      <td>Poor</td>\n",
              "      <td>No</td>\n",
              "      <td>Weekly</td>\n",
              "      <td>House</td>\n",
              "      <td>2869.0</td>\n",
              "    </tr>\n",
              "    <tr>\n",
              "      <th>1</th>\n",
              "      <td>1</td>\n",
              "      <td>39.0</td>\n",
              "      <td>Female</td>\n",
              "      <td>31678.0</td>\n",
              "      <td>Divorced</td>\n",
              "      <td>3.0</td>\n",
              "      <td>Master's</td>\n",
              "      <td>NaN</td>\n",
              "      <td>15.569731</td>\n",
              "      <td>Rural</td>\n",
              "      <td>...</td>\n",
              "      <td>1.0</td>\n",
              "      <td>12.0</td>\n",
              "      <td>694.0</td>\n",
              "      <td>2.0</td>\n",
              "      <td>2023-06-12 15:21:39.111551</td>\n",
              "      <td>Average</td>\n",
              "      <td>Yes</td>\n",
              "      <td>Monthly</td>\n",
              "      <td>House</td>\n",
              "      <td>1483.0</td>\n",
              "    </tr>\n",
              "    <tr>\n",
              "      <th>2</th>\n",
              "      <td>2</td>\n",
              "      <td>23.0</td>\n",
              "      <td>Male</td>\n",
              "      <td>25602.0</td>\n",
              "      <td>Divorced</td>\n",
              "      <td>3.0</td>\n",
              "      <td>High School</td>\n",
              "      <td>Self-Employed</td>\n",
              "      <td>47.177549</td>\n",
              "      <td>Suburban</td>\n",
              "      <td>...</td>\n",
              "      <td>1.0</td>\n",
              "      <td>14.0</td>\n",
              "      <td>NaN</td>\n",
              "      <td>3.0</td>\n",
              "      <td>2023-09-30 15:21:39.221386</td>\n",
              "      <td>Good</td>\n",
              "      <td>Yes</td>\n",
              "      <td>Weekly</td>\n",
              "      <td>House</td>\n",
              "      <td>567.0</td>\n",
              "    </tr>\n",
              "    <tr>\n",
              "      <th>3</th>\n",
              "      <td>3</td>\n",
              "      <td>21.0</td>\n",
              "      <td>Male</td>\n",
              "      <td>141855.0</td>\n",
              "      <td>Married</td>\n",
              "      <td>2.0</td>\n",
              "      <td>Bachelor's</td>\n",
              "      <td>NaN</td>\n",
              "      <td>10.938144</td>\n",
              "      <td>Rural</td>\n",
              "      <td>...</td>\n",
              "      <td>1.0</td>\n",
              "      <td>0.0</td>\n",
              "      <td>367.0</td>\n",
              "      <td>1.0</td>\n",
              "      <td>2024-06-12 15:21:39.226954</td>\n",
              "      <td>Poor</td>\n",
              "      <td>Yes</td>\n",
              "      <td>Daily</td>\n",
              "      <td>Apartment</td>\n",
              "      <td>765.0</td>\n",
              "    </tr>\n",
              "    <tr>\n",
              "      <th>4</th>\n",
              "      <td>4</td>\n",
              "      <td>21.0</td>\n",
              "      <td>Male</td>\n",
              "      <td>39651.0</td>\n",
              "      <td>Single</td>\n",
              "      <td>1.0</td>\n",
              "      <td>Bachelor's</td>\n",
              "      <td>Self-Employed</td>\n",
              "      <td>20.376094</td>\n",
              "      <td>Rural</td>\n",
              "      <td>...</td>\n",
              "      <td>0.0</td>\n",
              "      <td>8.0</td>\n",
              "      <td>598.0</td>\n",
              "      <td>4.0</td>\n",
              "      <td>2021-12-01 15:21:39.252145</td>\n",
              "      <td>Poor</td>\n",
              "      <td>Yes</td>\n",
              "      <td>Weekly</td>\n",
              "      <td>House</td>\n",
              "      <td>2022.0</td>\n",
              "    </tr>\n",
              "  </tbody>\n",
              "</table>\n",
              "<p>5 rows × 21 columns</p>\n",
              "</div>\n",
              "    <div class=\"colab-df-buttons\">\n",
              "\n",
              "  <div class=\"colab-df-container\">\n",
              "    <button class=\"colab-df-convert\" onclick=\"convertToInteractive('df-9fd42525-c418-4599-9c64-ea4b95dbee0c')\"\n",
              "            title=\"Convert this dataframe to an interactive table.\"\n",
              "            style=\"display:none;\">\n",
              "\n",
              "  <svg xmlns=\"http://www.w3.org/2000/svg\" height=\"24px\" viewBox=\"0 -960 960 960\">\n",
              "    <path d=\"M120-120v-720h720v720H120Zm60-500h600v-160H180v160Zm220 220h160v-160H400v160Zm0 220h160v-160H400v160ZM180-400h160v-160H180v160Zm440 0h160v-160H620v160ZM180-180h160v-160H180v160Zm440 0h160v-160H620v160Z\"/>\n",
              "  </svg>\n",
              "    </button>\n",
              "\n",
              "  <style>\n",
              "    .colab-df-container {\n",
              "      display:flex;\n",
              "      gap: 12px;\n",
              "    }\n",
              "\n",
              "    .colab-df-convert {\n",
              "      background-color: #E8F0FE;\n",
              "      border: none;\n",
              "      border-radius: 50%;\n",
              "      cursor: pointer;\n",
              "      display: none;\n",
              "      fill: #1967D2;\n",
              "      height: 32px;\n",
              "      padding: 0 0 0 0;\n",
              "      width: 32px;\n",
              "    }\n",
              "\n",
              "    .colab-df-convert:hover {\n",
              "      background-color: #E2EBFA;\n",
              "      box-shadow: 0px 1px 2px rgba(60, 64, 67, 0.3), 0px 1px 3px 1px rgba(60, 64, 67, 0.15);\n",
              "      fill: #174EA6;\n",
              "    }\n",
              "\n",
              "    .colab-df-buttons div {\n",
              "      margin-bottom: 4px;\n",
              "    }\n",
              "\n",
              "    [theme=dark] .colab-df-convert {\n",
              "      background-color: #3B4455;\n",
              "      fill: #D2E3FC;\n",
              "    }\n",
              "\n",
              "    [theme=dark] .colab-df-convert:hover {\n",
              "      background-color: #434B5C;\n",
              "      box-shadow: 0px 1px 3px 1px rgba(0, 0, 0, 0.15);\n",
              "      filter: drop-shadow(0px 1px 2px rgba(0, 0, 0, 0.3));\n",
              "      fill: #FFFFFF;\n",
              "    }\n",
              "  </style>\n",
              "\n",
              "    <script>\n",
              "      const buttonEl =\n",
              "        document.querySelector('#df-9fd42525-c418-4599-9c64-ea4b95dbee0c button.colab-df-convert');\n",
              "      buttonEl.style.display =\n",
              "        google.colab.kernel.accessAllowed ? 'block' : 'none';\n",
              "\n",
              "      async function convertToInteractive(key) {\n",
              "        const element = document.querySelector('#df-9fd42525-c418-4599-9c64-ea4b95dbee0c');\n",
              "        const dataTable =\n",
              "          await google.colab.kernel.invokeFunction('convertToInteractive',\n",
              "                                                    [key], {});\n",
              "        if (!dataTable) return;\n",
              "\n",
              "        const docLinkHtml = 'Like what you see? Visit the ' +\n",
              "          '<a target=\"_blank\" href=https://colab.research.google.com/notebooks/data_table.ipynb>data table notebook</a>'\n",
              "          + ' to learn more about interactive tables.';\n",
              "        element.innerHTML = '';\n",
              "        dataTable['output_type'] = 'display_data';\n",
              "        await google.colab.output.renderOutput(dataTable, element);\n",
              "        const docLink = document.createElement('div');\n",
              "        docLink.innerHTML = docLinkHtml;\n",
              "        element.appendChild(docLink);\n",
              "      }\n",
              "    </script>\n",
              "  </div>\n",
              "\n",
              "\n",
              "<div id=\"df-fe25de1a-cfd3-40ad-ba07-a7912c1413d7\">\n",
              "  <button class=\"colab-df-quickchart\" onclick=\"quickchart('df-fe25de1a-cfd3-40ad-ba07-a7912c1413d7')\"\n",
              "            title=\"Suggest charts\"\n",
              "            style=\"display:none;\">\n",
              "\n",
              "<svg xmlns=\"http://www.w3.org/2000/svg\" height=\"24px\"viewBox=\"0 0 24 24\"\n",
              "     width=\"24px\">\n",
              "    <g>\n",
              "        <path d=\"M19 3H5c-1.1 0-2 .9-2 2v14c0 1.1.9 2 2 2h14c1.1 0 2-.9 2-2V5c0-1.1-.9-2-2-2zM9 17H7v-7h2v7zm4 0h-2V7h2v10zm4 0h-2v-4h2v4z\"/>\n",
              "    </g>\n",
              "</svg>\n",
              "  </button>\n",
              "\n",
              "<style>\n",
              "  .colab-df-quickchart {\n",
              "      --bg-color: #E8F0FE;\n",
              "      --fill-color: #1967D2;\n",
              "      --hover-bg-color: #E2EBFA;\n",
              "      --hover-fill-color: #174EA6;\n",
              "      --disabled-fill-color: #AAA;\n",
              "      --disabled-bg-color: #DDD;\n",
              "  }\n",
              "\n",
              "  [theme=dark] .colab-df-quickchart {\n",
              "      --bg-color: #3B4455;\n",
              "      --fill-color: #D2E3FC;\n",
              "      --hover-bg-color: #434B5C;\n",
              "      --hover-fill-color: #FFFFFF;\n",
              "      --disabled-bg-color: #3B4455;\n",
              "      --disabled-fill-color: #666;\n",
              "  }\n",
              "\n",
              "  .colab-df-quickchart {\n",
              "    background-color: var(--bg-color);\n",
              "    border: none;\n",
              "    border-radius: 50%;\n",
              "    cursor: pointer;\n",
              "    display: none;\n",
              "    fill: var(--fill-color);\n",
              "    height: 32px;\n",
              "    padding: 0;\n",
              "    width: 32px;\n",
              "  }\n",
              "\n",
              "  .colab-df-quickchart:hover {\n",
              "    background-color: var(--hover-bg-color);\n",
              "    box-shadow: 0 1px 2px rgba(60, 64, 67, 0.3), 0 1px 3px 1px rgba(60, 64, 67, 0.15);\n",
              "    fill: var(--button-hover-fill-color);\n",
              "  }\n",
              "\n",
              "  .colab-df-quickchart-complete:disabled,\n",
              "  .colab-df-quickchart-complete:disabled:hover {\n",
              "    background-color: var(--disabled-bg-color);\n",
              "    fill: var(--disabled-fill-color);\n",
              "    box-shadow: none;\n",
              "  }\n",
              "\n",
              "  .colab-df-spinner {\n",
              "    border: 2px solid var(--fill-color);\n",
              "    border-color: transparent;\n",
              "    border-bottom-color: var(--fill-color);\n",
              "    animation:\n",
              "      spin 1s steps(1) infinite;\n",
              "  }\n",
              "\n",
              "  @keyframes spin {\n",
              "    0% {\n",
              "      border-color: transparent;\n",
              "      border-bottom-color: var(--fill-color);\n",
              "      border-left-color: var(--fill-color);\n",
              "    }\n",
              "    20% {\n",
              "      border-color: transparent;\n",
              "      border-left-color: var(--fill-color);\n",
              "      border-top-color: var(--fill-color);\n",
              "    }\n",
              "    30% {\n",
              "      border-color: transparent;\n",
              "      border-left-color: var(--fill-color);\n",
              "      border-top-color: var(--fill-color);\n",
              "      border-right-color: var(--fill-color);\n",
              "    }\n",
              "    40% {\n",
              "      border-color: transparent;\n",
              "      border-right-color: var(--fill-color);\n",
              "      border-top-color: var(--fill-color);\n",
              "    }\n",
              "    60% {\n",
              "      border-color: transparent;\n",
              "      border-right-color: var(--fill-color);\n",
              "    }\n",
              "    80% {\n",
              "      border-color: transparent;\n",
              "      border-right-color: var(--fill-color);\n",
              "      border-bottom-color: var(--fill-color);\n",
              "    }\n",
              "    90% {\n",
              "      border-color: transparent;\n",
              "      border-bottom-color: var(--fill-color);\n",
              "    }\n",
              "  }\n",
              "</style>\n",
              "\n",
              "  <script>\n",
              "    async function quickchart(key) {\n",
              "      const quickchartButtonEl =\n",
              "        document.querySelector('#' + key + ' button');\n",
              "      quickchartButtonEl.disabled = true;  // To prevent multiple clicks.\n",
              "      quickchartButtonEl.classList.add('colab-df-spinner');\n",
              "      try {\n",
              "        const charts = await google.colab.kernel.invokeFunction(\n",
              "            'suggestCharts', [key], {});\n",
              "      } catch (error) {\n",
              "        console.error('Error during call to suggestCharts:', error);\n",
              "      }\n",
              "      quickchartButtonEl.classList.remove('colab-df-spinner');\n",
              "      quickchartButtonEl.classList.add('colab-df-quickchart-complete');\n",
              "    }\n",
              "    (() => {\n",
              "      let quickchartButtonEl =\n",
              "        document.querySelector('#df-fe25de1a-cfd3-40ad-ba07-a7912c1413d7 button');\n",
              "      quickchartButtonEl.style.display =\n",
              "        google.colab.kernel.accessAllowed ? 'block' : 'none';\n",
              "    })();\n",
              "  </script>\n",
              "</div>\n",
              "\n",
              "    </div>\n",
              "  </div>\n"
            ],
            "application/vnd.google.colaboratory.intrinsic+json": {
              "type": "dataframe",
              "variable_name": "df"
            }
          },
          "metadata": {},
          "execution_count": 8
        }
      ]
    },
    {
      "cell_type": "code",
      "source": [
        "df.info(show_counts=True)"
      ],
      "metadata": {
        "colab": {
          "base_uri": "https://localhost:8080/"
        },
        "id": "He_VKkmkTSny",
        "outputId": "3f7271e9-d5b6-48fc-a46c-9114c7756af2"
      },
      "execution_count": 15,
      "outputs": [
        {
          "output_type": "stream",
          "name": "stdout",
          "text": [
            "<class 'pandas.core.frame.DataFrame'>\n",
            "Index: 2000000 entries, 0 to 799999\n",
            "Data columns (total 21 columns):\n",
            " #   Column                Non-Null Count    Dtype  \n",
            "---  ------                --------------    -----  \n",
            " 0   id                    2000000 non-null  int64  \n",
            " 1   Age                   1968806 non-null  float64\n",
            " 2   Gender                2000000 non-null  object \n",
            " 3   Annual Income         1925191 non-null  float64\n",
            " 4   Marital Status        1969135 non-null  object \n",
            " 5   Number of Dependents  1817198 non-null  float64\n",
            " 6   Education Level       2000000 non-null  object \n",
            " 7   Occupation            1402800 non-null  object \n",
            " 8   Health Score          1876475 non-null  float64\n",
            " 9   Location              2000000 non-null  object \n",
            " 10  Policy Type           2000000 non-null  object \n",
            " 11  Previous Claims       1393169 non-null  float64\n",
            " 12  Vehicle Age           1999991 non-null  float64\n",
            " 13  Credit Score          1770667 non-null  float64\n",
            " 14  Insurance Duration    1999997 non-null  float64\n",
            " 15  Policy Start Date     2000000 non-null  object \n",
            " 16  Customer Feedback     1869900 non-null  object \n",
            " 17  Smoking Status        2000000 non-null  object \n",
            " 18  Exercise Frequency    2000000 non-null  object \n",
            " 19  Property Type         2000000 non-null  object \n",
            " 20  Premium Amount        1200000 non-null  float64\n",
            "dtypes: float64(9), int64(1), object(11)\n",
            "memory usage: 335.7+ MB\n"
          ]
        }
      ]
    },
    {
      "cell_type": "code",
      "source": [
        "df['Marital Status'].value_counts()"
      ],
      "metadata": {
        "colab": {
          "base_uri": "https://localhost:8080/",
          "height": 209
        },
        "id": "q5bYNjfJVo65",
        "outputId": "8f00ab17-747b-47ea-ed46-53e8292134fb"
      },
      "execution_count": 16,
      "outputs": [
        {
          "output_type": "execute_result",
          "data": {
            "text/plain": [
              "Marital Status\n",
              "Single      659096\n",
              "Married     656488\n",
              "Divorced    653551\n",
              "Name: count, dtype: int64"
            ],
            "text/html": [
              "<div>\n",
              "<style scoped>\n",
              "    .dataframe tbody tr th:only-of-type {\n",
              "        vertical-align: middle;\n",
              "    }\n",
              "\n",
              "    .dataframe tbody tr th {\n",
              "        vertical-align: top;\n",
              "    }\n",
              "\n",
              "    .dataframe thead th {\n",
              "        text-align: right;\n",
              "    }\n",
              "</style>\n",
              "<table border=\"1\" class=\"dataframe\">\n",
              "  <thead>\n",
              "    <tr style=\"text-align: right;\">\n",
              "      <th></th>\n",
              "      <th>count</th>\n",
              "    </tr>\n",
              "    <tr>\n",
              "      <th>Marital Status</th>\n",
              "      <th></th>\n",
              "    </tr>\n",
              "  </thead>\n",
              "  <tbody>\n",
              "    <tr>\n",
              "      <th>Single</th>\n",
              "      <td>659096</td>\n",
              "    </tr>\n",
              "    <tr>\n",
              "      <th>Married</th>\n",
              "      <td>656488</td>\n",
              "    </tr>\n",
              "    <tr>\n",
              "      <th>Divorced</th>\n",
              "      <td>653551</td>\n",
              "    </tr>\n",
              "  </tbody>\n",
              "</table>\n",
              "</div><br><label><b>dtype:</b> int64</label>"
            ]
          },
          "metadata": {},
          "execution_count": 16
        }
      ]
    },
    {
      "cell_type": "code",
      "source": [
        "df['Education Level'].value_counts()"
      ],
      "metadata": {
        "colab": {
          "base_uri": "https://localhost:8080/",
          "height": 240
        },
        "id": "e-sD_xkpWhvS",
        "outputId": "310d09ab-8038-4371-88d7-23239b6e0636"
      },
      "execution_count": 17,
      "outputs": [
        {
          "output_type": "execute_result",
          "data": {
            "text/plain": [
              "Education Level\n",
              "Master's       506370\n",
              "PhD            505975\n",
              "Bachelor's     505457\n",
              "High School    482198\n",
              "Name: count, dtype: int64"
            ],
            "text/html": [
              "<div>\n",
              "<style scoped>\n",
              "    .dataframe tbody tr th:only-of-type {\n",
              "        vertical-align: middle;\n",
              "    }\n",
              "\n",
              "    .dataframe tbody tr th {\n",
              "        vertical-align: top;\n",
              "    }\n",
              "\n",
              "    .dataframe thead th {\n",
              "        text-align: right;\n",
              "    }\n",
              "</style>\n",
              "<table border=\"1\" class=\"dataframe\">\n",
              "  <thead>\n",
              "    <tr style=\"text-align: right;\">\n",
              "      <th></th>\n",
              "      <th>count</th>\n",
              "    </tr>\n",
              "    <tr>\n",
              "      <th>Education Level</th>\n",
              "      <th></th>\n",
              "    </tr>\n",
              "  </thead>\n",
              "  <tbody>\n",
              "    <tr>\n",
              "      <th>Master's</th>\n",
              "      <td>506370</td>\n",
              "    </tr>\n",
              "    <tr>\n",
              "      <th>PhD</th>\n",
              "      <td>505975</td>\n",
              "    </tr>\n",
              "    <tr>\n",
              "      <th>Bachelor's</th>\n",
              "      <td>505457</td>\n",
              "    </tr>\n",
              "    <tr>\n",
              "      <th>High School</th>\n",
              "      <td>482198</td>\n",
              "    </tr>\n",
              "  </tbody>\n",
              "</table>\n",
              "</div><br><label><b>dtype:</b> int64</label>"
            ]
          },
          "metadata": {},
          "execution_count": 17
        }
      ]
    },
    {
      "cell_type": "code",
      "source": [
        "df['Occupation'].value_counts()"
      ],
      "metadata": {
        "colab": {
          "base_uri": "https://localhost:8080/",
          "height": 209
        },
        "id": "ZumFSmmsYV4X",
        "outputId": "f8176e4d-c1bd-47cf-8e26-1433e01907c6"
      },
      "execution_count": 18,
      "outputs": [
        {
          "output_type": "execute_result",
          "data": {
            "text/plain": [
              "Occupation\n",
              "Employed         471324\n",
              "Self-Employed    470636\n",
              "Unemployed       460840\n",
              "Name: count, dtype: int64"
            ],
            "text/html": [
              "<div>\n",
              "<style scoped>\n",
              "    .dataframe tbody tr th:only-of-type {\n",
              "        vertical-align: middle;\n",
              "    }\n",
              "\n",
              "    .dataframe tbody tr th {\n",
              "        vertical-align: top;\n",
              "    }\n",
              "\n",
              "    .dataframe thead th {\n",
              "        text-align: right;\n",
              "    }\n",
              "</style>\n",
              "<table border=\"1\" class=\"dataframe\">\n",
              "  <thead>\n",
              "    <tr style=\"text-align: right;\">\n",
              "      <th></th>\n",
              "      <th>count</th>\n",
              "    </tr>\n",
              "    <tr>\n",
              "      <th>Occupation</th>\n",
              "      <th></th>\n",
              "    </tr>\n",
              "  </thead>\n",
              "  <tbody>\n",
              "    <tr>\n",
              "      <th>Employed</th>\n",
              "      <td>471324</td>\n",
              "    </tr>\n",
              "    <tr>\n",
              "      <th>Self-Employed</th>\n",
              "      <td>470636</td>\n",
              "    </tr>\n",
              "    <tr>\n",
              "      <th>Unemployed</th>\n",
              "      <td>460840</td>\n",
              "    </tr>\n",
              "  </tbody>\n",
              "</table>\n",
              "</div><br><label><b>dtype:</b> int64</label>"
            ]
          },
          "metadata": {},
          "execution_count": 18
        }
      ]
    },
    {
      "cell_type": "code",
      "source": [
        "df['Location'].value_counts()"
      ],
      "metadata": {
        "colab": {
          "base_uri": "https://localhost:8080/",
          "height": 209
        },
        "id": "k46jrLxSV1lh",
        "outputId": "ae1c3c30-8927-4247-b0e2-4ba4a2789c70"
      },
      "execution_count": 19,
      "outputs": [
        {
          "output_type": "execute_result",
          "data": {
            "text/plain": [
              "Location\n",
              "Suburban    668732\n",
              "Rural       668067\n",
              "Urban       663201\n",
              "Name: count, dtype: int64"
            ],
            "text/html": [
              "<div>\n",
              "<style scoped>\n",
              "    .dataframe tbody tr th:only-of-type {\n",
              "        vertical-align: middle;\n",
              "    }\n",
              "\n",
              "    .dataframe tbody tr th {\n",
              "        vertical-align: top;\n",
              "    }\n",
              "\n",
              "    .dataframe thead th {\n",
              "        text-align: right;\n",
              "    }\n",
              "</style>\n",
              "<table border=\"1\" class=\"dataframe\">\n",
              "  <thead>\n",
              "    <tr style=\"text-align: right;\">\n",
              "      <th></th>\n",
              "      <th>count</th>\n",
              "    </tr>\n",
              "    <tr>\n",
              "      <th>Location</th>\n",
              "      <th></th>\n",
              "    </tr>\n",
              "  </thead>\n",
              "  <tbody>\n",
              "    <tr>\n",
              "      <th>Suburban</th>\n",
              "      <td>668732</td>\n",
              "    </tr>\n",
              "    <tr>\n",
              "      <th>Rural</th>\n",
              "      <td>668067</td>\n",
              "    </tr>\n",
              "    <tr>\n",
              "      <th>Urban</th>\n",
              "      <td>663201</td>\n",
              "    </tr>\n",
              "  </tbody>\n",
              "</table>\n",
              "</div><br><label><b>dtype:</b> int64</label>"
            ]
          },
          "metadata": {},
          "execution_count": 19
        }
      ]
    },
    {
      "cell_type": "code",
      "source": [
        "df['Policy Type'].value_counts()"
      ],
      "metadata": {
        "colab": {
          "base_uri": "https://localhost:8080/",
          "height": 209
        },
        "id": "BUm4hmX3TX0B",
        "outputId": "4da5326d-fcd6-4599-c5a1-f566da05015e"
      },
      "execution_count": 20,
      "outputs": [
        {
          "output_type": "execute_result",
          "data": {
            "text/plain": [
              "Policy Type\n",
              "Premium          669475\n",
              "Comprehensive    665822\n",
              "Basic            664703\n",
              "Name: count, dtype: int64"
            ],
            "text/html": [
              "<div>\n",
              "<style scoped>\n",
              "    .dataframe tbody tr th:only-of-type {\n",
              "        vertical-align: middle;\n",
              "    }\n",
              "\n",
              "    .dataframe tbody tr th {\n",
              "        vertical-align: top;\n",
              "    }\n",
              "\n",
              "    .dataframe thead th {\n",
              "        text-align: right;\n",
              "    }\n",
              "</style>\n",
              "<table border=\"1\" class=\"dataframe\">\n",
              "  <thead>\n",
              "    <tr style=\"text-align: right;\">\n",
              "      <th></th>\n",
              "      <th>count</th>\n",
              "    </tr>\n",
              "    <tr>\n",
              "      <th>Policy Type</th>\n",
              "      <th></th>\n",
              "    </tr>\n",
              "  </thead>\n",
              "  <tbody>\n",
              "    <tr>\n",
              "      <th>Premium</th>\n",
              "      <td>669475</td>\n",
              "    </tr>\n",
              "    <tr>\n",
              "      <th>Comprehensive</th>\n",
              "      <td>665822</td>\n",
              "    </tr>\n",
              "    <tr>\n",
              "      <th>Basic</th>\n",
              "      <td>664703</td>\n",
              "    </tr>\n",
              "  </tbody>\n",
              "</table>\n",
              "</div><br><label><b>dtype:</b> int64</label>"
            ]
          },
          "metadata": {},
          "execution_count": 20
        }
      ]
    },
    {
      "cell_type": "code",
      "source": [
        "df['Previous Claims'].value_counts()"
      ],
      "metadata": {
        "colab": {
          "base_uri": "https://localhost:8080/",
          "height": 428
        },
        "id": "o9KTD98xUeaO",
        "outputId": "83b74f79-1a6b-4c5c-fa59-29bd154fa2c1"
      },
      "execution_count": 21,
      "outputs": [
        {
          "output_type": "execute_result",
          "data": {
            "text/plain": [
              "Previous Claims\n",
              "0.0    508239\n",
              "1.0    501692\n",
              "2.0    279761\n",
              "3.0     81764\n",
              "4.0     17689\n",
              "5.0      3411\n",
              "6.0       506\n",
              "7.0        86\n",
              "8.0        12\n",
              "9.0         9\n",
              "Name: count, dtype: int64"
            ],
            "text/html": [
              "<div>\n",
              "<style scoped>\n",
              "    .dataframe tbody tr th:only-of-type {\n",
              "        vertical-align: middle;\n",
              "    }\n",
              "\n",
              "    .dataframe tbody tr th {\n",
              "        vertical-align: top;\n",
              "    }\n",
              "\n",
              "    .dataframe thead th {\n",
              "        text-align: right;\n",
              "    }\n",
              "</style>\n",
              "<table border=\"1\" class=\"dataframe\">\n",
              "  <thead>\n",
              "    <tr style=\"text-align: right;\">\n",
              "      <th></th>\n",
              "      <th>count</th>\n",
              "    </tr>\n",
              "    <tr>\n",
              "      <th>Previous Claims</th>\n",
              "      <th></th>\n",
              "    </tr>\n",
              "  </thead>\n",
              "  <tbody>\n",
              "    <tr>\n",
              "      <th>0.0</th>\n",
              "      <td>508239</td>\n",
              "    </tr>\n",
              "    <tr>\n",
              "      <th>1.0</th>\n",
              "      <td>501692</td>\n",
              "    </tr>\n",
              "    <tr>\n",
              "      <th>2.0</th>\n",
              "      <td>279761</td>\n",
              "    </tr>\n",
              "    <tr>\n",
              "      <th>3.0</th>\n",
              "      <td>81764</td>\n",
              "    </tr>\n",
              "    <tr>\n",
              "      <th>4.0</th>\n",
              "      <td>17689</td>\n",
              "    </tr>\n",
              "    <tr>\n",
              "      <th>5.0</th>\n",
              "      <td>3411</td>\n",
              "    </tr>\n",
              "    <tr>\n",
              "      <th>6.0</th>\n",
              "      <td>506</td>\n",
              "    </tr>\n",
              "    <tr>\n",
              "      <th>7.0</th>\n",
              "      <td>86</td>\n",
              "    </tr>\n",
              "    <tr>\n",
              "      <th>8.0</th>\n",
              "      <td>12</td>\n",
              "    </tr>\n",
              "    <tr>\n",
              "      <th>9.0</th>\n",
              "      <td>9</td>\n",
              "    </tr>\n",
              "  </tbody>\n",
              "</table>\n",
              "</div><br><label><b>dtype:</b> int64</label>"
            ]
          },
          "metadata": {},
          "execution_count": 21
        }
      ]
    },
    {
      "cell_type": "code",
      "source": [
        "df['Policy Start Date'].value_counts()"
      ],
      "metadata": {
        "colab": {
          "base_uri": "https://localhost:8080/",
          "height": 489
        },
        "id": "PCKvv_c-Uw90",
        "outputId": "f6c23e1b-6c53-4203-aa49-f62ebaa14763"
      },
      "execution_count": 22,
      "outputs": [
        {
          "output_type": "execute_result",
          "data": {
            "text/plain": [
              "Policy Start Date\n",
              "2022-08-30 15:21:39.134960    232\n",
              "2020-02-08 15:21:39.134960    218\n",
              "2022-02-02 15:21:39.134960    211\n",
              "2023-08-13 15:21:39.155231    200\n",
              "2023-11-02 15:21:39.134960    197\n",
              "                             ... \n",
              "2022-01-06 15:21:39.123645      1\n",
              "2020-11-28 15:21:39.169102      1\n",
              "2021-03-14 15:21:39.243823      1\n",
              "2021-03-29 15:21:39.078837      1\n",
              "2021-10-26 15:21:39.203442      1\n",
              "Name: count, Length: 173790, dtype: int64"
            ],
            "text/html": [
              "<div>\n",
              "<style scoped>\n",
              "    .dataframe tbody tr th:only-of-type {\n",
              "        vertical-align: middle;\n",
              "    }\n",
              "\n",
              "    .dataframe tbody tr th {\n",
              "        vertical-align: top;\n",
              "    }\n",
              "\n",
              "    .dataframe thead th {\n",
              "        text-align: right;\n",
              "    }\n",
              "</style>\n",
              "<table border=\"1\" class=\"dataframe\">\n",
              "  <thead>\n",
              "    <tr style=\"text-align: right;\">\n",
              "      <th></th>\n",
              "      <th>count</th>\n",
              "    </tr>\n",
              "    <tr>\n",
              "      <th>Policy Start Date</th>\n",
              "      <th></th>\n",
              "    </tr>\n",
              "  </thead>\n",
              "  <tbody>\n",
              "    <tr>\n",
              "      <th>2022-08-30 15:21:39.134960</th>\n",
              "      <td>232</td>\n",
              "    </tr>\n",
              "    <tr>\n",
              "      <th>2020-02-08 15:21:39.134960</th>\n",
              "      <td>218</td>\n",
              "    </tr>\n",
              "    <tr>\n",
              "      <th>2022-02-02 15:21:39.134960</th>\n",
              "      <td>211</td>\n",
              "    </tr>\n",
              "    <tr>\n",
              "      <th>2023-08-13 15:21:39.155231</th>\n",
              "      <td>200</td>\n",
              "    </tr>\n",
              "    <tr>\n",
              "      <th>2023-11-02 15:21:39.134960</th>\n",
              "      <td>197</td>\n",
              "    </tr>\n",
              "    <tr>\n",
              "      <th>...</th>\n",
              "      <td>...</td>\n",
              "    </tr>\n",
              "    <tr>\n",
              "      <th>2022-01-06 15:21:39.123645</th>\n",
              "      <td>1</td>\n",
              "    </tr>\n",
              "    <tr>\n",
              "      <th>2020-11-28 15:21:39.169102</th>\n",
              "      <td>1</td>\n",
              "    </tr>\n",
              "    <tr>\n",
              "      <th>2021-03-14 15:21:39.243823</th>\n",
              "      <td>1</td>\n",
              "    </tr>\n",
              "    <tr>\n",
              "      <th>2021-03-29 15:21:39.078837</th>\n",
              "      <td>1</td>\n",
              "    </tr>\n",
              "    <tr>\n",
              "      <th>2021-10-26 15:21:39.203442</th>\n",
              "      <td>1</td>\n",
              "    </tr>\n",
              "  </tbody>\n",
              "</table>\n",
              "<p>173790 rows × 1 columns</p>\n",
              "</div><br><label><b>dtype:</b> int64</label>"
            ]
          },
          "metadata": {},
          "execution_count": 22
        }
      ]
    },
    {
      "cell_type": "code",
      "source": [
        "df['Customer Feedback'].value_counts()"
      ],
      "metadata": {
        "colab": {
          "base_uri": "https://localhost:8080/",
          "height": 209
        },
        "id": "q2ZXDVQ0VL2G",
        "outputId": "d6bf3105-fd0f-493e-c2d9-de52ac264d48"
      },
      "execution_count": 23,
      "outputs": [
        {
          "output_type": "execute_result",
          "data": {
            "text/plain": [
              "Customer Feedback\n",
              "Average    629122\n",
              "Poor       625952\n",
              "Good       614826\n",
              "Name: count, dtype: int64"
            ],
            "text/html": [
              "<div>\n",
              "<style scoped>\n",
              "    .dataframe tbody tr th:only-of-type {\n",
              "        vertical-align: middle;\n",
              "    }\n",
              "\n",
              "    .dataframe tbody tr th {\n",
              "        vertical-align: top;\n",
              "    }\n",
              "\n",
              "    .dataframe thead th {\n",
              "        text-align: right;\n",
              "    }\n",
              "</style>\n",
              "<table border=\"1\" class=\"dataframe\">\n",
              "  <thead>\n",
              "    <tr style=\"text-align: right;\">\n",
              "      <th></th>\n",
              "      <th>count</th>\n",
              "    </tr>\n",
              "    <tr>\n",
              "      <th>Customer Feedback</th>\n",
              "      <th></th>\n",
              "    </tr>\n",
              "  </thead>\n",
              "  <tbody>\n",
              "    <tr>\n",
              "      <th>Average</th>\n",
              "      <td>629122</td>\n",
              "    </tr>\n",
              "    <tr>\n",
              "      <th>Poor</th>\n",
              "      <td>625952</td>\n",
              "    </tr>\n",
              "    <tr>\n",
              "      <th>Good</th>\n",
              "      <td>614826</td>\n",
              "    </tr>\n",
              "  </tbody>\n",
              "</table>\n",
              "</div><br><label><b>dtype:</b> int64</label>"
            ]
          },
          "metadata": {},
          "execution_count": 23
        }
      ]
    },
    {
      "cell_type": "code",
      "source": [
        "df['Smoking Status'].value_counts()"
      ],
      "metadata": {
        "colab": {
          "base_uri": "https://localhost:8080/",
          "height": 178
        },
        "id": "DwIJsfvrYx5r",
        "outputId": "1efdca41-7428-4447-9a6f-cea9f17e4a17"
      },
      "execution_count": 24,
      "outputs": [
        {
          "output_type": "execute_result",
          "data": {
            "text/plain": [
              "Smoking Status\n",
              "Yes    1003732\n",
              "No      996268\n",
              "Name: count, dtype: int64"
            ],
            "text/html": [
              "<div>\n",
              "<style scoped>\n",
              "    .dataframe tbody tr th:only-of-type {\n",
              "        vertical-align: middle;\n",
              "    }\n",
              "\n",
              "    .dataframe tbody tr th {\n",
              "        vertical-align: top;\n",
              "    }\n",
              "\n",
              "    .dataframe thead th {\n",
              "        text-align: right;\n",
              "    }\n",
              "</style>\n",
              "<table border=\"1\" class=\"dataframe\">\n",
              "  <thead>\n",
              "    <tr style=\"text-align: right;\">\n",
              "      <th></th>\n",
              "      <th>count</th>\n",
              "    </tr>\n",
              "    <tr>\n",
              "      <th>Smoking Status</th>\n",
              "      <th></th>\n",
              "    </tr>\n",
              "  </thead>\n",
              "  <tbody>\n",
              "    <tr>\n",
              "      <th>Yes</th>\n",
              "      <td>1003732</td>\n",
              "    </tr>\n",
              "    <tr>\n",
              "      <th>No</th>\n",
              "      <td>996268</td>\n",
              "    </tr>\n",
              "  </tbody>\n",
              "</table>\n",
              "</div><br><label><b>dtype:</b> int64</label>"
            ]
          },
          "metadata": {},
          "execution_count": 24
        }
      ]
    },
    {
      "cell_type": "code",
      "source": [
        "df['Exercise Frequency'].value_counts()"
      ],
      "metadata": {
        "colab": {
          "base_uri": "https://localhost:8080/",
          "height": 240
        },
        "id": "YqtIj76ZY55j",
        "outputId": "9a7c82e5-cdfd-41d7-954b-e1de91bf068f"
      },
      "execution_count": 25,
      "outputs": [
        {
          "output_type": "execute_result",
          "data": {
            "text/plain": [
              "Exercise Frequency\n",
              "Weekly     510693\n",
              "Rarely     499934\n",
              "Monthly    498230\n",
              "Daily      491143\n",
              "Name: count, dtype: int64"
            ],
            "text/html": [
              "<div>\n",
              "<style scoped>\n",
              "    .dataframe tbody tr th:only-of-type {\n",
              "        vertical-align: middle;\n",
              "    }\n",
              "\n",
              "    .dataframe tbody tr th {\n",
              "        vertical-align: top;\n",
              "    }\n",
              "\n",
              "    .dataframe thead th {\n",
              "        text-align: right;\n",
              "    }\n",
              "</style>\n",
              "<table border=\"1\" class=\"dataframe\">\n",
              "  <thead>\n",
              "    <tr style=\"text-align: right;\">\n",
              "      <th></th>\n",
              "      <th>count</th>\n",
              "    </tr>\n",
              "    <tr>\n",
              "      <th>Exercise Frequency</th>\n",
              "      <th></th>\n",
              "    </tr>\n",
              "  </thead>\n",
              "  <tbody>\n",
              "    <tr>\n",
              "      <th>Weekly</th>\n",
              "      <td>510693</td>\n",
              "    </tr>\n",
              "    <tr>\n",
              "      <th>Rarely</th>\n",
              "      <td>499934</td>\n",
              "    </tr>\n",
              "    <tr>\n",
              "      <th>Monthly</th>\n",
              "      <td>498230</td>\n",
              "    </tr>\n",
              "    <tr>\n",
              "      <th>Daily</th>\n",
              "      <td>491143</td>\n",
              "    </tr>\n",
              "  </tbody>\n",
              "</table>\n",
              "</div><br><label><b>dtype:</b> int64</label>"
            ]
          },
          "metadata": {},
          "execution_count": 25
        }
      ]
    },
    {
      "cell_type": "code",
      "source": [
        "df['Property Type'].value_counts()"
      ],
      "metadata": {
        "colab": {
          "base_uri": "https://localhost:8080/",
          "height": 209
        },
        "id": "QszViSyDVUPL",
        "outputId": "9e1d1a66-d543-4245-f46e-3f80fa0f6af4"
      },
      "execution_count": 26,
      "outputs": [
        {
          "output_type": "execute_result",
          "data": {
            "text/plain": [
              "Property Type\n",
              "House        667500\n",
              "Condo        666478\n",
              "Apartment    666022\n",
              "Name: count, dtype: int64"
            ],
            "text/html": [
              "<div>\n",
              "<style scoped>\n",
              "    .dataframe tbody tr th:only-of-type {\n",
              "        vertical-align: middle;\n",
              "    }\n",
              "\n",
              "    .dataframe tbody tr th {\n",
              "        vertical-align: top;\n",
              "    }\n",
              "\n",
              "    .dataframe thead th {\n",
              "        text-align: right;\n",
              "    }\n",
              "</style>\n",
              "<table border=\"1\" class=\"dataframe\">\n",
              "  <thead>\n",
              "    <tr style=\"text-align: right;\">\n",
              "      <th></th>\n",
              "      <th>count</th>\n",
              "    </tr>\n",
              "    <tr>\n",
              "      <th>Property Type</th>\n",
              "      <th></th>\n",
              "    </tr>\n",
              "  </thead>\n",
              "  <tbody>\n",
              "    <tr>\n",
              "      <th>House</th>\n",
              "      <td>667500</td>\n",
              "    </tr>\n",
              "    <tr>\n",
              "      <th>Condo</th>\n",
              "      <td>666478</td>\n",
              "    </tr>\n",
              "    <tr>\n",
              "      <th>Apartment</th>\n",
              "      <td>666022</td>\n",
              "    </tr>\n",
              "  </tbody>\n",
              "</table>\n",
              "</div><br><label><b>dtype:</b> int64</label>"
            ]
          },
          "metadata": {},
          "execution_count": 26
        }
      ]
    },
    {
      "cell_type": "code",
      "source": [
        "corr_matrix = df.corr(numeric_only=True)\n",
        "corr_matrix"
      ],
      "metadata": {
        "colab": {
          "base_uri": "https://localhost:8080/",
          "height": 466
        },
        "id": "6eSwBGp_EY7Q",
        "outputId": "2a93b347-7330-4ee7-80e5-fe1aed8905a2"
      },
      "execution_count": 27,
      "outputs": [
        {
          "output_type": "execute_result",
          "data": {
            "text/plain": [
              "                            id       Age  Annual Income  Number of Dependents  \\\n",
              "id                    1.000000 -0.000383       0.000414             -0.000197   \n",
              "Age                  -0.000383  1.000000      -0.000447              0.001485   \n",
              "Annual Income         0.000414 -0.000447       1.000000              0.001688   \n",
              "Number of Dependents -0.000197  0.001485       0.001688              1.000000   \n",
              "Health Score          0.000434 -0.000122       0.025030              0.004280   \n",
              "Previous Claims       0.000837  0.000524       0.041841             -0.004759   \n",
              "Vehicle Age          -0.000065 -0.002167      -0.000809              0.000456   \n",
              "Credit Score          0.000501  0.002361      -0.202386             -0.001670   \n",
              "Insurance Duration   -0.000368 -0.000665      -0.000670             -0.000084   \n",
              "Premium Amount       -0.000292 -0.002430      -0.012390             -0.000976   \n",
              "\n",
              "                      Health Score  Previous Claims  Vehicle Age  \\\n",
              "id                        0.000434         0.000837    -0.000065   \n",
              "Age                      -0.000122         0.000524    -0.002167   \n",
              "Annual Income             0.025030         0.041841    -0.000809   \n",
              "Number of Dependents      0.004280        -0.004759     0.000456   \n",
              "Health Score              1.000000         0.003613    -0.000540   \n",
              "Previous Claims           0.003613         1.000000    -0.001221   \n",
              "Vehicle Age              -0.000540        -0.001221     1.000000   \n",
              "Credit Score              0.011905         0.036533    -0.000396   \n",
              "Insurance Duration        0.001376         0.002650     0.002569   \n",
              "Premium Amount            0.014704         0.046874     0.000391   \n",
              "\n",
              "                      Credit Score  Insurance Duration  Premium Amount  \n",
              "id                        0.000501           -0.000368       -0.000292  \n",
              "Age                       0.002361           -0.000665       -0.002430  \n",
              "Annual Income            -0.202386           -0.000670       -0.012390  \n",
              "Number of Dependents     -0.001670           -0.000084       -0.000976  \n",
              "Health Score              0.011905            0.001376        0.014704  \n",
              "Previous Claims           0.036533            0.002650        0.046874  \n",
              "Vehicle Age              -0.000396            0.002569        0.000391  \n",
              "Credit Score              1.000000            0.000323       -0.026014  \n",
              "Insurance Duration        0.000323            1.000000       -0.000028  \n",
              "Premium Amount           -0.026014           -0.000028        1.000000  "
            ],
            "text/html": [
              "\n",
              "  <div id=\"df-29fd2d73-3429-4151-8f4d-adc6baf8746a\" class=\"colab-df-container\">\n",
              "    <div>\n",
              "<style scoped>\n",
              "    .dataframe tbody tr th:only-of-type {\n",
              "        vertical-align: middle;\n",
              "    }\n",
              "\n",
              "    .dataframe tbody tr th {\n",
              "        vertical-align: top;\n",
              "    }\n",
              "\n",
              "    .dataframe thead th {\n",
              "        text-align: right;\n",
              "    }\n",
              "</style>\n",
              "<table border=\"1\" class=\"dataframe\">\n",
              "  <thead>\n",
              "    <tr style=\"text-align: right;\">\n",
              "      <th></th>\n",
              "      <th>id</th>\n",
              "      <th>Age</th>\n",
              "      <th>Annual Income</th>\n",
              "      <th>Number of Dependents</th>\n",
              "      <th>Health Score</th>\n",
              "      <th>Previous Claims</th>\n",
              "      <th>Vehicle Age</th>\n",
              "      <th>Credit Score</th>\n",
              "      <th>Insurance Duration</th>\n",
              "      <th>Premium Amount</th>\n",
              "    </tr>\n",
              "  </thead>\n",
              "  <tbody>\n",
              "    <tr>\n",
              "      <th>id</th>\n",
              "      <td>1.000000</td>\n",
              "      <td>-0.000383</td>\n",
              "      <td>0.000414</td>\n",
              "      <td>-0.000197</td>\n",
              "      <td>0.000434</td>\n",
              "      <td>0.000837</td>\n",
              "      <td>-0.000065</td>\n",
              "      <td>0.000501</td>\n",
              "      <td>-0.000368</td>\n",
              "      <td>-0.000292</td>\n",
              "    </tr>\n",
              "    <tr>\n",
              "      <th>Age</th>\n",
              "      <td>-0.000383</td>\n",
              "      <td>1.000000</td>\n",
              "      <td>-0.000447</td>\n",
              "      <td>0.001485</td>\n",
              "      <td>-0.000122</td>\n",
              "      <td>0.000524</td>\n",
              "      <td>-0.002167</td>\n",
              "      <td>0.002361</td>\n",
              "      <td>-0.000665</td>\n",
              "      <td>-0.002430</td>\n",
              "    </tr>\n",
              "    <tr>\n",
              "      <th>Annual Income</th>\n",
              "      <td>0.000414</td>\n",
              "      <td>-0.000447</td>\n",
              "      <td>1.000000</td>\n",
              "      <td>0.001688</td>\n",
              "      <td>0.025030</td>\n",
              "      <td>0.041841</td>\n",
              "      <td>-0.000809</td>\n",
              "      <td>-0.202386</td>\n",
              "      <td>-0.000670</td>\n",
              "      <td>-0.012390</td>\n",
              "    </tr>\n",
              "    <tr>\n",
              "      <th>Number of Dependents</th>\n",
              "      <td>-0.000197</td>\n",
              "      <td>0.001485</td>\n",
              "      <td>0.001688</td>\n",
              "      <td>1.000000</td>\n",
              "      <td>0.004280</td>\n",
              "      <td>-0.004759</td>\n",
              "      <td>0.000456</td>\n",
              "      <td>-0.001670</td>\n",
              "      <td>-0.000084</td>\n",
              "      <td>-0.000976</td>\n",
              "    </tr>\n",
              "    <tr>\n",
              "      <th>Health Score</th>\n",
              "      <td>0.000434</td>\n",
              "      <td>-0.000122</td>\n",
              "      <td>0.025030</td>\n",
              "      <td>0.004280</td>\n",
              "      <td>1.000000</td>\n",
              "      <td>0.003613</td>\n",
              "      <td>-0.000540</td>\n",
              "      <td>0.011905</td>\n",
              "      <td>0.001376</td>\n",
              "      <td>0.014704</td>\n",
              "    </tr>\n",
              "    <tr>\n",
              "      <th>Previous Claims</th>\n",
              "      <td>0.000837</td>\n",
              "      <td>0.000524</td>\n",
              "      <td>0.041841</td>\n",
              "      <td>-0.004759</td>\n",
              "      <td>0.003613</td>\n",
              "      <td>1.000000</td>\n",
              "      <td>-0.001221</td>\n",
              "      <td>0.036533</td>\n",
              "      <td>0.002650</td>\n",
              "      <td>0.046874</td>\n",
              "    </tr>\n",
              "    <tr>\n",
              "      <th>Vehicle Age</th>\n",
              "      <td>-0.000065</td>\n",
              "      <td>-0.002167</td>\n",
              "      <td>-0.000809</td>\n",
              "      <td>0.000456</td>\n",
              "      <td>-0.000540</td>\n",
              "      <td>-0.001221</td>\n",
              "      <td>1.000000</td>\n",
              "      <td>-0.000396</td>\n",
              "      <td>0.002569</td>\n",
              "      <td>0.000391</td>\n",
              "    </tr>\n",
              "    <tr>\n",
              "      <th>Credit Score</th>\n",
              "      <td>0.000501</td>\n",
              "      <td>0.002361</td>\n",
              "      <td>-0.202386</td>\n",
              "      <td>-0.001670</td>\n",
              "      <td>0.011905</td>\n",
              "      <td>0.036533</td>\n",
              "      <td>-0.000396</td>\n",
              "      <td>1.000000</td>\n",
              "      <td>0.000323</td>\n",
              "      <td>-0.026014</td>\n",
              "    </tr>\n",
              "    <tr>\n",
              "      <th>Insurance Duration</th>\n",
              "      <td>-0.000368</td>\n",
              "      <td>-0.000665</td>\n",
              "      <td>-0.000670</td>\n",
              "      <td>-0.000084</td>\n",
              "      <td>0.001376</td>\n",
              "      <td>0.002650</td>\n",
              "      <td>0.002569</td>\n",
              "      <td>0.000323</td>\n",
              "      <td>1.000000</td>\n",
              "      <td>-0.000028</td>\n",
              "    </tr>\n",
              "    <tr>\n",
              "      <th>Premium Amount</th>\n",
              "      <td>-0.000292</td>\n",
              "      <td>-0.002430</td>\n",
              "      <td>-0.012390</td>\n",
              "      <td>-0.000976</td>\n",
              "      <td>0.014704</td>\n",
              "      <td>0.046874</td>\n",
              "      <td>0.000391</td>\n",
              "      <td>-0.026014</td>\n",
              "      <td>-0.000028</td>\n",
              "      <td>1.000000</td>\n",
              "    </tr>\n",
              "  </tbody>\n",
              "</table>\n",
              "</div>\n",
              "    <div class=\"colab-df-buttons\">\n",
              "\n",
              "  <div class=\"colab-df-container\">\n",
              "    <button class=\"colab-df-convert\" onclick=\"convertToInteractive('df-29fd2d73-3429-4151-8f4d-adc6baf8746a')\"\n",
              "            title=\"Convert this dataframe to an interactive table.\"\n",
              "            style=\"display:none;\">\n",
              "\n",
              "  <svg xmlns=\"http://www.w3.org/2000/svg\" height=\"24px\" viewBox=\"0 -960 960 960\">\n",
              "    <path d=\"M120-120v-720h720v720H120Zm60-500h600v-160H180v160Zm220 220h160v-160H400v160Zm0 220h160v-160H400v160ZM180-400h160v-160H180v160Zm440 0h160v-160H620v160ZM180-180h160v-160H180v160Zm440 0h160v-160H620v160Z\"/>\n",
              "  </svg>\n",
              "    </button>\n",
              "\n",
              "  <style>\n",
              "    .colab-df-container {\n",
              "      display:flex;\n",
              "      gap: 12px;\n",
              "    }\n",
              "\n",
              "    .colab-df-convert {\n",
              "      background-color: #E8F0FE;\n",
              "      border: none;\n",
              "      border-radius: 50%;\n",
              "      cursor: pointer;\n",
              "      display: none;\n",
              "      fill: #1967D2;\n",
              "      height: 32px;\n",
              "      padding: 0 0 0 0;\n",
              "      width: 32px;\n",
              "    }\n",
              "\n",
              "    .colab-df-convert:hover {\n",
              "      background-color: #E2EBFA;\n",
              "      box-shadow: 0px 1px 2px rgba(60, 64, 67, 0.3), 0px 1px 3px 1px rgba(60, 64, 67, 0.15);\n",
              "      fill: #174EA6;\n",
              "    }\n",
              "\n",
              "    .colab-df-buttons div {\n",
              "      margin-bottom: 4px;\n",
              "    }\n",
              "\n",
              "    [theme=dark] .colab-df-convert {\n",
              "      background-color: #3B4455;\n",
              "      fill: #D2E3FC;\n",
              "    }\n",
              "\n",
              "    [theme=dark] .colab-df-convert:hover {\n",
              "      background-color: #434B5C;\n",
              "      box-shadow: 0px 1px 3px 1px rgba(0, 0, 0, 0.15);\n",
              "      filter: drop-shadow(0px 1px 2px rgba(0, 0, 0, 0.3));\n",
              "      fill: #FFFFFF;\n",
              "    }\n",
              "  </style>\n",
              "\n",
              "    <script>\n",
              "      const buttonEl =\n",
              "        document.querySelector('#df-29fd2d73-3429-4151-8f4d-adc6baf8746a button.colab-df-convert');\n",
              "      buttonEl.style.display =\n",
              "        google.colab.kernel.accessAllowed ? 'block' : 'none';\n",
              "\n",
              "      async function convertToInteractive(key) {\n",
              "        const element = document.querySelector('#df-29fd2d73-3429-4151-8f4d-adc6baf8746a');\n",
              "        const dataTable =\n",
              "          await google.colab.kernel.invokeFunction('convertToInteractive',\n",
              "                                                    [key], {});\n",
              "        if (!dataTable) return;\n",
              "\n",
              "        const docLinkHtml = 'Like what you see? Visit the ' +\n",
              "          '<a target=\"_blank\" href=https://colab.research.google.com/notebooks/data_table.ipynb>data table notebook</a>'\n",
              "          + ' to learn more about interactive tables.';\n",
              "        element.innerHTML = '';\n",
              "        dataTable['output_type'] = 'display_data';\n",
              "        await google.colab.output.renderOutput(dataTable, element);\n",
              "        const docLink = document.createElement('div');\n",
              "        docLink.innerHTML = docLinkHtml;\n",
              "        element.appendChild(docLink);\n",
              "      }\n",
              "    </script>\n",
              "  </div>\n",
              "\n",
              "\n",
              "<div id=\"df-d7a31fe9-8dbe-4626-924d-d5b9e13487d3\">\n",
              "  <button class=\"colab-df-quickchart\" onclick=\"quickchart('df-d7a31fe9-8dbe-4626-924d-d5b9e13487d3')\"\n",
              "            title=\"Suggest charts\"\n",
              "            style=\"display:none;\">\n",
              "\n",
              "<svg xmlns=\"http://www.w3.org/2000/svg\" height=\"24px\"viewBox=\"0 0 24 24\"\n",
              "     width=\"24px\">\n",
              "    <g>\n",
              "        <path d=\"M19 3H5c-1.1 0-2 .9-2 2v14c0 1.1.9 2 2 2h14c1.1 0 2-.9 2-2V5c0-1.1-.9-2-2-2zM9 17H7v-7h2v7zm4 0h-2V7h2v10zm4 0h-2v-4h2v4z\"/>\n",
              "    </g>\n",
              "</svg>\n",
              "  </button>\n",
              "\n",
              "<style>\n",
              "  .colab-df-quickchart {\n",
              "      --bg-color: #E8F0FE;\n",
              "      --fill-color: #1967D2;\n",
              "      --hover-bg-color: #E2EBFA;\n",
              "      --hover-fill-color: #174EA6;\n",
              "      --disabled-fill-color: #AAA;\n",
              "      --disabled-bg-color: #DDD;\n",
              "  }\n",
              "\n",
              "  [theme=dark] .colab-df-quickchart {\n",
              "      --bg-color: #3B4455;\n",
              "      --fill-color: #D2E3FC;\n",
              "      --hover-bg-color: #434B5C;\n",
              "      --hover-fill-color: #FFFFFF;\n",
              "      --disabled-bg-color: #3B4455;\n",
              "      --disabled-fill-color: #666;\n",
              "  }\n",
              "\n",
              "  .colab-df-quickchart {\n",
              "    background-color: var(--bg-color);\n",
              "    border: none;\n",
              "    border-radius: 50%;\n",
              "    cursor: pointer;\n",
              "    display: none;\n",
              "    fill: var(--fill-color);\n",
              "    height: 32px;\n",
              "    padding: 0;\n",
              "    width: 32px;\n",
              "  }\n",
              "\n",
              "  .colab-df-quickchart:hover {\n",
              "    background-color: var(--hover-bg-color);\n",
              "    box-shadow: 0 1px 2px rgba(60, 64, 67, 0.3), 0 1px 3px 1px rgba(60, 64, 67, 0.15);\n",
              "    fill: var(--button-hover-fill-color);\n",
              "  }\n",
              "\n",
              "  .colab-df-quickchart-complete:disabled,\n",
              "  .colab-df-quickchart-complete:disabled:hover {\n",
              "    background-color: var(--disabled-bg-color);\n",
              "    fill: var(--disabled-fill-color);\n",
              "    box-shadow: none;\n",
              "  }\n",
              "\n",
              "  .colab-df-spinner {\n",
              "    border: 2px solid var(--fill-color);\n",
              "    border-color: transparent;\n",
              "    border-bottom-color: var(--fill-color);\n",
              "    animation:\n",
              "      spin 1s steps(1) infinite;\n",
              "  }\n",
              "\n",
              "  @keyframes spin {\n",
              "    0% {\n",
              "      border-color: transparent;\n",
              "      border-bottom-color: var(--fill-color);\n",
              "      border-left-color: var(--fill-color);\n",
              "    }\n",
              "    20% {\n",
              "      border-color: transparent;\n",
              "      border-left-color: var(--fill-color);\n",
              "      border-top-color: var(--fill-color);\n",
              "    }\n",
              "    30% {\n",
              "      border-color: transparent;\n",
              "      border-left-color: var(--fill-color);\n",
              "      border-top-color: var(--fill-color);\n",
              "      border-right-color: var(--fill-color);\n",
              "    }\n",
              "    40% {\n",
              "      border-color: transparent;\n",
              "      border-right-color: var(--fill-color);\n",
              "      border-top-color: var(--fill-color);\n",
              "    }\n",
              "    60% {\n",
              "      border-color: transparent;\n",
              "      border-right-color: var(--fill-color);\n",
              "    }\n",
              "    80% {\n",
              "      border-color: transparent;\n",
              "      border-right-color: var(--fill-color);\n",
              "      border-bottom-color: var(--fill-color);\n",
              "    }\n",
              "    90% {\n",
              "      border-color: transparent;\n",
              "      border-bottom-color: var(--fill-color);\n",
              "    }\n",
              "  }\n",
              "</style>\n",
              "\n",
              "  <script>\n",
              "    async function quickchart(key) {\n",
              "      const quickchartButtonEl =\n",
              "        document.querySelector('#' + key + ' button');\n",
              "      quickchartButtonEl.disabled = true;  // To prevent multiple clicks.\n",
              "      quickchartButtonEl.classList.add('colab-df-spinner');\n",
              "      try {\n",
              "        const charts = await google.colab.kernel.invokeFunction(\n",
              "            'suggestCharts', [key], {});\n",
              "      } catch (error) {\n",
              "        console.error('Error during call to suggestCharts:', error);\n",
              "      }\n",
              "      quickchartButtonEl.classList.remove('colab-df-spinner');\n",
              "      quickchartButtonEl.classList.add('colab-df-quickchart-complete');\n",
              "    }\n",
              "    (() => {\n",
              "      let quickchartButtonEl =\n",
              "        document.querySelector('#df-d7a31fe9-8dbe-4626-924d-d5b9e13487d3 button');\n",
              "      quickchartButtonEl.style.display =\n",
              "        google.colab.kernel.accessAllowed ? 'block' : 'none';\n",
              "    })();\n",
              "  </script>\n",
              "</div>\n",
              "\n",
              "  <div id=\"id_7a70fd6e-e79b-4bc5-b39b-d0a533dd099a\">\n",
              "    <style>\n",
              "      .colab-df-generate {\n",
              "        background-color: #E8F0FE;\n",
              "        border: none;\n",
              "        border-radius: 50%;\n",
              "        cursor: pointer;\n",
              "        display: none;\n",
              "        fill: #1967D2;\n",
              "        height: 32px;\n",
              "        padding: 0 0 0 0;\n",
              "        width: 32px;\n",
              "      }\n",
              "\n",
              "      .colab-df-generate:hover {\n",
              "        background-color: #E2EBFA;\n",
              "        box-shadow: 0px 1px 2px rgba(60, 64, 67, 0.3), 0px 1px 3px 1px rgba(60, 64, 67, 0.15);\n",
              "        fill: #174EA6;\n",
              "      }\n",
              "\n",
              "      [theme=dark] .colab-df-generate {\n",
              "        background-color: #3B4455;\n",
              "        fill: #D2E3FC;\n",
              "      }\n",
              "\n",
              "      [theme=dark] .colab-df-generate:hover {\n",
              "        background-color: #434B5C;\n",
              "        box-shadow: 0px 1px 3px 1px rgba(0, 0, 0, 0.15);\n",
              "        filter: drop-shadow(0px 1px 2px rgba(0, 0, 0, 0.3));\n",
              "        fill: #FFFFFF;\n",
              "      }\n",
              "    </style>\n",
              "    <button class=\"colab-df-generate\" onclick=\"generateWithVariable('corr_matrix')\"\n",
              "            title=\"Generate code using this dataframe.\"\n",
              "            style=\"display:none;\">\n",
              "\n",
              "  <svg xmlns=\"http://www.w3.org/2000/svg\" height=\"24px\"viewBox=\"0 0 24 24\"\n",
              "       width=\"24px\">\n",
              "    <path d=\"M7,19H8.4L18.45,9,17,7.55,7,17.6ZM5,21V16.75L18.45,3.32a2,2,0,0,1,2.83,0l1.4,1.43a1.91,1.91,0,0,1,.58,1.4,1.91,1.91,0,0,1-.58,1.4L9.25,21ZM18.45,9,17,7.55Zm-12,3A5.31,5.31,0,0,0,4.9,8.1,5.31,5.31,0,0,0,1,6.5,5.31,5.31,0,0,0,4.9,4.9,5.31,5.31,0,0,0,6.5,1,5.31,5.31,0,0,0,8.1,4.9,5.31,5.31,0,0,0,12,6.5,5.46,5.46,0,0,0,6.5,12Z\"/>\n",
              "  </svg>\n",
              "    </button>\n",
              "    <script>\n",
              "      (() => {\n",
              "      const buttonEl =\n",
              "        document.querySelector('#id_7a70fd6e-e79b-4bc5-b39b-d0a533dd099a button.colab-df-generate');\n",
              "      buttonEl.style.display =\n",
              "        google.colab.kernel.accessAllowed ? 'block' : 'none';\n",
              "\n",
              "      buttonEl.onclick = () => {\n",
              "        google.colab.notebook.generateWithVariable('corr_matrix');\n",
              "      }\n",
              "      })();\n",
              "    </script>\n",
              "  </div>\n",
              "\n",
              "    </div>\n",
              "  </div>\n"
            ],
            "application/vnd.google.colaboratory.intrinsic+json": {
              "type": "dataframe",
              "variable_name": "corr_matrix",
              "summary": "{\n  \"name\": \"corr_matrix\",\n  \"rows\": 10,\n  \"fields\": [\n    {\n      \"column\": \"id\",\n      \"properties\": {\n        \"dtype\": \"number\",\n        \"std\": 0.31619711977546006,\n        \"min\": -0.00038305322121851573,\n        \"max\": 1.0,\n        \"num_unique_values\": 10,\n        \"samples\": [\n          -0.0003682493787174546,\n          -0.00038305322121851573,\n          0.0008366219875337569\n        ],\n        \"semantic_type\": \"\",\n        \"description\": \"\"\n      }\n    },\n    {\n      \"column\": \"Age\",\n      \"properties\": {\n        \"dtype\": \"number\",\n        \"std\": 0.31629588671538,\n        \"min\": -0.0024301791772832633,\n        \"max\": 1.0,\n        \"num_unique_values\": 10,\n        \"samples\": [\n          -0.0006648597894456782,\n          1.0,\n          0.0005241329786300311\n        ],\n        \"semantic_type\": \"\",\n        \"description\": \"\"\n      }\n    },\n    {\n      \"column\": \"Annual Income\",\n      \"properties\": {\n        \"dtype\": \"number\",\n        \"std\": 0.3284404940220159,\n        \"min\": -0.2023858335698478,\n        \"max\": 1.0,\n        \"num_unique_values\": 10,\n        \"samples\": [\n          -0.0006702001133502464,\n          -0.0004472614331310879,\n          0.04184111869861303\n        ],\n        \"semantic_type\": \"\",\n        \"description\": \"\"\n      }\n    },\n    {\n      \"column\": \"Number of Dependents\",\n      \"properties\": {\n        \"dtype\": \"number\",\n        \"std\": 0.3162287485111856,\n        \"min\": -0.0047593701169765254,\n        \"max\": 1.0,\n        \"num_unique_values\": 10,\n        \"samples\": [\n          -8.395174801315761e-05,\n          0.0014851804774268819,\n          -0.0047593701169765254\n        ],\n        \"semantic_type\": \"\",\n        \"description\": \"\"\n      }\n    },\n    {\n      \"column\": \"Health Score\",\n      \"properties\": {\n        \"dtype\": \"number\",\n        \"std\": 0.3142033636120954,\n        \"min\": -0.0005401396156581646,\n        \"max\": 1.0,\n        \"num_unique_values\": 10,\n        \"samples\": [\n          0.0013759148951049626,\n          -0.00012214995366723259,\n          0.0036132506915469674\n        ],\n        \"semantic_type\": \"\",\n        \"description\": \"\"\n      }\n    },\n    {\n      \"column\": \"Previous Claims\",\n      \"properties\": {\n        \"dtype\": \"number\",\n        \"std\": 0.3123991947310642,\n        \"min\": -0.0047593701169765254,\n        \"max\": 1.0,\n        \"num_unique_values\": 10,\n        \"samples\": [\n          0.002649866217797881,\n          0.0005241329786300311,\n          1.0\n        ],\n        \"semantic_type\": \"\",\n        \"description\": \"\"\n      }\n    },\n    {\n      \"column\": \"Vehicle Age\",\n      \"properties\": {\n        \"dtype\": \"number\",\n        \"std\": 0.3162928172454533,\n        \"min\": -0.002166581341963916,\n        \"max\": 1.0,\n        \"num_unique_values\": 10,\n        \"samples\": [\n          0.0025686961814847956,\n          -0.002166581341963916,\n          -0.001221477847166385\n        ],\n        \"semantic_type\": \"\",\n        \"description\": \"\"\n      }\n    },\n    {\n      \"column\": \"Credit Score\",\n      \"properties\": {\n        \"dtype\": \"number\",\n        \"std\": 0.32925705841565206,\n        \"min\": -0.2023858335698478,\n        \"max\": 1.0,\n        \"num_unique_values\": 10,\n        \"samples\": [\n          0.0003231557853798317,\n          0.0023614162964927135,\n          0.03653334493183606\n        ],\n        \"semantic_type\": \"\",\n        \"description\": \"\"\n      }\n    },\n    {\n      \"column\": \"Insurance Duration\",\n      \"properties\": {\n        \"dtype\": \"number\",\n        \"std\": 0.3160509123083092,\n        \"min\": -0.0006702001133502464,\n        \"max\": 1.0,\n        \"num_unique_values\": 10,\n        \"samples\": [\n          1.0,\n          -0.0006648597894456782,\n          0.002649866217797881\n        ],\n        \"semantic_type\": \"\",\n        \"description\": \"\"\n      }\n    },\n    {\n      \"column\": \"Premium Amount\",\n      \"properties\": {\n        \"dtype\": \"number\",\n        \"std\": 0.3160948229069722,\n        \"min\": -0.026013712816983073,\n        \"max\": 1.0,\n        \"num_unique_values\": 10,\n        \"samples\": [\n          -2.8189776366881594e-05,\n          -0.0024301791772832633,\n          0.04687383081563724\n        ],\n        \"semantic_type\": \"\",\n        \"description\": \"\"\n      }\n    }\n  ]\n}"
            }
          },
          "metadata": {},
          "execution_count": 27
        }
      ]
    },
    {
      "cell_type": "code",
      "source": [
        "del df['id']"
      ],
      "metadata": {
        "id": "WALcTT4-GDr5"
      },
      "execution_count": 28,
      "outputs": []
    },
    {
      "cell_type": "code",
      "source": [
        "corr_matrix['Premium Amount'].sort_values(ascending=False)"
      ],
      "metadata": {
        "colab": {
          "base_uri": "https://localhost:8080/",
          "height": 397
        },
        "id": "LgMiLtuiFcop",
        "outputId": "c252887b-3f7c-4fb5-d1b0-b0639070fa97"
      },
      "execution_count": 29,
      "outputs": [
        {
          "output_type": "execute_result",
          "data": {
            "text/plain": [
              "Premium Amount          1.000000\n",
              "Previous Claims         0.046874\n",
              "Health Score            0.014704\n",
              "Vehicle Age             0.000391\n",
              "Insurance Duration     -0.000028\n",
              "id                     -0.000292\n",
              "Number of Dependents   -0.000976\n",
              "Age                    -0.002430\n",
              "Annual Income          -0.012390\n",
              "Credit Score           -0.026014\n",
              "Name: Premium Amount, dtype: float64"
            ],
            "text/html": [
              "<div>\n",
              "<style scoped>\n",
              "    .dataframe tbody tr th:only-of-type {\n",
              "        vertical-align: middle;\n",
              "    }\n",
              "\n",
              "    .dataframe tbody tr th {\n",
              "        vertical-align: top;\n",
              "    }\n",
              "\n",
              "    .dataframe thead th {\n",
              "        text-align: right;\n",
              "    }\n",
              "</style>\n",
              "<table border=\"1\" class=\"dataframe\">\n",
              "  <thead>\n",
              "    <tr style=\"text-align: right;\">\n",
              "      <th></th>\n",
              "      <th>Premium Amount</th>\n",
              "    </tr>\n",
              "  </thead>\n",
              "  <tbody>\n",
              "    <tr>\n",
              "      <th>Premium Amount</th>\n",
              "      <td>1.000000</td>\n",
              "    </tr>\n",
              "    <tr>\n",
              "      <th>Previous Claims</th>\n",
              "      <td>0.046874</td>\n",
              "    </tr>\n",
              "    <tr>\n",
              "      <th>Health Score</th>\n",
              "      <td>0.014704</td>\n",
              "    </tr>\n",
              "    <tr>\n",
              "      <th>Vehicle Age</th>\n",
              "      <td>0.000391</td>\n",
              "    </tr>\n",
              "    <tr>\n",
              "      <th>Insurance Duration</th>\n",
              "      <td>-0.000028</td>\n",
              "    </tr>\n",
              "    <tr>\n",
              "      <th>id</th>\n",
              "      <td>-0.000292</td>\n",
              "    </tr>\n",
              "    <tr>\n",
              "      <th>Number of Dependents</th>\n",
              "      <td>-0.000976</td>\n",
              "    </tr>\n",
              "    <tr>\n",
              "      <th>Age</th>\n",
              "      <td>-0.002430</td>\n",
              "    </tr>\n",
              "    <tr>\n",
              "      <th>Annual Income</th>\n",
              "      <td>-0.012390</td>\n",
              "    </tr>\n",
              "    <tr>\n",
              "      <th>Credit Score</th>\n",
              "      <td>-0.026014</td>\n",
              "    </tr>\n",
              "  </tbody>\n",
              "</table>\n",
              "</div><br><label><b>dtype:</b> float64</label>"
            ]
          },
          "metadata": {},
          "execution_count": 29
        }
      ]
    },
    {
      "cell_type": "code",
      "source": [
        "import matplotlib.pyplot as plt\n",
        "from pandas.plotting import scatter_matrix\n",
        "\n",
        "attributes = [\"Premium Amount\", \"Previous Claims\", \"Health Score\", \"Credit Score\"]\n",
        "scatter_matrix(df[attributes], figsize=(12, 8))\n",
        "plt.show()"
      ],
      "metadata": {
        "colab": {
          "base_uri": "https://localhost:8080/",
          "height": 710
        },
        "id": "uXKfYuH-F-LL",
        "outputId": "2dd51ebd-5caa-40ec-8951-fd5eb61b1603"
      },
      "execution_count": 30,
      "outputs": [
        {
          "output_type": "display_data",
          "data": {
            "text/plain": [
              "<Figure size 1200x800 with 16 Axes>"
            ],
            "image/png": "[encoded data removed]"
          },
          "metadata": {}
        }
      ]
    },
    {
      "cell_type": "code",
      "source": [
        "df.info()"
      ],
      "metadata": {
        "colab": {
          "base_uri": "https://localhost:8080/"
        },
        "id": "La1y7hwYHXtD",
        "outputId": "2c357175-1f7f-4d18-99a3-243a421c59fb"
      },
      "execution_count": 31,
      "outputs": [
        {
          "output_type": "stream",
          "name": "stdout",
          "text": [
            "<class 'pandas.core.frame.DataFrame'>\n",
            "Index: 2000000 entries, 0 to 799999\n",
            "Data columns (total 20 columns):\n",
            " #   Column                Dtype  \n",
            "---  ------                -----  \n",
            " 0   Age                   float64\n",
            " 1   Gender                object \n",
            " 2   Annual Income         float64\n",
            " 3   Marital Status        object \n",
            " 4   Number of Dependents  float64\n",
            " 5   Education Level       object \n",
            " 6   Occupation            object \n",
            " 7   Health Score          float64\n",
            " 8   Location              object \n",
            " 9   Policy Type           object \n",
            " 10  Previous Claims       float64\n",
            " 11  Vehicle Age           float64\n",
            " 12  Credit Score          float64\n",
            " 13  Insurance Duration    float64\n",
            " 14  Policy Start Date     object \n",
            " 15  Customer Feedback     object \n",
            " 16  Smoking Status        object \n",
            " 17  Exercise Frequency    object \n",
            " 18  Property Type         object \n",
            " 19  Premium Amount        float64\n",
            "dtypes: float64(9), object(11)\n",
            "memory usage: 320.4+ MB\n"
          ]
        }
      ]
    },
    {
      "cell_type": "code",
      "source": [
        "df.hist(bins=50, figsize=(20,15))\n",
        "plt.show()"
      ],
      "metadata": {
        "colab": {
          "base_uri": "https://localhost:8080/",
          "height": 798
        },
        "id": "yI0YYPZCHYhs",
        "outputId": "96bba1d9-ba93-44b3-e201-976831af6a1c"
      },
      "execution_count": 32,
      "outputs": [
        {
          "output_type": "display_data",
          "data": {
            "text/plain": [
              "<Figure size 2000x1500 with 9 Axes>"
            ],
            "image/png": "[encoded data removed]"
          },
          "metadata": {}
        }
      ]
    },
    {
      "cell_type": "code",
      "source": [
        "df1 = df.copy()"
      ],
      "metadata": {
        "id": "7EAzCoC7LBrB"
      },
      "execution_count": 33,
      "outputs": []
    },
    {
      "cell_type": "code",
      "source": [
        "# annual income has a long tail -> log transformer\n",
        "from sklearn.preprocessing import FunctionTransformer\n",
        "import numpy as np\n",
        "\n",
        "log_transformer = FunctionTransformer(np.log, inverse_func=np.exp)\n",
        "df1['Annual Income'] = log_transformer.fit_transform(df1[['Annual Income']])"
      ],
      "metadata": {
        "colab": {
          "base_uri": "https://localhost:8080/"
        },
        "id": "Vajl0gg-KVAX",
        "outputId": "bf6b9415-b7c7-4636-96d4-13c1eb980b41"
      },
      "execution_count": 34,
      "outputs": [
        {
          "output_type": "stream",
          "name": "stderr",
          "text": [
            "/usr/local/lib/python3.10/dist-packages/sklearn/preprocessing/_function_transformer.py:202: UserWarning: The provided functions are not strictly inverse of each other. If you are sure you want to proceed regardless, set 'check_inverse=False'.\n",
            "  warnings.warn(\n"
          ]
        }
      ]
    },
    {
      "cell_type": "code",
      "source": [
        "df1['Annual Income'].hist(bins=50, figsize=(20,15))\n",
        "plt.show()"
      ],
      "metadata": {
        "colab": {
          "base_uri": "https://localhost:8080/",
          "height": 779
        },
        "id": "XUbf7ze6LFS6",
        "outputId": "fffb5a5a-2ffc-4313-800e-2a1562c4ba96"
      },
      "execution_count": 35,
      "outputs": [
        {
          "output_type": "display_data",
          "data": {
            "text/plain": [
              "<Figure size 2000x1500 with 1 Axes>"
            ],
            "image/png": "[encoded data removed]"
          },
          "metadata": {}
        }
      ]
    },
    {
      "cell_type": "code",
      "source": [
        "df = df1.copy()"
      ],
      "metadata": {
        "id": "6agm6257LJJT"
      },
      "execution_count": 36,
      "outputs": []
    },
    {
      "cell_type": "code",
      "source": [
        "df.info()"
      ],
      "metadata": {
        "colab": {
          "base_uri": "https://localhost:8080/"
        },
        "id": "VRvAsd8kLXfU",
        "outputId": "592970fc-b1d8-428b-94e8-e47bda9db262"
      },
      "execution_count": 37,
      "outputs": [
        {
          "output_type": "stream",
          "name": "stdout",
          "text": [
            "<class 'pandas.core.frame.DataFrame'>\n",
            "Index: 2000000 entries, 0 to 799999\n",
            "Data columns (total 20 columns):\n",
            " #   Column                Dtype  \n",
            "---  ------                -----  \n",
            " 0   Age                   float64\n",
            " 1   Gender                object \n",
            " 2   Annual Income         float64\n",
            " 3   Marital Status        object \n",
            " 4   Number of Dependents  float64\n",
            " 5   Education Level       object \n",
            " 6   Occupation            object \n",
            " 7   Health Score          float64\n",
            " 8   Location              object \n",
            " 9   Policy Type           object \n",
            " 10  Previous Claims       float64\n",
            " 11  Vehicle Age           float64\n",
            " 12  Credit Score          float64\n",
            " 13  Insurance Duration    float64\n",
            " 14  Policy Start Date     object \n",
            " 15  Customer Feedback     object \n",
            " 16  Smoking Status        object \n",
            " 17  Exercise Frequency    object \n",
            " 18  Property Type         object \n",
            " 19  Premium Amount        float64\n",
            "dtypes: float64(9), object(11)\n",
            "memory usage: 320.4+ MB\n"
          ]
        }
      ]
    },
    {
      "cell_type": "code",
      "source": [
        "# fill nan by mode\n",
        "for col in df.columns:\n",
        "    if df[col].dtype == 'object':\n",
        "        df[col] = df[col].fillna(df[col].mode()[0])"
      ],
      "metadata": {
        "id": "6-Rkd1e_LcwD"
      },
      "execution_count": 38,
      "outputs": []
    },
    {
      "cell_type": "code",
      "source": [
        "df.info()"
      ],
      "metadata": {
        "colab": {
          "base_uri": "https://localhost:8080/"
        },
        "id": "0yqtrKp2Lzzi",
        "outputId": "720827ae-3fd8-4424-813c-5dd457d7e6a8"
      },
      "execution_count": 39,
      "outputs": [
        {
          "output_type": "stream",
          "name": "stdout",
          "text": [
            "<class 'pandas.core.frame.DataFrame'>\n",
            "Index: 2000000 entries, 0 to 799999\n",
            "Data columns (total 20 columns):\n",
            " #   Column                Dtype  \n",
            "---  ------                -----  \n",
            " 0   Age                   float64\n",
            " 1   Gender                object \n",
            " 2   Annual Income         float64\n",
            " 3   Marital Status        object \n",
            " 4   Number of Dependents  float64\n",
            " 5   Education Level       object \n",
            " 6   Occupation            object \n",
            " 7   Health Score          float64\n",
            " 8   Location              object \n",
            " 9   Policy Type           object \n",
            " 10  Previous Claims       float64\n",
            " 11  Vehicle Age           float64\n",
            " 12  Credit Score          float64\n",
            " 13  Insurance Duration    float64\n",
            " 14  Policy Start Date     object \n",
            " 15  Customer Feedback     object \n",
            " 16  Smoking Status        object \n",
            " 17  Exercise Frequency    object \n",
            " 18  Property Type         object \n",
            " 19  Premium Amount        float64\n",
            "dtypes: float64(9), object(11)\n",
            "memory usage: 320.4+ MB\n"
          ]
        }
      ]
    },
    {
      "cell_type": "code",
      "source": [
        "# fill nan by median\n",
        "for col in df.columns:\n",
        "    if df[col].dtype == 'float64' and col != 'Premium Amount':\n",
        "        median = df[col].median()\n",
        "        df[col] = df[col].fillna(median)"
      ],
      "metadata": {
        "id": "TGaZP0yZMSGN"
      },
      "execution_count": 40,
      "outputs": []
    },
    {
      "cell_type": "code",
      "source": [
        "df.info()"
      ],
      "metadata": {
        "colab": {
          "base_uri": "https://localhost:8080/"
        },
        "id": "5gKoIKmeNV8S",
        "outputId": "f6d4eb09-2957-4e13-b971-79922c3a2ece"
      },
      "execution_count": 41,
      "outputs": [
        {
          "output_type": "stream",
          "name": "stdout",
          "text": [
            "<class 'pandas.core.frame.DataFrame'>\n",
            "Index: 2000000 entries, 0 to 799999\n",
            "Data columns (total 20 columns):\n",
            " #   Column                Dtype  \n",
            "---  ------                -----  \n",
            " 0   Age                   float64\n",
            " 1   Gender                object \n",
            " 2   Annual Income         float64\n",
            " 3   Marital Status        object \n",
            " 4   Number of Dependents  float64\n",
            " 5   Education Level       object \n",
            " 6   Occupation            object \n",
            " 7   Health Score          float64\n",
            " 8   Location              object \n",
            " 9   Policy Type           object \n",
            " 10  Previous Claims       float64\n",
            " 11  Vehicle Age           float64\n",
            " 12  Credit Score          float64\n",
            " 13  Insurance Duration    float64\n",
            " 14  Policy Start Date     object \n",
            " 15  Customer Feedback     object \n",
            " 16  Smoking Status        object \n",
            " 17  Exercise Frequency    object \n",
            " 18  Property Type         object \n",
            " 19  Premium Amount        float64\n",
            "dtypes: float64(9), object(11)\n",
            "memory usage: 320.4+ MB\n"
          ]
        }
      ]
    },
    {
      "cell_type": "code",
      "source": [
        "df1 = df.copy()"
      ],
      "metadata": {
        "id": "Rre29RSvNq1i"
      },
      "execution_count": 42,
      "outputs": []
    },
    {
      "cell_type": "code",
      "source": [
        "# invert 'Policy Start Date' to 'Policy Start Year'\n",
        "df1['Policy Start Date'] = pd.to_datetime(df1['Policy Start Date'], errors='coerce', format=\"%Y-%m-%d\")\n",
        "df1['Policy Start Year'] = pd.DatetimeIndex(df['Policy Start Date']).year"
      ],
      "metadata": {
        "id": "zm8lk3QZNWl5"
      },
      "execution_count": 43,
      "outputs": []
    },
    {
      "cell_type": "code",
      "source": [
        "df1['Policy Start Year'].value_counts()"
      ],
      "metadata": {
        "colab": {
          "base_uri": "https://localhost:8080/",
          "height": 303
        },
        "id": "c1OJeUY2NxYX",
        "outputId": "17dca753-3759-445b-ff73-ebf1d6f7f9ac"
      },
      "execution_count": 44,
      "outputs": [
        {
          "output_type": "execute_result",
          "data": {
            "text/plain": [
              "Policy Start Year\n",
              "2022    409127\n",
              "2021    408649\n",
              "2020    402870\n",
              "2023    398493\n",
              "2024    240087\n",
              "2019    140774\n",
              "Name: count, dtype: int64"
            ],
            "text/html": [
              "<div>\n",
              "<style scoped>\n",
              "    .dataframe tbody tr th:only-of-type {\n",
              "        vertical-align: middle;\n",
              "    }\n",
              "\n",
              "    .dataframe tbody tr th {\n",
              "        vertical-align: top;\n",
              "    }\n",
              "\n",
              "    .dataframe thead th {\n",
              "        text-align: right;\n",
              "    }\n",
              "</style>\n",
              "<table border=\"1\" class=\"dataframe\">\n",
              "  <thead>\n",
              "    <tr style=\"text-align: right;\">\n",
              "      <th></th>\n",
              "      <th>count</th>\n",
              "    </tr>\n",
              "    <tr>\n",
              "      <th>Policy Start Year</th>\n",
              "      <th></th>\n",
              "    </tr>\n",
              "  </thead>\n",
              "  <tbody>\n",
              "    <tr>\n",
              "      <th>2022</th>\n",
              "      <td>409127</td>\n",
              "    </tr>\n",
              "    <tr>\n",
              "      <th>2021</th>\n",
              "      <td>408649</td>\n",
              "    </tr>\n",
              "    <tr>\n",
              "      <th>2020</th>\n",
              "      <td>402870</td>\n",
              "    </tr>\n",
              "    <tr>\n",
              "      <th>2023</th>\n",
              "      <td>398493</td>\n",
              "    </tr>\n",
              "    <tr>\n",
              "      <th>2024</th>\n",
              "      <td>240087</td>\n",
              "    </tr>\n",
              "    <tr>\n",
              "      <th>2019</th>\n",
              "      <td>140774</td>\n",
              "    </tr>\n",
              "  </tbody>\n",
              "</table>\n",
              "</div><br><label><b>dtype:</b> int64</label>"
            ]
          },
          "metadata": {},
          "execution_count": 44
        }
      ]
    },
    {
      "cell_type": "code",
      "source": [
        "df1['Policy Start Year'].astype('object')"
      ],
      "metadata": {
        "colab": {
          "base_uri": "https://localhost:8080/",
          "height": 458
        },
        "id": "gWUFZ5VuN0oI",
        "outputId": "e1c31832-c167-4669-965a-d3aed0148c49"
      },
      "execution_count": 45,
      "outputs": [
        {
          "output_type": "execute_result",
          "data": {
            "text/plain": [
              "0         2023\n",
              "1         2023\n",
              "2         2023\n",
              "3         2024\n",
              "4         2021\n",
              "          ... \n",
              "799995    2021\n",
              "799996    2023\n",
              "799997    2019\n",
              "799998    2022\n",
              "799999    2021\n",
              "Name: Policy Start Year, Length: 2000000, dtype: object"
            ],
            "text/html": [
              "<div>\n",
              "<style scoped>\n",
              "    .dataframe tbody tr th:only-of-type {\n",
              "        vertical-align: middle;\n",
              "    }\n",
              "\n",
              "    .dataframe tbody tr th {\n",
              "        vertical-align: top;\n",
              "    }\n",
              "\n",
              "    .dataframe thead th {\n",
              "        text-align: right;\n",
              "    }\n",
              "</style>\n",
              "<table border=\"1\" class=\"dataframe\">\n",
              "  <thead>\n",
              "    <tr style=\"text-align: right;\">\n",
              "      <th></th>\n",
              "      <th>Policy Start Year</th>\n",
              "    </tr>\n",
              "  </thead>\n",
              "  <tbody>\n",
              "    <tr>\n",
              "      <th>0</th>\n",
              "      <td>2023</td>\n",
              "    </tr>\n",
              "    <tr>\n",
              "      <th>1</th>\n",
              "      <td>2023</td>\n",
              "    </tr>\n",
              "    <tr>\n",
              "      <th>2</th>\n",
              "      <td>2023</td>\n",
              "    </tr>\n",
              "    <tr>\n",
              "      <th>3</th>\n",
              "      <td>2024</td>\n",
              "    </tr>\n",
              "    <tr>\n",
              "      <th>4</th>\n",
              "      <td>2021</td>\n",
              "    </tr>\n",
              "    <tr>\n",
              "      <th>...</th>\n",
              "      <td>...</td>\n",
              "    </tr>\n",
              "    <tr>\n",
              "      <th>799995</th>\n",
              "      <td>2021</td>\n",
              "    </tr>\n",
              "    <tr>\n",
              "      <th>799996</th>\n",
              "      <td>2023</td>\n",
              "    </tr>\n",
              "    <tr>\n",
              "      <th>799997</th>\n",
              "      <td>2019</td>\n",
              "    </tr>\n",
              "    <tr>\n",
              "      <th>799998</th>\n",
              "      <td>2022</td>\n",
              "    </tr>\n",
              "    <tr>\n",
              "      <th>799999</th>\n",
              "      <td>2021</td>\n",
              "    </tr>\n",
              "  </tbody>\n",
              "</table>\n",
              "<p>2000000 rows × 1 columns</p>\n",
              "</div><br><label><b>dtype:</b> object</label>"
            ]
          },
          "metadata": {},
          "execution_count": 45
        }
      ]
    },
    {
      "cell_type": "code",
      "source": [
        "df1['Policy Start Year'].value_counts()"
      ],
      "metadata": {
        "colab": {
          "base_uri": "https://localhost:8080/",
          "height": 303
        },
        "id": "Aqb-H4aTPYgM",
        "outputId": "b9f66915-d017-44fd-a30e-9eb4a7f85244"
      },
      "execution_count": 46,
      "outputs": [
        {
          "output_type": "execute_result",
          "data": {
            "text/plain": [
              "Policy Start Year\n",
              "2022    409127\n",
              "2021    408649\n",
              "2020    402870\n",
              "2023    398493\n",
              "2024    240087\n",
              "2019    140774\n",
              "Name: count, dtype: int64"
            ],
            "text/html": [
              "<div>\n",
              "<style scoped>\n",
              "    .dataframe tbody tr th:only-of-type {\n",
              "        vertical-align: middle;\n",
              "    }\n",
              "\n",
              "    .dataframe tbody tr th {\n",
              "        vertical-align: top;\n",
              "    }\n",
              "\n",
              "    .dataframe thead th {\n",
              "        text-align: right;\n",
              "    }\n",
              "</style>\n",
              "<table border=\"1\" class=\"dataframe\">\n",
              "  <thead>\n",
              "    <tr style=\"text-align: right;\">\n",
              "      <th></th>\n",
              "      <th>count</th>\n",
              "    </tr>\n",
              "    <tr>\n",
              "      <th>Policy Start Year</th>\n",
              "      <th></th>\n",
              "    </tr>\n",
              "  </thead>\n",
              "  <tbody>\n",
              "    <tr>\n",
              "      <th>2022</th>\n",
              "      <td>409127</td>\n",
              "    </tr>\n",
              "    <tr>\n",
              "      <th>2021</th>\n",
              "      <td>408649</td>\n",
              "    </tr>\n",
              "    <tr>\n",
              "      <th>2020</th>\n",
              "      <td>402870</td>\n",
              "    </tr>\n",
              "    <tr>\n",
              "      <th>2023</th>\n",
              "      <td>398493</td>\n",
              "    </tr>\n",
              "    <tr>\n",
              "      <th>2024</th>\n",
              "      <td>240087</td>\n",
              "    </tr>\n",
              "    <tr>\n",
              "      <th>2019</th>\n",
              "      <td>140774</td>\n",
              "    </tr>\n",
              "  </tbody>\n",
              "</table>\n",
              "</div><br><label><b>dtype:</b> int64</label>"
            ]
          },
          "metadata": {},
          "execution_count": 46
        }
      ]
    },
    {
      "cell_type": "code",
      "source": [
        "df['Policy Start Year'] = df1['Policy Start Year'].astype('object')"
      ],
      "metadata": {
        "id": "ZXpylmdAPaLy"
      },
      "execution_count": 47,
      "outputs": []
    },
    {
      "cell_type": "code",
      "source": [
        "df.info()"
      ],
      "metadata": {
        "colab": {
          "base_uri": "https://localhost:8080/"
        },
        "id": "iufZknqQPkDD",
        "outputId": "e45f3288-4478-429d-ebf8-ff8865880ea1"
      },
      "execution_count": 48,
      "outputs": [
        {
          "output_type": "stream",
          "name": "stdout",
          "text": [
            "<class 'pandas.core.frame.DataFrame'>\n",
            "Index: 2000000 entries, 0 to 799999\n",
            "Data columns (total 21 columns):\n",
            " #   Column                Dtype  \n",
            "---  ------                -----  \n",
            " 0   Age                   float64\n",
            " 1   Gender                object \n",
            " 2   Annual Income         float64\n",
            " 3   Marital Status        object \n",
            " 4   Number of Dependents  float64\n",
            " 5   Education Level       object \n",
            " 6   Occupation            object \n",
            " 7   Health Score          float64\n",
            " 8   Location              object \n",
            " 9   Policy Type           object \n",
            " 10  Previous Claims       float64\n",
            " 11  Vehicle Age           float64\n",
            " 12  Credit Score          float64\n",
            " 13  Insurance Duration    float64\n",
            " 14  Policy Start Date     object \n",
            " 15  Customer Feedback     object \n",
            " 16  Smoking Status        object \n",
            " 17  Exercise Frequency    object \n",
            " 18  Property Type         object \n",
            " 19  Premium Amount        float64\n",
            " 20  Policy Start Year     object \n",
            "dtypes: float64(9), object(12)\n",
            "memory usage: 335.7+ MB\n"
          ]
        }
      ]
    },
    {
      "cell_type": "code",
      "source": [
        "del df['Policy Start Date']"
      ],
      "metadata": {
        "id": "qChyLjdQQMPy"
      },
      "execution_count": 49,
      "outputs": []
    },
    {
      "cell_type": "code",
      "source": [
        "df.insert(14, 'Policy Start Year', df.pop('Policy Start Year'))"
      ],
      "metadata": {
        "id": "8OihUxz-Pk0n"
      },
      "execution_count": 50,
      "outputs": []
    },
    {
      "cell_type": "code",
      "source": [
        "df.info()"
      ],
      "metadata": {
        "colab": {
          "base_uri": "https://localhost:8080/"
        },
        "id": "hg-iD5YMQOWs",
        "outputId": "2e249944-dc34-4b4d-a691-e298299fa42c"
      },
      "execution_count": 51,
      "outputs": [
        {
          "output_type": "stream",
          "name": "stdout",
          "text": [
            "<class 'pandas.core.frame.DataFrame'>\n",
            "Index: 2000000 entries, 0 to 799999\n",
            "Data columns (total 20 columns):\n",
            " #   Column                Dtype  \n",
            "---  ------                -----  \n",
            " 0   Age                   float64\n",
            " 1   Gender                object \n",
            " 2   Annual Income         float64\n",
            " 3   Marital Status        object \n",
            " 4   Number of Dependents  float64\n",
            " 5   Education Level       object \n",
            " 6   Occupation            object \n",
            " 7   Health Score          float64\n",
            " 8   Location              object \n",
            " 9   Policy Type           object \n",
            " 10  Previous Claims       float64\n",
            " 11  Vehicle Age           float64\n",
            " 12  Credit Score          float64\n",
            " 13  Insurance Duration    float64\n",
            " 14  Policy Start Year     object \n",
            " 15  Customer Feedback     object \n",
            " 16  Smoking Status        object \n",
            " 17  Exercise Frequency    object \n",
            " 18  Property Type         object \n",
            " 19  Premium Amount        float64\n",
            "dtypes: float64(9), object(11)\n",
            "memory usage: 320.4+ MB\n"
          ]
        }
      ]
    },
    {
      "cell_type": "code",
      "source": [
        "df_final = pd.get_dummies(df, dtype='int')"
      ],
      "metadata": {
        "id": "doABe4FtQO3B"
      },
      "execution_count": 52,
      "outputs": []
    },
    {
      "cell_type": "code",
      "source": [
        "len(df_final.columns)"
      ],
      "metadata": {
        "colab": {
          "base_uri": "https://localhost:8080/"
        },
        "id": "BLoecOYdQoNL",
        "outputId": "ef26ee26-bd03-4cae-e17b-56b3d4b02ebe"
      },
      "execution_count": 53,
      "outputs": [
        {
          "output_type": "execute_result",
          "data": {
            "text/plain": [
              "45"
            ]
          },
          "metadata": {},
          "execution_count": 53
        }
      ]
    },
    {
      "cell_type": "code",
      "source": [
        "train = df_final.iloc[:len(train)]\n",
        "test = df_final.iloc[len(train):]"
      ],
      "metadata": {
        "id": "a8TTMevZQtmM"
      },
      "execution_count": 54,
      "outputs": []
    },
    {
      "cell_type": "code",
      "source": [
        "train.info()"
      ],
      "metadata": {
        "colab": {
          "base_uri": "https://localhost:8080/"
        },
        "id": "Mzna5_-VQ8ZV",
        "outputId": "7388e3b5-d135-44e9-e382-64c6583b1ab2"
      },
      "execution_count": 55,
      "outputs": [
        {
          "output_type": "stream",
          "name": "stdout",
          "text": [
            "<class 'pandas.core.frame.DataFrame'>\n",
            "Index: 1200000 entries, 0 to 1199999\n",
            "Data columns (total 45 columns):\n",
            " #   Column                       Non-Null Count    Dtype  \n",
            "---  ------                       --------------    -----  \n",
            " 0   Age                          1200000 non-null  float64\n",
            " 1   Annual Income                1200000 non-null  float64\n",
            " 2   Number of Dependents         1200000 non-null  float64\n",
            " 3   Health Score                 1200000 non-null  float64\n",
            " 4   Previous Claims              1200000 non-null  float64\n",
            " 5   Vehicle Age                  1200000 non-null  float64\n",
            " 6   Credit Score                 1200000 non-null  float64\n",
            " 7   Insurance Duration           1200000 non-null  float64\n",
            " 8   Premium Amount               1200000 non-null  float64\n",
            " 9   Gender_Female                1200000 non-null  int64  \n",
            " 10  Gender_Male                  1200000 non-null  int64  \n",
            " 11  Marital Status_Divorced      1200000 non-null  int64  \n",
            " 12  Marital Status_Married       1200000 non-null  int64  \n",
            " 13  Marital Status_Single        1200000 non-null  int64  \n",
            " 14  Education Level_Bachelor's   1200000 non-null  int64  \n",
            " 15  Education Level_High School  1200000 non-null  int64  \n",
            " 16  Education Level_Master's     1200000 non-null  int64  \n",
            " 17  Education Level_PhD          1200000 non-null  int64  \n",
            " 18  Occupation_Employed          1200000 non-null  int64  \n",
            " 19  Occupation_Self-Employed     1200000 non-null  int64  \n",
            " 20  Occupation_Unemployed        1200000 non-null  int64  \n",
            " 21  Location_Rural               1200000 non-null  int64  \n",
            " 22  Location_Suburban            1200000 non-null  int64  \n",
            " 23  Location_Urban               1200000 non-null  int64  \n",
            " 24  Policy Type_Basic            1200000 non-null  int64  \n",
            " 25  Policy Type_Comprehensive    1200000 non-null  int64  \n",
            " 26  Policy Type_Premium          1200000 non-null  int64  \n",
            " 27  Policy Start Year_2019       1200000 non-null  int64  \n",
            " 28  Policy Start Year_2020       1200000 non-null  int64  \n",
            " 29  Policy Start Year_2021       1200000 non-null  int64  \n",
            " 30  Policy Start Year_2022       1200000 non-null  int64  \n",
            " 31  Policy Start Year_2023       1200000 non-null  int64  \n",
            " 32  Policy Start Year_2024       1200000 non-null  int64  \n",
            " 33  Customer Feedback_Average    1200000 non-null  int64  \n",
            " 34  Customer Feedback_Good       1200000 non-null  int64  \n",
            " 35  Customer Feedback_Poor       1200000 non-null  int64  \n",
            " 36  Smoking Status_No            1200000 non-null  int64  \n",
            " 37  Smoking Status_Yes           1200000 non-null  int64  \n",
            " 38  Exercise Frequency_Daily     1200000 non-null  int64  \n",
            " 39  Exercise Frequency_Monthly   1200000 non-null  int64  \n",
            " 40  Exercise Frequency_Rarely    1200000 non-null  int64  \n",
            " 41  Exercise Frequency_Weekly    1200000 non-null  int64  \n",
            " 42  Property Type_Apartment      1200000 non-null  int64  \n",
            " 43  Property Type_Condo          1200000 non-null  int64  \n",
            " 44  Property Type_House          1200000 non-null  int64  \n",
            "dtypes: float64(9), int64(36)\n",
            "memory usage: 421.1 MB\n"
          ]
        }
      ]
    },
    {
      "cell_type": "code",
      "source": [
        "test.info()"
      ],
      "metadata": {
        "colab": {
          "base_uri": "https://localhost:8080/"
        },
        "id": "UjLT2bZRQ9s-",
        "outputId": "be75a34b-2ec7-49d1-b3eb-0e001addd430"
      },
      "execution_count": 56,
      "outputs": [
        {
          "output_type": "stream",
          "name": "stdout",
          "text": [
            "<class 'pandas.core.frame.DataFrame'>\n",
            "Index: 800000 entries, 0 to 799999\n",
            "Data columns (total 45 columns):\n",
            " #   Column                       Non-Null Count   Dtype  \n",
            "---  ------                       --------------   -----  \n",
            " 0   Age                          800000 non-null  float64\n",
            " 1   Annual Income                800000 non-null  float64\n",
            " 2   Number of Dependents         800000 non-null  float64\n",
            " 3   Health Score                 800000 non-null  float64\n",
            " 4   Previous Claims              800000 non-null  float64\n",
            " 5   Vehicle Age                  800000 non-null  float64\n",
            " 6   Credit Score                 800000 non-null  float64\n",
            " 7   Insurance Duration           800000 non-null  float64\n",
            " 8   Premium Amount               0 non-null       float64\n",
            " 9   Gender_Female                800000 non-null  int64  \n",
            " 10  Gender_Male                  800000 non-null  int64  \n",
            " 11  Marital Status_Divorced      800000 non-null  int64  \n",
            " 12  Marital Status_Married       800000 non-null  int64  \n",
            " 13  Marital Status_Single        800000 non-null  int64  \n",
            " 14  Education Level_Bachelor's   800000 non-null  int64  \n",
            " 15  Education Level_High School  800000 non-null  int64  \n",
            " 16  Education Level_Master's     800000 non-null  int64  \n",
            " 17  Education Level_PhD          800000 non-null  int64  \n",
            " 18  Occupation_Employed          800000 non-null  int64  \n",
            " 19  Occupation_Self-Employed     800000 non-null  int64  \n",
            " 20  Occupation_Unemployed        800000 non-null  int64  \n",
            " 21  Location_Rural               800000 non-null  int64  \n",
            " 22  Location_Suburban            800000 non-null  int64  \n",
            " 23  Location_Urban               800000 non-null  int64  \n",
            " 24  Policy Type_Basic            800000 non-null  int64  \n",
            " 25  Policy Type_Comprehensive    800000 non-null  int64  \n",
            " 26  Policy Type_Premium          800000 non-null  int64  \n",
            " 27  Policy Start Year_2019       800000 non-null  int64  \n",
            " 28  Policy Start Year_2020       800000 non-null  int64  \n",
            " 29  Policy Start Year_2021       800000 non-null  int64  \n",
            " 30  Policy Start Year_2022       800000 non-null  int64  \n",
            " 31  Policy Start Year_2023       800000 non-null  int64  \n",
            " 32  Policy Start Year_2024       800000 non-null  int64  \n",
            " 33  Customer Feedback_Average    800000 non-null  int64  \n",
            " 34  Customer Feedback_Good       800000 non-null  int64  \n",
            " 35  Customer Feedback_Poor       800000 non-null  int64  \n",
            " 36  Smoking Status_No            800000 non-null  int64  \n",
            " 37  Smoking Status_Yes           800000 non-null  int64  \n",
            " 38  Exercise Frequency_Daily     800000 non-null  int64  \n",
            " 39  Exercise Frequency_Monthly   800000 non-null  int64  \n",
            " 40  Exercise Frequency_Rarely    800000 non-null  int64  \n",
            " 41  Exercise Frequency_Weekly    800000 non-null  int64  \n",
            " 42  Property Type_Apartment      800000 non-null  int64  \n",
            " 43  Property Type_Condo          800000 non-null  int64  \n",
            " 44  Property Type_House          800000 non-null  int64  \n",
            "dtypes: float64(9), int64(36)\n",
            "memory usage: 280.8 MB\n"
          ]
        }
      ]
    },
    {
      "cell_type": "code",
      "source": [
        "train.to_csv('train_01.csv', index=False)\n",
        "test.to_csv('test_01.csv', index=False)"
      ],
      "metadata": {
        "id": "yqDFCntTSU6u"
      },
      "execution_count": 57,
      "outputs": []
    }
  ]
}
